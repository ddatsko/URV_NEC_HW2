{
 "cells": [
  {
   "cell_type": "code",
   "execution_count": 78,
   "metadata": {
    "collapsed": true
   },
   "outputs": [],
   "source": [
    "import numpy as np\n",
    "import matplotlib.pyplot as plt\n",
    "import pandas as pd\n",
    "import torch\n",
    "import torch.nn as nn\n",
    "import random\n",
    "from sklearn.linear_model import LinearRegression\n",
    "from sklearn.decomposition import PCA\n",
    "from sklearn.svm import SVC\n",
    "import torch.nn.functional as F\n",
    "import copy"
   ]
  },
  {
   "cell_type": "markdown",
   "metadata": {
    "collapsed": false
   },
   "source": [
    "#### Firstly, define some common functions to make things easier in the future"
   ]
  },
  {
   "cell_type": "code",
   "execution_count": 2,
   "metadata": {
    "collapsed": false
   },
   "outputs": [],
   "source": [
    "# pyTorch neural network class\n",
    "\n",
    "class MyPytorchNetwork(nn.Module):\n",
    "    def __init__(self, layers, activation):\n",
    "        super(MyPytorchNetwork, self).__init__()\n",
    "        self.activation = activation\n",
    "        self.fc_layers = nn.ModuleList([nn.Linear(layers[i], layers[i + 1]) for i in range(len(layers) - 1)])\n",
    "\n",
    "    def forward(self, x):\n",
    "        x = torch.flatten(x, 1)\n",
    "\n",
    "        # TODO: I'm using relus everywhere for now, we need to change it to be adjustable\n",
    "        for layer in self.fc_layers[:-1]:\n",
    "            if self.activation == 'linear':\n",
    "                x = layer(x)\n",
    "            elif self.activation == 'relu':\n",
    "                x = F.relu(layer(x))\n",
    "            elif self.activation == 'sigmoid':\n",
    "                x = torch.sigmoid(layer(x))\n",
    "            elif self.activation == 'tanh':\n",
    "                x = torch.tanh(layer(x))\n",
    "            else:\n",
    "                raise ValueError(f\"Activation funtion {self.activation} is invalid\")\n",
    "\n",
    "        # Always sigmoid on the last lauer\n",
    "        return torch.sigmoid(self.fc_layers[-1](x))\n",
    "\n",
    "\n",
    "def train_torch_network(network: MyPytorchNetwork, dataset, max_epochs, batch_size, train_ratio=0.8,\n",
    "                        learning_rate=0.001, momentum=0.9, silent=False):\n",
    "    loss_fn = torch.nn.BCELoss()\n",
    "    # TODO: think of making the learning rate adaptive here, e.g. by using pytorch LR scheduler\n",
    "    optimizer = torch.optim.SGD(network.parameters(), lr=learning_rate, momentum=momentum)\n",
    "    split_index = int(dataset.shape[0] * train_ratio)\n",
    "    train, validation = dataset[:split_index, :], torch.from_numpy(dataset[split_index:, :])\n",
    "\n",
    "    best_validation_loss = float(\"inf\")\n",
    "    best_network = copy.deepcopy(network)\n",
    "\n",
    "    for epoch in range(max_epochs):\n",
    "        np.random.shuffle(train)\n",
    "        torch_train = torch.from_numpy(train)\n",
    "        batch_start_idx = 0\n",
    "\n",
    "        batches_loss = []\n",
    "        # This way we skip last samples if there are less than batch_size of them\n",
    "        while batch_start_idx + batch_size <= torch_train.shape[0]:\n",
    "            optimizer.zero_grad()\n",
    "            outputs = network(torch_train[batch_start_idx:batch_start_idx + batch_size, :-1])\n",
    "            loss = loss_fn(torch.flatten(outputs), torch_train[batch_start_idx:batch_start_idx + batch_size, -1])\n",
    "            batches_loss.append(loss.item())\n",
    "\n",
    "            loss.backward()\n",
    "\n",
    "            optimizer.step()\n",
    "            batch_start_idx += batch_size\n",
    "\n",
    "        # Now, check the loss on validation dataset\n",
    "        validation_output = torch.flatten(network(validation[:, :-1]))\n",
    "        validation_loss = loss_fn(validation_output, validation[:, -1])\n",
    "        # print(f\"{validation_loss=}\")\n",
    "\n",
    "        if validation_loss < best_validation_loss:\n",
    "            best_validation_loss = validation_loss\n",
    "            best_network = copy.deepcopy(network)\n",
    "\n",
    "\n",
    "        if not silent:\n",
    "            print(\n",
    "                f\"Epoch: {epoch}. \\nLoss on training: {np.mean(batches_loss)} \\nLoss on validation: {validation_loss} \\n##########\")\n",
    "\n",
    "    return best_network\n"
   ]
  },
  {
   "cell_type": "code",
   "execution_count": 77,
   "metadata": {
    "collapsed": false
   },
   "outputs": [],
   "source": [
    "def run_svm(svm_parameters, train_dataset, test_inputs) -> np.array:\n",
    "    svc = SVC(**svm_parameters)\n",
    "    svc.fit(train_dataset[:, :-1], train_dataset[:, -1])\n",
    "    return svc.predict(test_inputs)\n",
    "\n",
    "\n",
    "def run_linear_regression(train_dataset, test_inputs) -> np.array:\n",
    "    \"\"\"\n",
    "    Train a linear regression on train_inputs, and predict data for test_inputs\n",
    "    \"\"\"\n",
    "    reg = LinearRegression().fit(train_dataset[:, :-1], train_dataset[:, -1])\n",
    "    prediction = reg.predict(test_inputs)\n",
    "    prediction[prediction > 0.5] = 1\n",
    "    prediction[prediction != 1] = 0\n",
    "    return prediction\n",
    "\n",
    "\n",
    "def run_linear_regression_get_real_scores(train_dataset, test_inputs) -> np.array:\n",
    "    \"\"\"\n",
    "    Train a linear regression on train_inputs, and predict data for test_inputs\n",
    "    \"\"\"\n",
    "    reg = LinearRegression().fit(train_dataset[:, :-1], train_dataset[:, -1])\n",
    "    prediction = reg.predict(test_inputs)\n",
    "    return prediction\n",
    "\n",
    "def run_pytorch_network(network_parameters, lr, momentum, epochs, train_dataset, test_inputs, silent=True, real_outputs=False) -> np.array:\n",
    "    \"\"\"\n",
    "    Train a pytorch network and predict outputs for test_inputs\n",
    "    \"\"\"\n",
    "    torch.manual_seed(0)\n",
    "    random.seed(42)\n",
    "    np.random.seed(42)\n",
    "    network = MyPytorchNetwork(*network_parameters)\n",
    "    network = train_torch_network(network, train_dataset, epochs, 10, learning_rate=lr, silent=silent, momentum=momentum,\n",
    "                        train_ratio=0.8)\n",
    "    prediction = network(torch.from_numpy(test_inputs)).detach().numpy().flatten()\n",
    "    if not real_outputs:\n",
    "        prediction[prediction > 0.5] = 1\n",
    "        prediction[prediction != 1] = 0\n",
    "    return prediction"
   ]
  },
  {
   "cell_type": "code",
   "execution_count": 4,
   "metadata": {
    "collapsed": false
   },
   "outputs": [],
   "source": [
    "def classification_error(real_values, predictions):\n",
    "    return 100 * np.sum(np.abs(real_values - predictions)) / real_values.shape[0]\n",
    "\n",
    "\n",
    "def n_folds(n, train_data, model, silent=True):\n",
    "    # Maybe this is not the best place to set the seed, but this case each run of the function is predictable\n",
    "    np.random.seed(42)\n",
    "    np.random.shuffle(train_data)\n",
    "    split_indices = [int(i * train_data.shape[0] / n) for i in range(n + 1)]\n",
    "    errors = []\n",
    "\n",
    "    for i in range(n):\n",
    "        split_validation = train_data[split_indices[i]:split_indices[i + 1], :]\n",
    "        split_training = np.vstack((train_data[:split_indices[i], :], train_data[split_indices[i + 1]:, :]))\n",
    "        split_pred = model(split_training, split_validation[:, :-1])\n",
    "        error = classification_error(split_pred, split_validation[:, -1])\n",
    "        if not silent:\n",
    "            print(f\"Error on one validation split: {error=}\")\n",
    "        errors.append(error)\n",
    "    return np.mean(error)\n"
   ]
  },
  {
   "cell_type": "code",
   "execution_count": null,
   "metadata": {},
   "outputs": [],
   "source": [
    "import matplotlib.pyplot as plt\n",
    "from sklearn.metrics import confusion_matrix\n",
    "from sklearn.metrics import ConfusionMatrixDisplay\n",
    "\n",
    "def plot_confusion_matrix(real_values, predictions, class_names):\n",
    "    cm = confusion_matrix(real_values, predictions)\n",
    "    disp = ConfusionMatrixDisplay(confusion_matrix=cm, display_labels=class_names)\n",
    "    \n",
    "    # Plotting the confusion matrix as a heatmap\n",
    "    disp.plot(cmap='Blues', values_format='d')\n",
    "    \n",
    "    plt.title('Confusion Matrix')\n",
    "    plt.show()\n"
   ]
  },
  {
   "cell_type": "code",
   "execution_count": 60,
   "metadata": {},
   "outputs": [],
   "source": [
    "import numpy as np\n",
    "from sklearn import metrics\n",
    "from sklearn.metrics import roc_auc_score\n",
    "\n",
    "def plot_roc_curve(real, prediction_score):\n",
    "    fpr, tpr, thresholds = metrics.roc_curve(real,prediction_score)\n",
    "    print(roc_auc_score(real,prediction_score))\n",
    "    \n",
    "\n",
    "    plt.plot([0,1], [0,1], '--')\n",
    "    plt.plot(fpr, tpr)\n",
    "    plt.xlabel(\"False Positive Rate\")\n",
    "    plt.ylabel(\"True Positive Rate\")\n",
    "    plt.title('ROC Curve')\n",
    "    plt.show()\n",
    "\n",
    "    # Find the optimal threshold point\n",
    "    i = np.arange(len(tpr))\n",
    "    roc = pd.DataFrame({'tf' : pd.Series(tpr-(1-fpr), index=i), 'threshold' : pd.Series(thresholds, index=i)})\n",
    "    roc_t = roc.iloc[(roc.tf-0).abs().argsort()[:1]]\n",
    "    return list(roc_t['threshold'])\n",
    "\n",
    "\n"
   ]
  },
  {
   "cell_type": "markdown",
   "metadata": {
    "collapsed": false
   },
   "source": [
    "### Trying with \"ring\" dataset"
   ]
  },
  {
   "cell_type": "code",
   "execution_count": 94,
   "metadata": {
    "collapsed": false
   },
   "outputs": [],
   "source": [
    "def plot_ring_pred(data, pred):\n",
    "    plt.scatter(data[pred == 0, 0], data[pred == 0, 1], color='blue')\n",
    "    plt.scatter(data[pred == 1, 0], data[pred == 1, 1], color='red')\n",
    "    plt.axis('equal')"
   ]
  },
  {
   "cell_type": "code",
   "execution_count": 95,
   "metadata": {
    "collapsed": false
   },
   "outputs": [
    {
     "data": {
      "text/plain": "<Figure size 432x288 with 1 Axes>",
      "image/png": "[encoded data removed]"
     },
     "metadata": {
      "needs_background": "light"
     },
     "output_type": "display_data"
    }
   ],
   "source": [
    "# Firstly, try with the separable one\n",
    "ring_sep = np.genfromtxt(\"A2-ring/A2-ring-separable.txt\", dtype=np.float32, delimiter=\"\\t\")\n",
    "ring_merged = np.genfromtxt(\"A2-ring/A2-ring-merged.txt\", dtype=np.float32, delimiter=\"\\t\")\n",
    "ring_test = np.genfromtxt(\"A2-ring/A2-ring-test.txt\", dtype=np.float32, delimiter=\"\\t\")\n",
    "plot_ring_pred(ring_sep[:, :2], ring_sep[:, 2])"
   ]
  },
  {
   "cell_type": "code",
   "execution_count": 96,
   "metadata": {
    "collapsed": false
   },
   "outputs": [
    {
     "name": "stdout",
     "output_type": "stream",
     "text": [
      "Error on one validation split: error=47.45\n",
      "Error on one validation split: error=49.7\n",
      "Error on one validation split: error=46.4\n",
      "Error on one validation split: error=47.3\n",
      "Error on one validation split: error=49.0\n"
     ]
    },
    {
     "data": {
      "text/plain": "49.0"
     },
     "execution_count": 96,
     "metadata": {},
     "output_type": "execute_result"
    }
   ],
   "source": [
    "n_folds(5, ring_sep, lambda *params: run_svm({\"kernel\": \"linear\"}, *params), silent=False)"
   ]
  },
  {
   "cell_type": "code",
   "execution_count": 97,
   "metadata": {
    "collapsed": false
   },
   "outputs": [],
   "source": [
    "# Plotting the data\n",
    "pred = run_svm({\"kernel\": \"linear\"}, ring_sep, ring_test[:, :-1])"
   ]
  },
  {
   "cell_type": "code",
   "execution_count": 98,
   "metadata": {
    "collapsed": false
   },
   "outputs": [
    {
     "data": {
      "text/plain": "<Figure size 432x288 with 2 Axes>",
      "image/png": "[encoded data removed]"
     },
     "metadata": {
      "needs_background": "light"
     },
     "output_type": "display_data"
    }
   ],
   "source": [
    "plt.subplot(1, 2, 1)\n",
    "plot_ring_pred(ring_test[:, :2], ring_test[:, 2])\n",
    "plt.subplot(1, 2, 2)\n",
    "plot_ring_pred(ring_test[:, :2], pred)"
   ]
  },
  {
   "cell_type": "markdown",
   "metadata": {
    "collapsed": false
   },
   "source": [
    "As predicted, an SVM with linear kernel cannot properly separate such data"
   ]
  },
  {
   "cell_type": "code",
   "execution_count": 99,
   "metadata": {
    "collapsed": false
   },
   "outputs": [
    {
     "name": "stdout",
     "output_type": "stream",
     "text": [
      "Testing with parameters: {'kernel': 'rbf', 'C': 100, 'gamma': 4}\n",
      "Error on one validation split: error=0.35\n",
      "Error on one validation split: error=0.85\n",
      "Error on one validation split: error=0.35\n",
      "Error on one validation split: error=0.35\n",
      "Error on one validation split: error=0.7\n",
      "Testing with parameters: {'kernel': 'rbf', 'C': 1, 'gamma': 1}\n",
      "Error on one validation split: error=4.15\n",
      "Error on one validation split: error=3.55\n",
      "Error on one validation split: error=4.0\n",
      "Error on one validation split: error=3.8\n",
      "Error on one validation split: error=3.5\n",
      "Testing with parameters: {'kernel': 'poly', 'degree': 5}\n",
      "Error on one validation split: error=48.5\n",
      "Error on one validation split: error=48.1\n",
      "Error on one validation split: error=46.75\n",
      "Error on one validation split: error=47.6\n",
      "Error on one validation split: error=48.9\n",
      "Testing with parameters: {'kernel': 'linear'}\n",
      "Error on one validation split: error=48.9\n",
      "Error on one validation split: error=48.35\n",
      "Error on one validation split: error=48.3\n",
      "Error on one validation split: error=47.95\n",
      "Error on one validation split: error=46.35\n",
      "Testing with parameters: {'kernel': 'sigmoid'}\n",
      "Error on one validation split: error=51.6\n",
      "Error on one validation split: error=49.75\n",
      "Error on one validation split: error=50.8\n",
      "Error on one validation split: error=51.2\n",
      "Error on one validation split: error=50.55\n"
     ]
    }
   ],
   "source": [
    "testing_svm_params = [\n",
    "    {\"kernel\": \"rbf\", \"C\": 100, \"gamma\": 4},\n",
    "    {\"kernel\": \"rbf\", \"C\": 1, \"gamma\": 1},\n",
    "    {\"kernel\": \"poly\", \"degree\": 5},\n",
    "    {\"kernel\": \"linear\"},\n",
    "    {\"kernel\": \"sigmoid\"}\n",
    "]\n",
    "\n",
    "for svm_params in testing_svm_params:\n",
    "    print(f\"Testing with parameters: {svm_params}\")\n",
    "    n_folds(5, ring_sep, lambda *params: run_svm(svm_params, *params), silent=False)\n"
   ]
  },
  {
   "cell_type": "markdown",
   "source": [
    "As we can see, the best performance is obtained with rbf kernel with quite high C and gamma values. We now use these values to train a final model and evaluate it on test data"
   ],
   "metadata": {
    "collapsed": false
   }
  },
  {
   "cell_type": "code",
   "execution_count": 101,
   "outputs": [
    {
     "name": "stdout",
     "output_type": "stream",
     "text": [
      "Error: 0.31%\n"
     ]
    },
    {
     "data": {
      "text/plain": "<Figure size 432x288 with 2 Axes>",
      "image/png": "[encoded data removed]"
     },
     "metadata": {
      "needs_background": "light"
     },
     "output_type": "display_data"
    }
   ],
   "source": [
    "\n",
    "pred = run_svm({\"kernel\": \"rbf\", \"C\": 100, \"gamma\": 4}, ring_sep, ring_test[:, :-1])\n",
    "plt.subplot(1, 2, 1)\n",
    "plot_ring_pred(ring_test[:, :2], ring_test[:, 2])\n",
    "plt.subplot(1, 2, 2)\n",
    "plot_ring_pred(ring_test[:, :2], pred)\n",
    "print(f\"Error: {classification_error(pred, ring_test[:, -1])}%\")"
   ],
   "metadata": {
    "collapsed": false
   }
  },
  {
   "cell_type": "code",
   "execution_count": 103,
   "outputs": [
    {
     "data": {
      "text/plain": "<Figure size 432x288 with 2 Axes>",
      "image/png": "[encoded data removed]"
     },
     "metadata": {
      "needs_background": "light"
     },
     "output_type": "display_data"
    }
   ],
   "source": [
    "plot_confusion_matrix(ring_test[:, -1], pred, ['0', '1'])"
   ],
   "metadata": {
    "collapsed": false
   }
  },
  {
   "cell_type": "markdown",
   "metadata": {
    "collapsed": false
   },
   "source": [
    "Again, the radial kernel works perfectly with pretty large gamma and large C. However, these parameters need to be tuned better when dealing with merged data. As we can see in the following section, during cross validation the error is pretty large, as the data is tightly \"merged\" into each other. However, the test set is a subset of separable one, and on it only a small amount of samples are misclassified"
   ]
  },
  {
   "cell_type": "code",
   "execution_count": 105,
   "metadata": {
    "collapsed": false
   },
   "outputs": [
    {
     "name": "stdout",
     "output_type": "stream",
     "text": [
      "Testing with parameters: {'kernel': 'rbf', 'C': 100, 'gamma': 4}\n",
      "Error on one validation split: error=21.7\n",
      "Error on one validation split: error=21.4\n",
      "Error on one validation split: error=22.45\n",
      "Error on one validation split: error=21.9\n",
      "Error on one validation split: error=22.05\n",
      "Testing with parameters: {'kernel': 'rbf', 'C': 1, 'gamma': 1}\n",
      "Error on one validation split: error=25.05\n",
      "Error on one validation split: error=22.25\n",
      "Error on one validation split: error=23.2\n",
      "Error on one validation split: error=23.55\n",
      "Error on one validation split: error=21.5\n",
      "Testing with parameters: {'kernel': 'poly', 'degree': 5}\n",
      "Error on one validation split: error=43.8\n",
      "Error on one validation split: error=45.5\n",
      "Error on one validation split: error=45.2\n",
      "Error on one validation split: error=43.6\n",
      "Error on one validation split: error=46.15\n",
      "Testing with parameters: {'kernel': 'linear'}\n",
      "Error on one validation split: error=45.4\n",
      "Error on one validation split: error=45.55\n",
      "Error on one validation split: error=44.45\n",
      "Error on one validation split: error=44.1\n",
      "Error on one validation split: error=44.75\n",
      "Testing with parameters: {'kernel': 'sigmoid'}\n",
      "Error on one validation split: error=49.65\n",
      "Error on one validation split: error=52.95\n",
      "Error on one validation split: error=50.65\n",
      "Error on one validation split: error=52.6\n",
      "Error on one validation split: error=51.0\n"
     ]
    }
   ],
   "source": [
    "testing_svm_params = [\n",
    "    {\"kernel\": \"rbf\", \"C\": 100, \"gamma\": 4},\n",
    "    {\"kernel\": \"rbf\", \"C\": 1, \"gamma\": 1},\n",
    "    {\"kernel\": \"poly\", \"degree\": 5},\n",
    "    {\"kernel\": \"linear\"},\n",
    "    {\"kernel\": \"sigmoid\"}\n",
    "]\n",
    "\n",
    "for svm_params in testing_svm_params:\n",
    "    print(f\"Testing with parameters: {svm_params}\")\n",
    "    n_folds(5, ring_merged, lambda *params: run_svm(svm_params, *params), silent=False)\n",
    "\n"
   ]
  },
  {
   "cell_type": "code",
   "execution_count": 106,
   "outputs": [
    {
     "name": "stdout",
     "output_type": "stream",
     "text": [
      "Error: 3.28%\n"
     ]
    },
    {
     "data": {
      "text/plain": "<Figure size 432x288 with 2 Axes>",
      "image/png": "[encoded data removed]"
     },
     "metadata": {
      "needs_background": "light"
     },
     "output_type": "display_data"
    }
   ],
   "source": [
    "pred = run_svm({\"kernel\": \"rbf\", \"C\": 100, \"gamma\": 4}, ring_merged, ring_test[:, :-1])\n",
    "plt.subplot(1, 2, 1)\n",
    "plot_ring_pred(ring_test[:, :2], ring_test[:, 2])\n",
    "plt.subplot(1, 2, 2)\n",
    "plot_ring_pred(ring_test[:, :2], pred)\n",
    "print(f\"Error: {classification_error(pred, ring_test[:, -1])}%\")"
   ],
   "metadata": {
    "collapsed": false
   }
  },
  {
   "cell_type": "code",
   "execution_count": 107,
   "outputs": [
    {
     "data": {
      "text/plain": "<Figure size 432x288 with 2 Axes>",
      "image/png": "[encoded data removed]"
     },
     "metadata": {
      "needs_background": "light"
     },
     "output_type": "display_data"
    }
   ],
   "source": [
    "plot_confusion_matrix(ring_test[:, -1], pred, ['0', '1'])"
   ],
   "metadata": {
    "collapsed": false
   }
  },
  {
   "cell_type": "code",
   "execution_count": 42,
   "outputs": [
    {
     "name": "stdout",
     "output_type": "stream",
     "text": [
      "Error: 2.08%\n"
     ]
    },
    {
     "data": {
      "text/plain": "<Figure size 432x288 with 2 Axes>",
      "image/png": "[encoded data removed]"
     },
     "metadata": {
      "needs_background": "light"
     },
     "output_type": "display_data"
    }
   ],
   "source": [],
   "metadata": {
    "collapsed": false
   }
  },
  {
   "cell_type": "markdown",
   "metadata": {
    "collapsed": false
   },
   "source": [
    "#### As expected, linear regression cannot classify the data, so the best it can do is to classify all the elements into more represented class"
   ]
  },
  {
   "cell_type": "code",
   "execution_count": 46,
   "metadata": {
    "collapsed": false
   },
   "outputs": [
    {
     "name": "stdout",
     "output_type": "stream",
     "text": [
      "Error on one validation split: error=55.15\n",
      "Error on one validation split: error=55.1\n",
      "Error on one validation split: error=53.95\n",
      "Error on one validation split: error=55.2\n",
      "Error on one validation split: error=56.35\n",
      "Error on one validation split: error=49.9\n",
      "Error on one validation split: error=51.15\n",
      "Error on one validation split: error=52.0\n",
      "Error on one validation split: error=52.35\n",
      "Error on one validation split: error=54.75\n",
      "Error: 53.33%\n"
     ]
    },
    {
     "data": {
      "text/plain": "<Figure size 432x288 with 1 Axes>",
      "image/png": "[encoded data removed]"
     },
     "metadata": {
      "needs_background": "light"
     },
     "output_type": "display_data"
    }
   ],
   "source": [
    "n_folds(5, ring_merged, run_linear_regression, silent=False)\n",
    "n_folds(5, ring_sep, run_linear_regression, silent=False)\n",
    "pred = run_linear_regression(ring_merged, ring_test[:, :-1])\n",
    "plot_ring_pred(ring_test[:, :2], pred)\n",
    "print(f\"Error: {classification_error(pred, ring_test[:, -1])}%\")"
   ]
  },
  {
   "cell_type": "code",
   "execution_count": 47,
   "outputs": [
    {
     "data": {
      "text/plain": "<Figure size 432x288 with 2 Axes>",
      "image/png": "[encoded data removed]"
     },
     "metadata": {
      "needs_background": "light"
     },
     "output_type": "display_data"
    }
   ],
   "source": [
    "plot_confusion_matrix(ring_test[:, -1], pred, ['0', '1'])"
   ],
   "metadata": {
    "collapsed": false
   }
  },
  {
   "cell_type": "markdown",
   "metadata": {
    "collapsed": false
   },
   "source": [
    "When trying to train a neural network, I was experimenting with many parameters and found ones that give a good enough result. I use binary cross-entropy loss for training. Here we again evaluate different parameters for the network to select good ones. The list of parameters tried is not very large, as training the network is quite time consuming"
   ]
  },
  {
   "cell_type": "code",
   "execution_count": 54,
   "outputs": [
    {
     "name": "stdout",
     "output_type": "stream",
     "text": [
      "Error on one validation split: error=5.75\n",
      "Error on one validation split: error=5.2\n",
      "Error on one validation split: error=4.9\n",
      "Error on one validation split: error=5.05\n",
      "Error on one validation split: error=5.45\n",
      "Training with params: [[[2, 5, 1], 'sigmoid'], 0.01, 0.9, 30]\n",
      "Error on one validation split: error=15.7\n",
      "Error on one validation split: error=14.3\n",
      "Error on one validation split: error=14.65\n",
      "Error on one validation split: error=14.7\n",
      "Error on one validation split: error=14.4\n",
      "Training with params: [[[2, 10, 1], 'tanh'], 0.01, 0.9, 30]\n",
      "Error on one validation split: error=6.8\n",
      "Error on one validation split: error=9.2\n",
      "Error on one validation split: error=9.2\n",
      "Error on one validation split: error=8.9\n",
      "Error on one validation split: error=9.4\n",
      "Training with params: [[[2, 10, 10, 1], 'relu'], 0.001, 0.5, 30]\n",
      "Error on one validation split: error=26.65\n",
      "Error on one validation split: error=24.35\n",
      "Error on one validation split: error=25.65\n",
      "Error on one validation split: error=28.15\n",
      "Error on one validation split: error=26.25\n",
      "Training with params: [[[2, 16, 15, 1], 'tanh'], 0.006, 0.9, 30]\n",
      "Error on one validation split: error=3.1\n",
      "Error on one validation split: error=3.1\n",
      "Error on one validation split: error=2.15\n",
      "Error on one validation split: error=2.4\n",
      "Error on one validation split: error=2.95\n",
      "Training with params: [[[2, 15, 1], 'relu'], 0.01, 0.9, 30]\n",
      "Error on one validation split: error=5.65\n",
      "Error on one validation split: error=5.35\n",
      "Error on one validation split: error=4.45\n",
      "Error on one validation split: error=4.65\n",
      "Error on one validation split: error=5.3\n",
      "Training with params: [[[2, 5, 1], 'sigmoid'], 0.01, 0.9, 30]\n",
      "Error on one validation split: error=13.7\n",
      "Error on one validation split: error=14.55\n",
      "Error on one validation split: error=14.0\n",
      "Error on one validation split: error=14.1\n",
      "Error on one validation split: error=14.45\n",
      "Training with params: [[[2, 10, 1], 'tanh'], 0.01, 0.9, 30]\n",
      "Error on one validation split: error=6.2\n",
      "Error on one validation split: error=9.05\n",
      "Error on one validation split: error=9.2\n",
      "Error on one validation split: error=6.35\n",
      "Error on one validation split: error=6.15\n",
      "Training with params: [[[2, 10, 10, 1], 'relu'], 0.001, 0.5, 30]\n",
      "Error on one validation split: error=28.35\n",
      "Error on one validation split: error=27.3\n",
      "Error on one validation split: error=25.8\n",
      "Error on one validation split: error=22.95\n",
      "Error on one validation split: error=23.35\n"
     ]
    }
   ],
   "source": [
    "# List of parameters for training the network:\n",
    "# [[layers, activations], learning rate, momentum, epochs]\n",
    "training_params_list = [\n",
    "    [[[2, 16, 15, 1], 'tanh'], 0.006, 0.9, 30],\n",
    "    [[[2, 15, 1], 'relu'], 0.01, 0.9, 30],\n",
    "    [[[2, 5, 1], 'sigmoid'], 0.01, 0.9, 30],\n",
    "    [[[2, 10, 1], 'tanh'], 0.01, 0.9, 30],\n",
    "    [[[2, 10, 10, 1], 'relu'], 0.001, 0.5, 30],\n",
    "]\n",
    "\n",
    "for training_params in training_params_list:\n",
    "    print(f\"Training with params: {training_params}\")\n",
    "    n_folds(5, ring_sep, lambda *args: run_pytorch_network(*training_params, *args), silent=False)"
   ],
   "metadata": {
    "collapsed": false
   }
  },
  {
   "cell_type": "markdown",
   "source": [
    "Now we choose good performing parameters from above and train the full network on it"
   ],
   "metadata": {
    "collapsed": false
   }
  },
  {
   "cell_type": "code",
   "execution_count": 0,
   "outputs": [],
   "source": [
    "pred = run_pytorch_network([[2, 16, 15, 1], 'tanh'], 0.006, 0.9, 30, ring_sep.copy(), ring_test[:, :-1], real_outputs=True)"
   ],
   "metadata": {
    "collapsed": false
   }
  },
  {
   "cell_type": "code",
   "execution_count": 64,
   "outputs": [
    {
     "name": "stdout",
     "output_type": "stream",
     "text": [
      "0.9992035071079879\n"
     ]
    },
    {
     "data": {
      "text/plain": "<Figure size 432x288 with 1 Axes>",
      "image/png": "[encoded data removed]"
     },
     "metadata": {
      "needs_background": "light"
     },
     "output_type": "display_data"
    },
    {
     "name": "stdout",
     "output_type": "stream",
     "text": [
      "Optimal threshold point: 0.548506498336792\n"
     ]
    }
   ],
   "source": [
    "optimal_threshold = plot_roc_curve(ring_test[:, -1], pred)[0]\n",
    "print(\"Optimal threshold point:\", optimal_threshold)"
   ],
   "metadata": {
    "collapsed": false
   }
  },
  {
   "cell_type": "markdown",
   "source": [
    "The curve is almost perfect. We can keep the"
   ],
   "metadata": {
    "collapsed": false
   }
  },
  {
   "cell_type": "code",
   "execution_count": 65,
   "outputs": [
    {
     "name": "stdout",
     "output_type": "stream",
     "text": [
      "Error: 1.73%\n"
     ]
    },
    {
     "data": {
      "text/plain": "<Figure size 432x288 with 1 Axes>",
      "image/png": "[encoded data removed]"
     },
     "metadata": {
      "needs_background": "light"
     },
     "output_type": "display_data"
    }
   ],
   "source": [
    "pred[pred < optimal_threshold] = 0\n",
    "pred[pred != 0] = 1\n",
    "plot_ring_pred(ring_test[:, :2], pred)\n",
    "print(f\"Error: {classification_error(pred, ring_test[:, -1])}%\")"
   ],
   "metadata": {
    "collapsed": false
   }
  },
  {
   "cell_type": "code",
   "execution_count": 75,
   "outputs": [
    {
     "data": {
      "text/plain": "<Figure size 432x288 with 2 Axes>",
      "image/png": "[encoded data removed]"
     },
     "metadata": {
      "needs_background": "light"
     },
     "output_type": "display_data"
    }
   ],
   "source": [
    "plot_confusion_matrix(ring_test[:, -1], pred, ['0', '1'])"
   ],
   "metadata": {
    "collapsed": false
   }
  },
  {
   "cell_type": "markdown",
   "metadata": {
    "collapsed": false
   },
   "source": [
    "On not linearly separable data the network pretty quickly converges to a point where both training and validation losses don't change much. Maybe with some parameters the performance would be better, but even now the error is a couple of percents, which is not much. Now we try to repeat the same procedure with not separable dataset"
   ]
  },
  {
   "cell_type": "code",
   "execution_count": 66,
   "metadata": {
    "collapsed": false
   },
   "outputs": [
    {
     "name": "stdout",
     "output_type": "stream",
     "text": [
      "Training with params: [[[2, 16, 15, 1], 'tanh'], 0.006, 0.9, 30]\n",
      "Error on one validation split: error=23.7\n",
      "Error on one validation split: error=23.65\n",
      "Error on one validation split: error=21.95\n",
      "Error on one validation split: error=23.45\n",
      "Error on one validation split: error=23.35\n",
      "Training with params: [[[2, 15, 1], 'relu'], 0.01, 0.9, 20]\n",
      "Error on one validation split: error=23.05\n",
      "Error on one validation split: error=22.05\n",
      "Error on one validation split: error=24.2\n",
      "Error on one validation split: error=24.7\n",
      "Error on one validation split: error=22.4\n",
      "Training with params: [[[2, 5, 1], 'sigmoid'], 0.01, 0.9, 20]\n",
      "Error on one validation split: error=37.5\n",
      "Error on one validation split: error=35.0\n",
      "Error on one validation split: error=38.55\n",
      "Error on one validation split: error=34.85\n",
      "Error on one validation split: error=34.15\n",
      "Training with params: [[[2, 10, 1], 'tanh'], 0.01, 0.9, 25]\n",
      "Error on one validation split: error=22.6\n",
      "Error on one validation split: error=25.4\n",
      "Error on one validation split: error=23.4\n",
      "Error on one validation split: error=24.15\n",
      "Error on one validation split: error=24.15\n",
      "Training with params: [[[2, 10, 10, 1], 'relu'], 0.001, 0.5, 30]\n",
      "Error on one validation split: error=44.7\n",
      "Error on one validation split: error=42.75\n",
      "Error on one validation split: error=44.8\n",
      "Error on one validation split: error=45.35\n",
      "Error on one validation split: error=46.65\n"
     ]
    }
   ],
   "source": [
    "# List of parameters for training the network:\n",
    "# [[layers, activations], learning rate, momentum, epochs]\n",
    "training_params_list = [\n",
    "    [[[2, 16, 15, 1], 'tanh'], 0.006, 0.9, 30],\n",
    "    [[[2, 16, 15, 1], 'relu'], 0.01, 0.9, 20],\n",
    "    [[[2, 5, 1], 'sigmoid'], 0.01, 0.9, 20],\n",
    "    [[[2, 10, 1], 'tanh'], 0.01, 0.9, 25],\n",
    "    [[[2, 10, 10, 1], 'relu'], 0.001, 0.5, 30],\n",
    "]\n",
    "for training_params in training_params_list:\n",
    "    print(f\"Training with params: {training_params}\")\n",
    "    n_folds(5, ring_merged, lambda *args: run_pytorch_network(*training_params, *args), silent=False)"
   ]
  },
  {
   "cell_type": "code",
   "execution_count": 72,
   "outputs": [],
   "source": [
    "pred = run_pytorch_network([[2, 16, 15, 1], 'relu'], 0.01, 0.9, 20, ring_merged.copy(), ring_test[:, :-1], silent=True, real_outputs=True)"
   ],
   "metadata": {
    "collapsed": false
   }
  },
  {
   "cell_type": "code",
   "execution_count": 73,
   "outputs": [
    {
     "name": "stdout",
     "output_type": "stream",
     "text": [
      "0.9948218721030252\n"
     ]
    },
    {
     "data": {
      "text/plain": "<Figure size 432x288 with 1 Axes>",
      "image/png": "[encoded data removed]"
     },
     "metadata": {
      "needs_background": "light"
     },
     "output_type": "display_data"
    },
    {
     "name": "stdout",
     "output_type": "stream",
     "text": [
      "Optimal threshold point: 0.4583946764469147\n"
     ]
    }
   ],
   "source": [
    "optimal_threshold = plot_roc_curve(ring_test[:, -1], pred)[0]\n",
    "print(\"Optimal threshold point:\", optimal_threshold)"
   ],
   "metadata": {
    "collapsed": false
   }
  },
  {
   "cell_type": "markdown",
   "source": [
    "The curve looks very dnice again"
   ],
   "metadata": {
    "collapsed": false
   }
  },
  {
   "cell_type": "code",
   "execution_count": 74,
   "outputs": [
    {
     "name": "stdout",
     "output_type": "stream",
     "text": [
      "Error: 4.06%\n"
     ]
    },
    {
     "data": {
      "text/plain": "<Figure size 432x288 with 1 Axes>",
      "image/png": "[encoded data removed]"
     },
     "metadata": {
      "needs_background": "light"
     },
     "output_type": "display_data"
    }
   ],
   "source": [
    "pred[pred < optimal_threshold] = 0\n",
    "pred[pred != 0] = 1\n",
    "plot_ring_pred(ring_test[:, :2], pred)\n",
    "print(f\"Error: {classification_error(pred, ring_test[:, -1])}%\")"
   ],
   "metadata": {
    "collapsed": false
   }
  },
  {
   "cell_type": "code",
   "execution_count": 76,
   "outputs": [
    {
     "data": {
      "text/plain": "<Figure size 432x288 with 2 Axes>",
      "image/png": "[encoded data removed]"
     },
     "metadata": {
      "needs_background": "light"
     },
     "output_type": "display_data"
    }
   ],
   "source": [
    "plot_confusion_matrix(ring_test[:, -1], pred, ['0', '1'])"
   ],
   "metadata": {
    "collapsed": false
   }
  },
  {
   "cell_type": "markdown",
   "metadata": {
    "collapsed": false
   },
   "source": [
    "### Trying with \"bank\" dataset"
   ]
  },
  {
   "cell_type": "code",
   "execution_count": 17,
   "metadata": {
    "collapsed": false
   },
   "outputs": [
    {
     "name": "stdout",
     "output_type": "stream",
     "text": [
      "(32950, 23) (8238, 23)\n"
     ]
    }
   ],
   "source": [
    "bank_full = np.genfromtxt(\"A2-bank/bank-full-preprocessed.csv\", dtype=np.float32, skip_header=1, delimiter=',')\n",
    "\n",
    "# Split into test and train only once so we compare each model in the same conditions\n",
    "np.random.seed(42)\n",
    "np.random.shuffle(bank_full)\n",
    "\n",
    "split_index = int(0.8 * bank_full.shape[0])\n",
    "bank_train = bank_full[:split_index, :]\n",
    "bank_test = bank_full[split_index:, :]\n",
    "\n",
    "print(bank_train.shape, bank_test.shape)"
   ]
  },
  {
   "cell_type": "markdown",
   "source": [
    "For this dataset, we will need PCA transformation for visualization. We fit it on the whole data, and will reuse for visualization. As we can see, more than a half of variance can be explained with just two components. It's a lot, but some almost half of the variance will be not visualized, which can lead to misinterpretation of plots"
   ],
   "metadata": {
    "collapsed": false
   }
  },
  {
   "cell_type": "code",
   "execution_count": 108,
   "outputs": [
    {
     "name": "stdout",
     "output_type": "stream",
     "text": [
      "PCA explained variance ratio: [0.36117733 0.154147  ]\n"
     ]
    },
    {
     "data": {
      "text/plain": "<Figure size 432x288 with 1 Axes>",
      "image/png": "[encoded data removed]"
     },
     "metadata": {
      "needs_background": "light"
     },
     "output_type": "display_data"
    }
   ],
   "source": [
    "pca_bank = PCA(n_components=2)\n",
    "pca_bank.fit(bank_full[:, :-1])\n",
    "print(\"PCA explained variance ratio:\", pca_bank.explained_variance_ratio_)\n",
    "\n",
    "def plot_bank_pred(data, pred_):\n",
    "    data = pca_bank.transform(data)\n",
    "\n",
    "    plt.scatter(data[pred_ == 0, 0], data[pred_ == 0, 1], color='blue')\n",
    "    plt.scatter(data[pred_ == 1, 0], data[pred_ == 1, 1], color='red')\n",
    "    plt.axis('equal')\n",
    "\n",
    "# Plot distribution of test data with these PCA\n",
    "plot_bank_pred(bank_test[:, :-1], bank_test[:, -1])"
   ],
   "metadata": {
    "collapsed": false
   }
  },
  {
   "cell_type": "markdown",
   "metadata": {
    "collapsed": false
   },
   "source": [
    "On this dataset, a simple linear regression works almost perfectly. In both cross validation and training on the whole training dataset, the error is below 0.36%. When training on test data, only 14 samples from the test dataset are misclassified"
   ]
  },
  {
   "cell_type": "code",
   "execution_count": 109,
   "metadata": {
    "collapsed": false
   },
   "outputs": [
    {
     "name": "stdout",
     "output_type": "stream",
     "text": [
      "Error on one validation split: error=0.24279210925644917\n",
      "Error on one validation split: error=0.18209408194233687\n",
      "Error on one validation split: error=0.13657056145675264\n",
      "Error on one validation split: error=0.25796661608497723\n",
      "Error on one validation split: error=0.18209408194233687\n"
     ]
    }
   ],
   "source": [
    "n_folds(5, bank_train, run_linear_regression, silent=False)\n",
    "pred = run_linear_regression_get_real_scores(bank_train, bank_test[:, :-1])"
   ]
  },
  {
   "cell_type": "markdown",
   "source": [
    "The ROC curve is also almost perfect"
   ],
   "metadata": {
    "collapsed": false
   }
  },
  {
   "cell_type": "code",
   "execution_count": 110,
   "outputs": [
    {
     "name": "stdout",
     "output_type": "stream",
     "text": [
      "0.9994197234336922\n"
     ]
    },
    {
     "data": {
      "text/plain": "<Figure size 432x288 with 1 Axes>",
      "image/png": "[encoded data removed]"
     },
     "metadata": {
      "needs_background": "light"
     },
     "output_type": "display_data"
    },
    {
     "name": "stdout",
     "output_type": "stream",
     "text": [
      "Optimal threshold point: 0.9763761162757874\n"
     ]
    }
   ],
   "source": [
    "optimal_threshold = plot_roc_curve(bank_test[:, -1], pred)[0]\n",
    "print(\"Optimal threshold point:\", optimal_threshold)"
   ],
   "metadata": {
    "collapsed": false
   }
  },
  {
   "cell_type": "code",
   "execution_count": 111,
   "outputs": [
    {
     "name": "stdout",
     "output_type": "stream",
     "text": [
      "Error: 0.16994416120417577%\n",
      "14.0\n"
     ]
    },
    {
     "data": {
      "text/plain": "<Figure size 432x288 with 1 Axes>",
      "image/png": "[encoded data removed]"
     },
     "metadata": {
      "needs_background": "light"
     },
     "output_type": "display_data"
    }
   ],
   "source": [
    "pred[pred < optimal_threshold] = 0\n",
    "pred[pred != 0] = 1\n",
    "plot_bank_pred(bank_test[:, :-1], pred)\n",
    "print(f\"Error: {classification_error(pred, bank_test[:, -1])}%\")\n",
    "print(np.sum(np.abs(pred - bank_test[:, -1])))\n"
   ],
   "metadata": {
    "collapsed": false
   }
  },
  {
   "cell_type": "code",
   "execution_count": 112,
   "outputs": [
    {
     "data": {
      "text/plain": "<Figure size 432x288 with 2 Axes>",
      "image/png": "[encoded data removed]"
     },
     "metadata": {
      "needs_background": "light"
     },
     "output_type": "display_data"
    }
   ],
   "source": [
    "plot_confusion_matrix(bank_test[:, -1], pred, ['0', '1'])"
   ],
   "metadata": {
    "collapsed": false
   }
  },
  {
   "cell_type": "markdown",
   "metadata": {
    "collapsed": false
   },
   "source": [
    "Let's now try to train an SVM on this data. As the linear regression works very well, a linear kernel should show a good performance too. As we can see, the performance is very similar. I was experimenting with different kernels here, but they just give the same result as the linear one. We don't try the sigmoid kernel, as the computation with it takes a lot of time, and the performance is very poor"
   ]
  },
  {
   "cell_type": "code",
   "execution_count": 118,
   "metadata": {
    "collapsed": false
   },
   "outputs": [
    {
     "name": "stdout",
     "output_type": "stream",
     "text": [
      "Testing with parameters: {'kernel': 'rbf', 'C': 1, 'gamma': 1}\n",
      "Error on one validation split: error=0.24279210925644917\n",
      "Error on one validation split: error=0.2276176024279211\n",
      "Error on one validation split: error=0.18209408194233687\n",
      "Error on one validation split: error=0.2731411229135053\n",
      "Error on one validation split: error=0.25796661608497723\n",
      "Testing with parameters: {'kernel': 'poly', 'degree': 5}\n",
      "Error on one validation split: error=0.2276176024279211\n",
      "Error on one validation split: error=0.25796661608497723\n",
      "Error on one validation split: error=0.212443095599393\n",
      "Error on one validation split: error=0.2276176024279211\n",
      "Error on one validation split: error=0.15174506828528073\n",
      "Testing with parameters: {'kernel': 'linear'}\n",
      "Error on one validation split: error=0.19726858877086495\n",
      "Error on one validation split: error=0.19726858877086495\n",
      "Error on one validation split: error=0.30349013657056145\n",
      "Error on one validation split: error=0.2276176024279211\n",
      "Error on one validation split: error=0.07587253414264036\n"
     ]
    }
   ],
   "source": [
    "\n",
    "testing_svm_params = [\n",
    "    {\"kernel\": \"rbf\", \"C\": 1, \"gamma\": 1},\n",
    "    {\"kernel\": \"poly\", \"degree\": 5},\n",
    "    {\"kernel\": \"linear\"},\n",
    "]\n",
    "\n",
    "for svm_params in testing_svm_params:\n",
    "    print(f\"Testing with parameters: {svm_params}\")\n",
    "    n_folds(5, bank_train, lambda *params: run_svm(svm_params, *params), silent=False)\n"
   ]
  },
  {
   "cell_type": "code",
   "execution_count": 131,
   "outputs": [],
   "source": [
    "pred = run_svm({\"kernel\": \"poly\", \"degree\": 5}, bank_train, bank_test[:, :-1])"
   ],
   "metadata": {
    "collapsed": false
   }
  },
  {
   "cell_type": "code",
   "execution_count": 132,
   "outputs": [
    {
     "name": "stdout",
     "output_type": "stream",
     "text": [
      "Error: 0.16994416120417577%\n",
      "14.0\n"
     ]
    },
    {
     "data": {
      "text/plain": "<Figure size 432x288 with 1 Axes>",
      "image/png": "[encoded data removed]"
     },
     "metadata": {
      "needs_background": "light"
     },
     "output_type": "display_data"
    }
   ],
   "source": [
    "plot_bank_pred(bank_test[:, :-1], pred)\n",
    "print(f\"Error: {classification_error(pred, bank_test[:, -1])}%\")\n",
    "print(np.sum(np.abs(pred - bank_test[:, -1])))"
   ],
   "metadata": {
    "collapsed": false
   }
  },
  {
   "cell_type": "code",
   "execution_count": 133,
   "outputs": [
    {
     "data": {
      "text/plain": "<Figure size 432x288 with 2 Axes>",
      "image/png": "[encoded data removed]"
     },
     "metadata": {
      "needs_background": "light"
     },
     "output_type": "display_data"
    }
   ],
   "source": [
    "plot_confusion_matrix(bank_test[:, -1], pred, ['0', '1'])"
   ],
   "metadata": {
    "collapsed": false
   }
  },
  {
   "cell_type": "markdown",
   "metadata": {
    "collapsed": false
   },
   "source": [
    "Now trying with a neural network. The network with only 1 hidden layer and tanh activation shows very good results here, and pretty quickly converges to a good error, close to the one obtained from linear regression. NOTE: this takes quite a long time on the full dataset"
   ]
  },
  {
   "cell_type": "code",
   "execution_count": 125,
   "metadata": {
    "collapsed": false
   },
   "outputs": [
    {
     "name": "stdout",
     "output_type": "stream",
     "text": [
      "Training with params: [[[22, 16, 15, 1], 'tanh'], 0.006, 0.9, 30]\n",
      "Error on one validation split: error=0.18209408194233687\n",
      "Error on one validation split: error=0.15174506828528073\n",
      "Error on one validation split: error=0.212443095599393\n",
      "Error on one validation split: error=0.24279210925644917\n",
      "Error on one validation split: error=0.212443095599393\n",
      "Training with params: [[[22, 16, 15, 1], 'relu'], 0.01, 0.9, 20]\n",
      "Error on one validation split: error=0.15174506828528073\n",
      "Error on one validation split: error=0.2276176024279211\n",
      "Error on one validation split: error=0.2731411229135053\n",
      "Error on one validation split: error=0.18209408194233687\n",
      "Error on one validation split: error=0.1669195751138088\n",
      "Training with params: [[[22, 5, 1], 'sigmoid'], 0.01, 0.9, 20]\n",
      "Error on one validation split: error=0.18209408194233687\n",
      "Error on one validation split: error=0.15174506828528073\n",
      "Error on one validation split: error=0.1669195751138088\n",
      "Error on one validation split: error=0.212443095599393\n",
      "Error on one validation split: error=0.2883156297420334\n",
      "Training with params: [[[22, 10, 1], 'tanh'], 0.01, 0.9, 25]\n",
      "Error on one validation split: error=0.18209408194233687\n",
      "Error on one validation split: error=0.19726858877086495\n",
      "Error on one validation split: error=0.15174506828528073\n",
      "Error on one validation split: error=0.2731411229135053\n",
      "Error on one validation split: error=0.19726858877086495\n",
      "Training with params: [[[22, 10, 10, 1], 'relu'], 0.001, 0.5, 30]\n",
      "Error on one validation split: error=0.13657056145675264\n",
      "Error on one validation split: error=0.25796661608497723\n",
      "Error on one validation split: error=0.19726858877086495\n",
      "Error on one validation split: error=0.24279210925644917\n",
      "Error on one validation split: error=0.1669195751138088\n"
     ]
    }
   ],
   "source": [
    "# List of parameters for training the network:\n",
    "# [[layers, activations], learning rate, momentum, epochs]\n",
    "training_params_list = [\n",
    "    [[[22, 16, 15, 1], 'tanh'], 0.006, 0.9, 30],\n",
    "    [[[22, 16, 15, 1], 'relu'], 0.01, 0.9, 20],\n",
    "    [[[22, 5, 1], 'sigmoid'], 0.01, 0.9, 20],\n",
    "    [[[22, 10, 1], 'tanh'], 0.01, 0.9, 25],\n",
    "    [[[22, 10, 10, 1], 'relu'], 0.001, 0.5, 30],\n",
    "]\n",
    "for training_params in training_params_list:\n",
    "    print(f\"Training with params: {training_params}\")\n",
    "    n_folds(5, bank_train, lambda *args: run_pytorch_network(*training_params, *args), silent=False)\n",
    "\n"
   ]
  },
  {
   "cell_type": "code",
   "execution_count": 126,
   "outputs": [
    {
     "name": "stdout",
     "output_type": "stream",
     "text": [
      "Epoch: 0. \n",
      "Loss on training: 0.06372775923503914 \n",
      "Loss on validation: 0.009384536184370518 \n",
      "##########\n",
      "Epoch: 1. \n",
      "Loss on training: 0.010920509252189922 \n",
      "Loss on validation: 0.008690385147929192 \n",
      "##########\n",
      "Epoch: 2. \n",
      "Loss on training: 0.010572723575051304 \n",
      "Loss on validation: 0.010246132500469685 \n",
      "##########\n",
      "Epoch: 3. \n",
      "Loss on training: 0.01041190536908014 \n",
      "Loss on validation: 0.008433989249169827 \n",
      "##########\n",
      "Epoch: 4. \n",
      "Loss on training: 0.010341309166686902 \n",
      "Loss on validation: 0.008453723043203354 \n",
      "##########\n",
      "Epoch: 5. \n",
      "Loss on training: 0.010270837551135562 \n",
      "Loss on validation: 0.008762490935623646 \n",
      "##########\n",
      "Epoch: 6. \n",
      "Loss on training: 0.010167080236069095 \n",
      "Loss on validation: 0.008995071984827518 \n",
      "##########\n",
      "Epoch: 7. \n",
      "Loss on training: 0.01027557622163204 \n",
      "Loss on validation: 0.008584103547036648 \n",
      "##########\n",
      "Epoch: 8. \n",
      "Loss on training: 0.010126326362429314 \n",
      "Loss on validation: 0.00851076003164053 \n",
      "##########\n",
      "Epoch: 9. \n",
      "Loss on training: 0.009996945544939444 \n",
      "Loss on validation: 0.008497396484017372 \n",
      "##########\n",
      "Epoch: 10. \n",
      "Loss on training: 0.010083610505489215 \n",
      "Loss on validation: 0.008798846043646336 \n",
      "##########\n",
      "Epoch: 11. \n",
      "Loss on training: 0.009963290307678384 \n",
      "Loss on validation: 0.008671091869473457 \n",
      "##########\n",
      "Epoch: 12. \n",
      "Loss on training: 0.009885742980001156 \n",
      "Loss on validation: 0.008674392476677895 \n",
      "##########\n",
      "Epoch: 13. \n",
      "Loss on training: 0.009775681744602685 \n",
      "Loss on validation: 0.008713988587260246 \n",
      "##########\n",
      "Epoch: 14. \n",
      "Loss on training: 0.009788581162243308 \n",
      "Loss on validation: 0.009132872335612774 \n",
      "##########\n",
      "Epoch: 15. \n",
      "Loss on training: 0.009688120835930385 \n",
      "Loss on validation: 0.008768042549490929 \n",
      "##########\n",
      "Epoch: 16. \n",
      "Loss on training: 0.009832610263129994 \n",
      "Loss on validation: 0.00876226183027029 \n",
      "##########\n",
      "Epoch: 17. \n",
      "Loss on training: 0.009583121961479018 \n",
      "Loss on validation: 0.00895212683826685 \n",
      "##########\n",
      "Epoch: 18. \n",
      "Loss on training: 0.009805767395060514 \n",
      "Loss on validation: 0.008863909170031548 \n",
      "##########\n",
      "Epoch: 19. \n",
      "Loss on training: 0.00962147800910578 \n",
      "Loss on validation: 0.008725925348699093 \n",
      "##########\n",
      "Epoch: 20. \n",
      "Loss on training: 0.009656881368595329 \n",
      "Loss on validation: 0.008736025542020798 \n",
      "##########\n",
      "Epoch: 21. \n",
      "Loss on training: 0.00962139557578861 \n",
      "Loss on validation: 0.0089773153886199 \n",
      "##########\n",
      "Epoch: 22. \n",
      "Loss on training: 0.009494153419333207 \n",
      "Loss on validation: 0.008869227953255177 \n",
      "##########\n",
      "Epoch: 23. \n",
      "Loss on training: 0.00954363022460594 \n",
      "Loss on validation: 0.00878353975713253 \n",
      "##########\n",
      "Epoch: 24. \n",
      "Loss on training: 0.009529654651143714 \n",
      "Loss on validation: 0.008921030908823013 \n",
      "##########\n",
      "Epoch: 25. \n",
      "Loss on training: 0.009562477128258862 \n",
      "Loss on validation: 0.008930657990276814 \n",
      "##########\n",
      "Epoch: 26. \n",
      "Loss on training: 0.00961021621559886 \n",
      "Loss on validation: 0.008820204064249992 \n",
      "##########\n",
      "Epoch: 27. \n",
      "Loss on training: 0.009391832434749867 \n",
      "Loss on validation: 0.009395706467330456 \n",
      "##########\n",
      "Epoch: 28. \n",
      "Loss on training: 0.009532698157562358 \n",
      "Loss on validation: 0.008727644570171833 \n",
      "##########\n",
      "Epoch: 29. \n",
      "Loss on training: 0.009451942729648126 \n",
      "Loss on validation: 0.00965324230492115 \n",
      "##########\n"
     ]
    }
   ],
   "source": [
    "pred = run_pytorch_network([[22, 16, 15, 1], 'tanh'], 0.006, 0.9, 30, bank_train.copy(), bank_test[:, :-1], silent=False, real_outputs=True)"
   ],
   "metadata": {
    "collapsed": false
   }
  },
  {
   "cell_type": "code",
   "execution_count": 127,
   "metadata": {
    "collapsed": false
   },
   "outputs": [
    {
     "name": "stdout",
     "output_type": "stream",
     "text": [
      "0.9993701233943633\n"
     ]
    },
    {
     "data": {
      "text/plain": "<Figure size 432x288 with 1 Axes>",
      "image/png": "[encoded data removed]"
     },
     "metadata": {
      "needs_background": "light"
     },
     "output_type": "display_data"
    },
    {
     "name": "stdout",
     "output_type": "stream",
     "text": [
      "Optimal threshold point: 0.8899574279785156\n"
     ]
    }
   ],
   "source": [
    "optimal_threshold = plot_roc_curve(bank_test[:, -1], pred)[0]\n",
    "print(\"Optimal threshold point:\", optimal_threshold)"
   ]
  },
  {
   "cell_type": "code",
   "execution_count": 129,
   "outputs": [
    {
     "name": "stdout",
     "output_type": "stream",
     "text": [
      "Error: 0.19422189851905802%\n",
      "16.0\n"
     ]
    },
    {
     "data": {
      "text/plain": "<Figure size 432x288 with 1 Axes>",
      "image/png": "[encoded data removed]"
     },
     "metadata": {
      "needs_background": "light"
     },
     "output_type": "display_data"
    }
   ],
   "source": [
    "pred[pred < optimal_threshold] = 0\n",
    "pred[pred != 0] = 1\n",
    "plot_bank_pred(bank_test[:, :-1], pred)\n",
    "print(f\"Error: {classification_error(pred, bank_test[:, -1])}%\")\n",
    "print(np.sum(np.abs(pred - bank_test[:, -1])))\n"
   ],
   "metadata": {
    "collapsed": false
   }
  },
  {
   "cell_type": "code",
   "execution_count": 135,
   "outputs": [
    {
     "data": {
      "text/plain": "<Figure size 432x288 with 2 Axes>",
      "image/png": "[encoded data removed]"
     },
     "metadata": {
      "needs_background": "light"
     },
     "output_type": "display_data"
    }
   ],
   "source": [
    "plot_confusion_matrix(bank_test[:, -1], pred, ['0', '1'])"
   ],
   "metadata": {
    "collapsed": false
   }
  },
  {
   "cell_type": "markdown",
   "metadata": {},
   "source": [
    "# Rice dataset"
   ]
  },
  {
   "cell_type": "code",
   "execution_count": 23,
   "metadata": {},
   "outputs": [
    {
     "name": "stdout",
     "output_type": "stream",
     "text": [
      "(3048, 8) (762, 8)\n"
     ]
    }
   ],
   "source": [
    "rice_data = np.genfromtxt(\"A2-Rice/rice-preprocessed.csv\", dtype=np.float32, skip_header=1, delimiter=',')\n",
    "\n",
    "# Split into test and train only once so we compare each model in the same conditions\n",
    "np.random.seed(42)\n",
    "np.random.shuffle(rice_data)\n",
    "\n",
    "split_index = int(0.8 * rice_data.shape[0])\n",
    "rice_train = rice_data[:split_index, :]\n",
    "rice_test = rice_data[split_index:, :]\n",
    "\n",
    "print(rice_train.shape, rice_test.shape)"
   ]
  },
  {
   "cell_type": "markdown",
   "source": [],
   "metadata": {
    "collapsed": false
   }
  },
  {
   "cell_type": "code",
   "execution_count": null,
   "outputs": [],
   "source": [],
   "metadata": {
    "collapsed": false
   }
  },
  {
   "cell_type": "code",
   "execution_count": 24,
   "metadata": {},
   "outputs": [
    {
     "name": "stdout",
     "output_type": "stream",
     "text": [
      "Error on one validation split: error=17.733990147783253\n",
      "Error on one validation split: error=19.18032786885246\n",
      "Error on one validation split: error=20.689655172413794\n",
      "Error on one validation split: error=21.311475409836067\n",
      "Error on one validation split: error=20.16393442622951\n",
      "Error: 22.178477690288712%\n",
      "169.0\n"
     ]
    }
   ],
   "source": [
    "n_folds(5, rice_train, run_linear_regression, silent=False)\n",
    "pred = run_linear_regression(rice_train, rice_test[:, :-1])\n",
    "print(f\"Error: {classification_error(rice_test[:, -1], pred)}%\")\n",
    "print(np.sum(np.abs(pred - rice_test[:, -1])))"
   ]
  },
  {
   "cell_type": "code",
   "execution_count": 25,
   "metadata": {},
   "outputs": [
    {
     "name": "stdout",
     "output_type": "stream",
     "text": [
      "Error on one validation split: error=21.346469622331693\n",
      "Error on one validation split: error=22.62295081967213\n",
      "Error on one validation split: error=18.39080459770115\n",
      "Error on one validation split: error=20.0\n",
      "Error on one validation split: error=18.0327868852459\n",
      "Error: 20.927188903328002%\n",
      "0.9804643044161285\n"
     ]
    },
    {
     "data": {
      "text/plain": "<Figure size 432x288 with 1 Axes>",
      "image/png": "[encoded data removed]"
     },
     "metadata": {
      "needs_background": "light"
     },
     "output_type": "display_data"
    }
   ],
   "source": [
    "n_folds(5, rice_train, run_linear_regression, silent=False)\n",
    "pred = run_linear_regression_get_real_scores(rice_train, rice_test[:, :-1])\n",
    "print(f\"Error: {classification_error(rice_test[:, -1], pred)}%\")\n",
    "plot_roc_curve(rice_test[:, -1], pred)\n",
    "\n",
    "#print(rice_test[:, -1])"
   ]
  },
  {
   "cell_type": "markdown",
   "metadata": {},
   "source": [
    "On this dataset, a simple linear regression works really good. In both cross validation and training on the whole training dataset, the error is below 8.22%. In the test data there are 46 samples of 762 missclassified"
   ]
  },
  {
   "cell_type": "markdown",
   "metadata": {},
   "source": [
    "Let's now try to train an SVM on this data. As the linear regression works well, a linear kernel should show a good performance too. As we can see, the performance is very similar. I was experimenting with different kernels here, but they just give the same result as the linear one"
   ]
  },
  {
   "cell_type": "code",
   "execution_count": 26,
   "metadata": {},
   "outputs": [
    {
     "name": "stdout",
     "output_type": "stream",
     "text": [
      "Error on one validation split: error=8.70279146141215\n",
      "Error on one validation split: error=7.704918032786885\n",
      "Error on one validation split: error=7.389162561576355\n",
      "Error on one validation split: error=6.065573770491803\n",
      "Error on one validation split: error=8.360655737704919\n",
      "Error: 6.692913385826771%\n"
     ]
    }
   ],
   "source": [
    "n_folds(5, rice_train, lambda *params: run_svm({\"kernel\": \"rbf\"}, *params), silent=False)\n",
    "pred = run_svm({\"kernel\": \"linear\"}, rice_train, rice_test[:, :-1])\n",
    "print(f\"Error: {classification_error(rice_test[:, -1], pred)}%\")"
   ]
  },
  {
   "cell_type": "markdown",
   "metadata": {},
   "source": [
    "Now trying with a neural network. The network with only 1 hidden layer and tanh activation shows very good results here, and pretty quickly converges to a good error, close to the one obtained from linear regression"
   ]
  },
  {
   "cell_type": "code",
   "execution_count": 27,
   "metadata": {},
   "outputs": [
    {
     "name": "stdout",
     "output_type": "stream",
     "text": [
      "Error on one validation split: error=6.568144499178982\n",
      "Error on one validation split: error=6.885245901639344\n",
      "Error on one validation split: error=9.523809523809524\n",
      "Error on one validation split: error=6.557377049180328\n",
      "Error on one validation split: error=5.737704918032787\n",
      "Epoch: 0. \n",
      "Loss on training: 0.599172416783164 \n",
      "Loss on validation: 0.4570279121398926 \n",
      "##########\n",
      "Epoch: 1. \n",
      "Loss on training: 0.34984680899867304 \n",
      "Loss on validation: 0.2603173851966858 \n",
      "##########\n",
      "Epoch: 2. \n",
      "Loss on training: 0.2421764362864043 \n",
      "Loss on validation: 0.20978333055973053 \n",
      "##########\n",
      "Epoch: 3. \n",
      "Loss on training: 0.215974216445238 \n",
      "Loss on validation: 0.19597874581813812 \n",
      "##########\n",
      "Epoch: 4. \n",
      "Loss on training: 0.2082554739535836 \n",
      "Loss on validation: 0.19164282083511353 \n",
      "##########\n",
      "Epoch: 5. \n",
      "Loss on training: 0.2057216137249038 \n",
      "Loss on validation: 0.18997415900230408 \n",
      "##########\n",
      "Epoch: 6. \n",
      "Loss on training: 0.2035845070310826 \n",
      "Loss on validation: 0.1882784515619278 \n",
      "##########\n",
      "Epoch: 7. \n",
      "Loss on training: 0.2026133742106795 \n",
      "Loss on validation: 0.18741703033447266 \n",
      "##########\n",
      "Epoch: 8. \n",
      "Loss on training: 0.20067374534720991 \n",
      "Loss on validation: 0.18658053874969482 \n",
      "##########\n",
      "Epoch: 9. \n",
      "Loss on training: 0.20084856826152822 \n",
      "Loss on validation: 0.1878547966480255 \n",
      "##########\n",
      "Epoch: 10. \n",
      "Loss on training: 0.20032428097700386 \n",
      "Loss on validation: 0.18608728051185608 \n",
      "##########\n",
      "Epoch: 11. \n",
      "Loss on training: 0.1989309269275685 \n",
      "Loss on validation: 0.1859176903963089 \n",
      "##########\n",
      "Epoch: 12. \n",
      "Loss on training: 0.19904646462159148 \n",
      "Loss on validation: 0.18490371108055115 \n",
      "##########\n",
      "Epoch: 13. \n",
      "Loss on training: 0.1956409226658413 \n",
      "Loss on validation: 0.18680819869041443 \n",
      "##########\n",
      "Epoch: 14. \n",
      "Loss on training: 0.19795328881514906 \n",
      "Loss on validation: 0.18486495316028595 \n",
      "##########\n",
      "Epoch: 15. \n",
      "Loss on training: 0.19715948225815355 \n",
      "Loss on validation: 0.183439701795578 \n",
      "##########\n",
      "Epoch: 16. \n",
      "Loss on training: 0.19698112993022052 \n",
      "Loss on validation: 0.18323980271816254 \n",
      "##########\n",
      "Epoch: 17. \n",
      "Loss on training: 0.19508184681918642 \n",
      "Loss on validation: 0.18266339600086212 \n",
      "##########\n",
      "Epoch: 18. \n",
      "Loss on training: 0.1957093270978442 \n",
      "Loss on validation: 0.1832278072834015 \n",
      "##########\n",
      "Epoch: 19. \n",
      "Loss on training: 0.19538636102413934 \n",
      "Loss on validation: 0.18255113065242767 \n",
      "##########\n",
      "Epoch: 20. \n",
      "Loss on training: 0.19538154591779405 \n",
      "Loss on validation: 0.18191732466220856 \n",
      "##########\n",
      "Epoch: 21. \n",
      "Loss on training: 0.1933363356202105 \n",
      "Loss on validation: 0.18053768575191498 \n",
      "##########\n",
      "Epoch: 22. \n",
      "Loss on training: 0.19526394829920535 \n",
      "Loss on validation: 0.18314091861248016 \n",
      "##########\n",
      "Epoch: 23. \n",
      "Loss on training: 0.193800935491061 \n",
      "Loss on validation: 0.1821461170911789 \n",
      "##########\n",
      "Epoch: 24. \n",
      "Loss on training: 0.1943577810462733 \n",
      "Loss on validation: 0.18078407645225525 \n",
      "##########\n",
      "Epoch: 25. \n",
      "Loss on training: 0.19396221676818381 \n",
      "Loss on validation: 0.18146787583827972 \n",
      "##########\n",
      "Epoch: 26. \n",
      "Loss on training: 0.19441176156049647 \n",
      "Loss on validation: 0.18064332008361816 \n",
      "##########\n",
      "Epoch: 27. \n",
      "Loss on training: 0.19329496703796673 \n",
      "Loss on validation: 0.18390223383903503 \n",
      "##########\n",
      "Epoch: 28. \n",
      "Loss on training: 0.19401330209563297 \n",
      "Loss on validation: 0.18059410154819489 \n",
      "##########\n",
      "Epoch: 29. \n",
      "Loss on training: 0.19368637381543102 \n",
      "Loss on validation: 0.1804451048374176 \n",
      "##########\n",
      "Epoch: 30. \n",
      "Loss on training: 0.1932880328354951 \n",
      "Loss on validation: 0.17950989305973053 \n",
      "##########\n",
      "Epoch: 31. \n",
      "Loss on training: 0.19245393496819238 \n",
      "Loss on validation: 0.18226364254951477 \n",
      "##########\n",
      "Epoch: 32. \n",
      "Loss on training: 0.19328453322803532 \n",
      "Loss on validation: 0.1818687915802002 \n",
      "##########\n",
      "Epoch: 33. \n",
      "Loss on training: 0.19167120666568907 \n",
      "Loss on validation: 0.18542909622192383 \n",
      "##########\n",
      "Epoch: 34. \n",
      "Loss on training: 0.19204893144836396 \n",
      "Loss on validation: 0.17896206676959991 \n",
      "##########\n",
      "Epoch: 35. \n",
      "Loss on training: 0.190347015930516 \n",
      "Loss on validation: 0.18264271318912506 \n",
      "##########\n",
      "Epoch: 36. \n",
      "Loss on training: 0.1920613870216311 \n",
      "Loss on validation: 0.18221208453178406 \n",
      "##########\n",
      "Epoch: 37. \n",
      "Loss on training: 0.19232653454712634 \n",
      "Loss on validation: 0.18028727173805237 \n",
      "##########\n",
      "Epoch: 38. \n",
      "Loss on training: 0.19222311523777466 \n",
      "Loss on validation: 0.18328242003917694 \n",
      "##########\n",
      "Epoch: 39. \n",
      "Loss on training: 0.192232047782544 \n",
      "Loss on validation: 0.1831357330083847 \n",
      "##########\n",
      "Epoch: 40. \n",
      "Loss on training: 0.1907644209379154 \n",
      "Loss on validation: 0.17879077792167664 \n",
      "##########\n",
      "Epoch: 41. \n",
      "Loss on training: 0.19210604276630736 \n",
      "Loss on validation: 0.17800112068653107 \n",
      "##########\n",
      "Epoch: 42. \n",
      "Loss on training: 0.19115779870055585 \n",
      "Loss on validation: 0.17940653860569 \n",
      "##########\n",
      "Epoch: 43. \n",
      "Loss on training: 0.1905529040827918 \n",
      "Loss on validation: 0.17735885083675385 \n",
      "##########\n",
      "Epoch: 44. \n",
      "Loss on training: 0.19211634663566027 \n",
      "Loss on validation: 0.18089497089385986 \n",
      "##########\n",
      "Epoch: 45. \n",
      "Loss on training: 0.19031647511531788 \n",
      "Loss on validation: 0.1779445856809616 \n",
      "##########\n",
      "Epoch: 46. \n",
      "Loss on training: 0.19100604296773058 \n",
      "Loss on validation: 0.1795112043619156 \n",
      "##########\n",
      "Epoch: 47. \n",
      "Loss on training: 0.189473432396757 \n",
      "Loss on validation: 0.17811915278434753 \n",
      "##########\n",
      "Epoch: 48. \n",
      "Loss on training: 0.18960937986403337 \n",
      "Loss on validation: 0.17951342463493347 \n",
      "##########\n",
      "Epoch: 49. \n",
      "Loss on training: 0.19086942510533725 \n",
      "Loss on validation: 0.18053734302520752 \n",
      "##########\n",
      "Epoch: 50. \n",
      "Loss on training: 0.19079596041069355 \n",
      "Loss on validation: 0.18002016842365265 \n",
      "##########\n",
      "Epoch: 51. \n",
      "Loss on training: 0.18964030863065656 \n",
      "Loss on validation: 0.18299590051174164 \n",
      "##########\n",
      "Epoch: 52. \n",
      "Loss on training: 0.19017012736572284 \n",
      "Loss on validation: 0.1789003312587738 \n",
      "##########\n",
      "Epoch: 53. \n",
      "Loss on training: 0.19029391572308638 \n",
      "Loss on validation: 0.18046227097511292 \n",
      "##########\n",
      "Epoch: 54. \n",
      "Loss on training: 0.19002211607854674 \n",
      "Loss on validation: 0.17815794050693512 \n",
      "##########\n",
      "Epoch: 55. \n",
      "Loss on training: 0.19076666546364626 \n",
      "Loss on validation: 0.17871980369091034 \n",
      "##########\n",
      "Epoch: 56. \n",
      "Loss on training: 0.18987591768549794 \n",
      "Loss on validation: 0.18023255467414856 \n",
      "##########\n",
      "Epoch: 57. \n",
      "Loss on training: 0.18967183089504638 \n",
      "Loss on validation: 0.18040885031223297 \n",
      "##########\n",
      "Epoch: 58. \n",
      "Loss on training: 0.18870517665160047 \n",
      "Loss on validation: 0.18199287354946136 \n",
      "##########\n",
      "Epoch: 59. \n",
      "Loss on training: 0.18947050282386718 \n",
      "Loss on validation: 0.1802932173013687 \n",
      "##########\n",
      "Epoch: 60. \n",
      "Loss on training: 0.18941340712378177 \n",
      "Loss on validation: 0.17744767665863037 \n",
      "##########\n",
      "Epoch: 61. \n",
      "Loss on training: 0.18936588964329212 \n",
      "Loss on validation: 0.1794283539056778 \n",
      "##########\n",
      "Epoch: 62. \n",
      "Loss on training: 0.18962580801098924 \n",
      "Loss on validation: 0.18405663967132568 \n",
      "##########\n",
      "Epoch: 63. \n",
      "Loss on training: 0.18966961316687703 \n",
      "Loss on validation: 0.18010692298412323 \n",
      "##########\n",
      "Epoch: 64. \n",
      "Loss on training: 0.18830045473229123 \n",
      "Loss on validation: 0.17903034389019012 \n",
      "##########\n",
      "Epoch: 65. \n",
      "Loss on training: 0.18874693335007126 \n",
      "Loss on validation: 0.1799260377883911 \n",
      "##########\n",
      "Epoch: 66. \n",
      "Loss on training: 0.1871264993860827 \n",
      "Loss on validation: 0.18224644660949707 \n",
      "##########\n",
      "Epoch: 67. \n",
      "Loss on training: 0.1893140733502652 \n",
      "Loss on validation: 0.1802852302789688 \n",
      "##########\n",
      "Epoch: 68. \n",
      "Loss on training: 0.18959568509901012 \n",
      "Loss on validation: 0.1802205592393875 \n",
      "##########\n",
      "Epoch: 69. \n",
      "Loss on training: 0.18819718323494672 \n",
      "Loss on validation: 0.18133330345153809 \n",
      "##########\n",
      "Epoch: 70. \n",
      "Loss on training: 0.18962372466538546 \n",
      "Loss on validation: 0.18006505072116852 \n",
      "##########\n",
      "Epoch: 71. \n",
      "Loss on training: 0.18721951899950395 \n",
      "Loss on validation: 0.18092894554138184 \n",
      "##########\n",
      "Epoch: 72. \n",
      "Loss on training: 0.18926476466818234 \n",
      "Loss on validation: 0.18391823768615723 \n",
      "##########\n",
      "Epoch: 73. \n",
      "Loss on training: 0.18902481529371115 \n",
      "Loss on validation: 0.18504855036735535 \n",
      "##########\n",
      "Epoch: 74. \n",
      "Loss on training: 0.1874581470878588 \n",
      "Loss on validation: 0.1790677160024643 \n",
      "##########\n",
      "Epoch: 75. \n",
      "Loss on training: 0.18629561524470278 \n",
      "Loss on validation: 0.18010041117668152 \n",
      "##########\n",
      "Epoch: 76. \n",
      "Loss on training: 0.18815195910755253 \n",
      "Loss on validation: 0.179016575217247 \n",
      "##########\n",
      "Epoch: 77. \n",
      "Loss on training: 0.18914023174333228 \n",
      "Loss on validation: 0.1781606525182724 \n",
      "##########\n",
      "Epoch: 78. \n",
      "Loss on training: 0.18792508294568264 \n",
      "Loss on validation: 0.1772356927394867 \n",
      "##########\n",
      "Epoch: 79. \n",
      "Loss on training: 0.1897190253714046 \n",
      "Loss on validation: 0.17795158922672272 \n",
      "##########\n",
      "Epoch: 80. \n",
      "Loss on training: 0.18849863914519915 \n",
      "Loss on validation: 0.1776685118675232 \n",
      "##########\n",
      "Epoch: 81. \n",
      "Loss on training: 0.1888942662588179 \n",
      "Loss on validation: 0.17971709370613098 \n",
      "##########\n",
      "Epoch: 82. \n",
      "Loss on training: 0.1871328100201831 \n",
      "Loss on validation: 0.17863281071186066 \n",
      "##########\n",
      "Epoch: 83. \n",
      "Loss on training: 0.18827630454528724 \n",
      "Loss on validation: 0.17888982594013214 \n",
      "##########\n",
      "Epoch: 84. \n",
      "Loss on training: 0.18920983445788483 \n",
      "Loss on validation: 0.17881162464618683 \n",
      "##########\n",
      "Epoch: 85. \n",
      "Loss on training: 0.18727546850211704 \n",
      "Loss on validation: 0.1829722672700882 \n",
      "##########\n",
      "Epoch: 86. \n",
      "Loss on training: 0.18785104837360572 \n",
      "Loss on validation: 0.17667587101459503 \n",
      "##########\n",
      "Epoch: 87. \n",
      "Loss on training: 0.1888643054582884 \n",
      "Loss on validation: 0.18013526499271393 \n",
      "##########\n",
      "Epoch: 88. \n",
      "Loss on training: 0.1883429114825625 \n",
      "Loss on validation: 0.1837155818939209 \n",
      "##########\n",
      "Epoch: 89. \n",
      "Loss on training: 0.18687451778385988 \n",
      "Loss on validation: 0.179850235581398 \n",
      "##########\n",
      "Epoch: 90. \n",
      "Loss on training: 0.18801021657562184 \n",
      "Loss on validation: 0.17745298147201538 \n",
      "##########\n",
      "Epoch: 91. \n",
      "Loss on training: 0.18627522349618222 \n",
      "Loss on validation: 0.17896601557731628 \n",
      "##########\n",
      "Epoch: 92. \n",
      "Loss on training: 0.18711695026744296 \n",
      "Loss on validation: 0.17744721472263336 \n",
      "##########\n",
      "Epoch: 93. \n",
      "Loss on training: 0.18827858362960104 \n",
      "Loss on validation: 0.17936943471431732 \n",
      "##########\n",
      "Epoch: 94. \n",
      "Loss on training: 0.1865778601164987 \n",
      "Loss on validation: 0.18073192238807678 \n",
      "##########\n",
      "Epoch: 95. \n",
      "Loss on training: 0.18768133370228757 \n",
      "Loss on validation: 0.17736130952835083 \n",
      "##########\n",
      "Epoch: 96. \n",
      "Loss on training: 0.18700794414942892 \n",
      "Loss on validation: 0.1777384728193283 \n",
      "##########\n",
      "Epoch: 97. \n",
      "Loss on training: 0.1875687032102496 \n",
      "Loss on validation: 0.1785425841808319 \n",
      "##########\n",
      "Epoch: 98. \n",
      "Loss on training: 0.18934248541117696 \n",
      "Loss on validation: 0.17881272733211517 \n",
      "##########\n",
      "Epoch: 99. \n",
      "Loss on training: 0.188322441441624 \n",
      "Loss on validation: 0.1771545112133026 \n",
      "##########\n",
      "Error: 6.299212598425197%\n"
     ]
    }
   ],
   "source": [
    "nn_params = [[7, 7,4,10, 1], 'tanh']\n",
    "\n",
    "n_folds(5, rice_train, lambda *args: run_pytorch_network(nn_params, 0.001, 100, *args), silent=False)\n",
    "pred = run_pytorch_network(nn_params, 0.001, 100, rice_train.copy(), rice_test[:, :-1], silent=False)\n",
    "print(f\"Error: {classification_error(pred, rice_test[:, -1])}%\")"
   ]
  },
  {
   "cell_type": "code",
   "execution_count": null,
   "outputs": [],
   "source": [],
   "metadata": {
    "collapsed": false,
    "pycharm": {
     "is_executing": true
    }
   }
  },
  {
   "cell_type": "code",
   "execution_count": null,
   "outputs": [],
   "source": [],
   "metadata": {
    "collapsed": false
   }
  }
 ],
 "metadata": {
  "kernelspec": {
   "display_name": "Python 3",
   "language": "python",
   "name": "python3"
  },
  "language_info": {
   "codemirror_mode": {
    "name": "ipython",
    "version": 3
   },
   "file_extension": ".py",
   "mimetype": "text/x-python",
   "name": "python",
   "nbconvert_exporter": "python",
   "pygments_lexer": "ipython3",
   "version": "3.11.6"
  }
 },
 "nbformat": 4,
 "nbformat_minor": 0
}
