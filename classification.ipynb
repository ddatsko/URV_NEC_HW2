{
 "cells": [
  {
   "cell_type": "code",
   "execution_count": 1,
   "metadata": {
    "collapsed": true
   },
   "outputs": [],
   "source": [
    "import numpy as np\n",
    "import matplotlib.pyplot as plt\n",
    "import pandas as pd\n",
    "import torch\n",
    "import torch.nn as nn\n",
    "import random\n",
    "from sklearn.linear_model import LinearRegression\n",
    "from sklearn.svm import SVC\n",
    "import torch.nn.functional as F\n",
    "import copy"
   ]
  },
  {
   "cell_type": "markdown",
   "metadata": {
    "collapsed": false
   },
   "source": [
    "#### Firstly, define some common functions to make things easier in the future"
   ]
  },
  {
   "cell_type": "code",
   "execution_count": 2,
   "metadata": {
    "collapsed": false
   },
   "outputs": [],
   "source": [
    "# pyTorch neural network class\n",
    "\n",
    "class MyPytorchNetwork(nn.Module):\n",
    "    def __init__(self, layers, activation):\n",
    "        super(MyPytorchNetwork, self).__init__()\n",
    "        self.activation = activation\n",
    "        self.fc_layers = nn.ModuleList([nn.Linear(layers[i], layers[i + 1]) for i in range(len(layers) - 1)])\n",
    "\n",
    "    def forward(self, x):\n",
    "        x = torch.flatten(x, 1)\n",
    "\n",
    "        # TODO: I'm using relus everywhere for now, we need to change it to be adjustable\n",
    "        for layer in self.fc_layers[:-1]:\n",
    "            if self.activation == 'linear':\n",
    "                x = layer(x)\n",
    "            elif self.activation == 'relu':\n",
    "                x = F.relu(layer(x))\n",
    "            elif self.activation == 'sigmoid':\n",
    "                x = torch.sigmoid(layer(x))\n",
    "            elif self.activation == 'tanh':\n",
    "                x = torch.tanh(layer(x))\n",
    "            else:\n",
    "                raise ValueError(f\"Activation funtion {self.activation} is invalid\")\n",
    "\n",
    "        # Always sigmoid on the last lauer\n",
    "        return torch.sigmoid(self.fc_layers[-1](x))\n",
    "\n",
    "\n",
    "def train_torch_network(network: MyPytorchNetwork, dataset, max_epochs, batch_size, train_ratio=0.8,\n",
    "                        learning_rate=0.001, momentum=0.9, silent=False):\n",
    "    loss_fn = torch.nn.BCELoss()\n",
    "    # TODO: think of making the learning rate adaptive here, e.g. by using pytorch LR scheduler\n",
    "    optimizer = torch.optim.SGD(network.parameters(), lr=learning_rate, momentum=momentum)\n",
    "    split_index = int(dataset.shape[0] * train_ratio)\n",
    "    train, validation = dataset[:split_index, :], torch.from_numpy(dataset[split_index:, :])\n",
    "\n",
    "    best_validation_loss = float(\"inf\")\n",
    "    best_network = copy.deepcopy(network)\n",
    "\n",
    "    for epoch in range(max_epochs):\n",
    "        np.random.shuffle(train)\n",
    "        torch_train = torch.from_numpy(train)\n",
    "        batch_start_idx = 0\n",
    "\n",
    "        batches_loss = []\n",
    "        # This way we skip last samples if there are less than batch_size of them\n",
    "        while batch_start_idx + batch_size <= torch_train.shape[0]:\n",
    "            optimizer.zero_grad()\n",
    "            outputs = network(torch_train[batch_start_idx:batch_start_idx + batch_size, :-1])\n",
    "            loss = loss_fn(torch.flatten(outputs), torch_train[batch_start_idx:batch_start_idx + batch_size, -1])\n",
    "            batches_loss.append(loss.item())\n",
    "\n",
    "            loss.backward()\n",
    "\n",
    "            optimizer.step()\n",
    "            batch_start_idx += batch_size\n",
    "\n",
    "        # Now, check the loss on validation dataset\n",
    "        validation_output = torch.flatten(network(validation[:, :-1]))\n",
    "        validation_loss = loss_fn(validation_output, validation[:, -1])\n",
    "        # print(f\"{validation_loss=}\")\n",
    "\n",
    "        if validation_loss < best_validation_loss:\n",
    "            best_validation_loss = validation_loss\n",
    "            best_network = copy.deepcopy(network)\n",
    "\n",
    "\n",
    "        if not silent:\n",
    "            print(\n",
    "                f\"Epoch: {epoch}. \\nLoss on training: {np.mean(batches_loss)} \\nLoss on validation: {validation_loss} \\n##########\")\n",
    "\n",
    "    return best_network\n"
   ]
  },
  {
   "cell_type": "code",
   "execution_count": 43,
   "metadata": {
    "collapsed": false
   },
   "outputs": [],
   "source": [
    "def run_svm(svm_parameters, train_dataset, test_inputs) -> np.array:\n",
    "    svc = SVC(**svm_parameters)\n",
    "    svc.fit(train_dataset[:, :-1], train_dataset[:, -1])\n",
    "    return svc.predict(test_inputs)\n",
    "\n",
    "\n",
    "def run_linear_regression(train_dataset, test_inputs) -> np.array:\n",
    "    \"\"\"\n",
    "    Train a linear regression on train_inputs, and predict data for test_inputs\n",
    "    \"\"\"\n",
    "    reg = LinearRegression().fit(train_dataset[:, :-1], train_dataset[:, -1])\n",
    "    prediction = reg.predict(test_inputs)\n",
    "    prediction[prediction > 0.2] = 1\n",
    "    prediction[prediction != 1] = 0\n",
    "    return prediction\n",
    "\n",
    "\n",
    "def run_linear_regression_get_real_scores(train_dataset, test_inputs) -> np.array:\n",
    "    \"\"\"\n",
    "    Train a linear regression on train_inputs, and predict data for test_inputs\n",
    "    \"\"\"\n",
    "    reg = LinearRegression().fit(train_dataset[:, :-1], train_dataset[:, -1])\n",
    "    prediction = reg.predict(test_inputs)\n",
    "    return prediction\n",
    "\n",
    "\n",
    "def run_pytorch_network(network_parameters, lr, epochs, train_dataset, test_inputs, silent=True) -> np.array:\n",
    "    \"\"\"\n",
    "    Train a pytorch network and predict outputs for test_inputs\n",
    "    \"\"\"\n",
    "    torch.manual_seed(0)\n",
    "    random.seed(42)\n",
    "    np.random.seed(42)\n",
    "    network = MyPytorchNetwork(*network_parameters)\n",
    "    network = train_torch_network(network, train_dataset, epochs, 10, learning_rate=lr, silent=silent, momentum=0.9,\n",
    "                        train_ratio=0.8)\n",
    "    prediction = network(torch.from_numpy(test_inputs)).detach().numpy().flatten()\n",
    "    prediction[prediction > 0.5] = 1\n",
    "    prediction[prediction != 1] = 0\n",
    "    return prediction"
   ]
  },
  {
   "cell_type": "code",
   "execution_count": 4,
   "metadata": {
    "collapsed": false
   },
   "outputs": [],
   "source": [
    "def classification_error(real_values, predictions):\n",
    "    return 100 * np.sum(np.abs(real_values - predictions)) / real_values.shape[0]\n",
    "\n",
    "\n",
    "def n_folds(n, train_data, model, silent=True):\n",
    "    # Maybe this is not the best place to set the seed, but this case each run of the function is predictable\n",
    "    np.random.seed(42)\n",
    "    np.random.shuffle(train_data)\n",
    "    split_indices = [int(i * train_data.shape[0] / n) for i in range(n + 1)]\n",
    "    errors = []\n",
    "\n",
    "    for i in range(n):\n",
    "        split_validation = train_data[split_indices[i]:split_indices[i + 1], :]\n",
    "        split_training = np.vstack((train_data[:split_indices[i], :], train_data[split_indices[i + 1]:, :]))\n",
    "        split_pred = model(split_training, split_validation[:, :-1])\n",
    "        error = classification_error(split_pred, split_validation[:, -1])\n",
    "        if not silent:\n",
    "            print(f\"Error on one validation split: {error=}\")\n",
    "        errors.append(error)\n",
    "    return np.mean(error)\n"
   ]
  },
  {
   "cell_type": "code",
   "execution_count": 49,
   "metadata": {},
   "outputs": [
    {
     "data": {
      "image/png": "[encoded data removed]",
      "text/plain": [
       "<Figure size 640x480 with 2 Axes>"
      ]
     },
     "metadata": {},
     "output_type": "display_data"
    }
   ],
   "source": [
    "import matplotlib.pyplot as plt\n",
    "from sklearn.metrics import confusion_matrix\n",
    "from sklearn.metrics import ConfusionMatrixDisplay\n",
    "\n",
    "def plot_confusion_matrix(real_values, predictions, class_names):\n",
    "    cm = confusion_matrix(real_values, predictions)\n",
    "    disp = ConfusionMatrixDisplay(confusion_matrix=cm, display_labels=class_names)\n",
    "    \n",
    "    # Plotting the confusion matrix as a heatmap\n",
    "    disp.plot(cmap='Blues', values_format='d')\n",
    "    \n",
    "    plt.title('Confusion Matrix')\n",
    "    plt.show()\n",
    "\n",
    "# Example \n",
    "real_values = [1, 0, 1, 1, 0, 1, 0, 0, 1]\n",
    "predictions = [1, 0, 1, 0, 1, 1, 0, 1, 1]\n",
    "# Assuming binary classification with class names 'Negative' and 'Positive'\n",
    "class_names = ['Negative', 'Positive']\n",
    "\n",
    "plot_confusion_matrix(real_values, predictions, class_names)\n",
    "    "
   ]
  },
  {
   "cell_type": "code",
   "execution_count": 41,
   "metadata": {},
   "outputs": [],
   "source": [
    "import numpy as np\n",
    "from sklearn import metrics\n",
    "from sklearn.metrics import roc_auc_score\n",
    "\n",
    "def plot_roc_curve(real, prediction_score):\n",
    "    fpr, tpr, thresholds = metrics.roc_curve(real,prediction_score)\n",
    "    print(roc_auc_score(real,prediction_score))\n",
    "    \n",
    "\n",
    "    plt.plot([0,1], [0,1], '--')\n",
    "    plt.plot(fpr, tpr)\n",
    "    plt.xlabel(\"False Positive Rate\")\n",
    "    plt.ylabel(\"True Positive Rate\")\n",
    "    plt.title('ROC Curve')\n",
    "    plt.show()\n",
    "\n",
    "\n"
   ]
  },
  {
   "cell_type": "markdown",
   "metadata": {
    "collapsed": false
   },
   "source": [
    "### Trying with \"ring\" dataset"
   ]
  },
  {
   "cell_type": "code",
   "execution_count": 5,
   "metadata": {
    "collapsed": false
   },
   "outputs": [],
   "source": [
    "def plot_ring_pred(data, pred):\n",
    "    plt.scatter(data[pred == 0, 0], data[pred == 0, 1], color='blue')\n",
    "    plt.scatter(data[pred == 1, 0], data[pred == 1, 1], color='red')\n",
    "    plt.axis('equal')"
   ]
  },
  {
   "cell_type": "code",
   "execution_count": 6,
   "metadata": {
    "collapsed": false
   },
   "outputs": [
    {
     "data": {
      "image/png": "[encoded data removed]",
      "text/plain": [
       "<Figure size 432x288 with 1 Axes>"
      ]
     },
     "metadata": {
      "needs_background": "light"
     },
     "output_type": "display_data"
    }
   ],
   "source": [
    "# Firstly, try with the separable one\n",
    "ring_sep = np.genfromtxt(\"A2-ring/A2-ring-separable.txt\", dtype=np.float32, delimiter=\"\\t\")\n",
    "ring_merged = np.genfromtxt(\"A2-ring/A2-ring-merged.txt\", dtype=np.float32, delimiter=\"\\t\")\n",
    "ring_test = np.genfromtxt(\"A2-ring/A2-ring-test.txt\", dtype=np.float32, delimiter=\"\\t\")\n",
    "plot_ring_pred(ring_sep[:, :2], ring_sep[:, 2])"
   ]
  },
  {
   "cell_type": "code",
   "execution_count": 7,
   "metadata": {
    "collapsed": false
   },
   "outputs": [
    {
     "name": "stdout",
     "output_type": "stream",
     "text": [
      "Error on one validation split: error=47.45\n",
      "Error on one validation split: error=49.7\n",
      "Error on one validation split: error=46.4\n",
      "Error on one validation split: error=47.3\n",
      "Error on one validation split: error=49.0\n"
     ]
    },
    {
     "data": {
      "text/plain": [
       "49.0"
      ]
     },
     "execution_count": 7,
     "metadata": {},
     "output_type": "execute_result"
    }
   ],
   "source": [
    "n_folds(5, ring_sep, lambda *params: run_svm({\"kernel\": \"linear\"}, *params), silent=False)"
   ]
  },
  {
   "cell_type": "code",
   "execution_count": 8,
   "metadata": {
    "collapsed": false
   },
   "outputs": [],
   "source": [
    "# Plotting the data\n",
    "pred = run_svm({\"kernel\": \"linear\"}, ring_sep, ring_test[:, :-1])"
   ]
  },
  {
   "cell_type": "code",
   "execution_count": 9,
   "metadata": {
    "collapsed": false
   },
   "outputs": [
    {
     "data": {
      "image/png": "[encoded data removed]",
      "text/plain": [
       "<Figure size 432x288 with 2 Axes>"
      ]
     },
     "metadata": {
      "needs_background": "light"
     },
     "output_type": "display_data"
    }
   ],
   "source": [
    "plt.subplot(1, 2, 1)\n",
    "plot_ring_pred(ring_test[:, :2], ring_test[:, 2])\n",
    "plt.subplot(1, 2, 2)\n",
    "plot_ring_pred(ring_test[:, :2], pred)"
   ]
  },
  {
   "cell_type": "markdown",
   "metadata": {
    "collapsed": false
   },
   "source": [
    "As predicted, an SVM with linear kernel cannot properly separate such data"
   ]
  },
  {
   "cell_type": "code",
   "execution_count": 10,
   "metadata": {
    "collapsed": false
   },
   "outputs": [
    {
     "name": "stdout",
     "output_type": "stream",
     "text": [
      "Error on one validation split: error=0.35\n",
      "Error on one validation split: error=0.85\n",
      "Error on one validation split: error=0.35\n",
      "Error on one validation split: error=0.35\n",
      "Error on one validation split: error=0.7\n",
      "Error: 0.31%\n"
     ]
    },
    {
     "data": {
      "image/png": "[encoded data removed]",
      "text/plain": [
       "<Figure size 432x288 with 2 Axes>"
      ]
     },
     "metadata": {
      "needs_background": "light"
     },
     "output_type": "display_data"
    }
   ],
   "source": [
    "n_folds(5, ring_sep, lambda *params: run_svm({\"kernel\": \"rbf\", \"C\": 100, \"gamma\": 4}, *params), silent=False)\n",
    "pred = run_svm({\"kernel\": \"rbf\", \"C\": 100, \"gamma\": 4}, ring_sep, ring_test[:, :-1])\n",
    "plt.subplot(1, 2, 1)\n",
    "plot_ring_pred(ring_test[:, :2], ring_test[:, 2])\n",
    "plt.subplot(1, 2, 2)\n",
    "plot_ring_pred(ring_test[:, :2], pred)\n",
    "print(f\"Error: {classification_error(pred, ring_test[:, -1])}%\")"
   ]
  },
  {
   "cell_type": "markdown",
   "metadata": {
    "collapsed": false
   },
   "source": [
    "On the other hand, when data is linearly separable, a radial kernel works perfectly with pretty large gamma and large C. However, these parameters need to be tuned better when dealing with merged data. As we can see in the following section, during cross validation the error is pretty large, as the data is tightly \"merged\" into each other. However, the test set is a subset of linearly separable one, and on it only 2.08% of samples are misclassified"
   ]
  },
  {
   "cell_type": "code",
   "execution_count": 11,
   "metadata": {
    "collapsed": false
   },
   "outputs": [
    {
     "name": "stdout",
     "output_type": "stream",
     "text": [
      "Error on one validation split: error=22.75\n",
      "Error on one validation split: error=21.2\n",
      "Error on one validation split: error=23.1\n",
      "Error on one validation split: error=22.3\n",
      "Error on one validation split: error=21.25\n",
      "Error: 2.08%\n"
     ]
    },
    {
     "data": {
      "image/png": "[encoded data removed]",
      "text/plain": [
       "<Figure size 432x288 with 2 Axes>"
      ]
     },
     "metadata": {
      "needs_background": "light"
     },
     "output_type": "display_data"
    }
   ],
   "source": [
    "svm_params = {\"kernel\": \"rbf\", \"C\": 1, \"gamma\": 2}\n",
    "n_folds(5, ring_merged, lambda *args: run_svm(svm_params, *args), silent=False)\n",
    "pred = run_svm(svm_params, ring_merged, ring_test[:, :-1])\n",
    "plt.subplot(1, 2, 1)\n",
    "plot_ring_pred(ring_test[:, :2], ring_test[:, 2])\n",
    "plt.subplot(1, 2, 2)\n",
    "plot_ring_pred(ring_test[:, :2], pred)\n",
    "print(f\"Error: {classification_error(pred, ring_test[:, -1])}%\")"
   ]
  },
  {
   "cell_type": "markdown",
   "metadata": {
    "collapsed": false
   },
   "source": [
    "#### As expected, linear regression cannot classify the data, so the best it can do is to classify all the elements into more represented class"
   ]
  },
  {
   "cell_type": "code",
   "execution_count": 12,
   "metadata": {
    "collapsed": false
   },
   "outputs": [
    {
     "name": "stdout",
     "output_type": "stream",
     "text": [
      "Error on one validation split: error=45.1\n",
      "Error on one validation split: error=44.95\n",
      "Error on one validation split: error=43.95\n",
      "Error on one validation split: error=45.5\n",
      "Error on one validation split: error=44.75\n",
      "Error on one validation split: error=50.9\n",
      "Error on one validation split: error=59.3\n",
      "Error on one validation split: error=48.8\n",
      "Error on one validation split: error=47.6\n",
      "Error on one validation split: error=48.45\n",
      "Error: 46.67%\n"
     ]
    },
    {
     "data": {
      "image/png": "[encoded data removed]",
      "text/plain": [
       "<Figure size 432x288 with 1 Axes>"
      ]
     },
     "metadata": {
      "needs_background": "light"
     },
     "output_type": "display_data"
    }
   ],
   "source": [
    "n_folds(5, ring_merged, run_linear_regression, silent=False)\n",
    "n_folds(5, ring_sep, run_linear_regression, silent=False)\n",
    "pred = run_linear_regression(ring_merged, ring_test[:, :-1])\n",
    "plot_ring_pred(ring_test[:, :2], pred)\n",
    "print(f\"Error: {classification_error(pred, ring_test[:, -1])}%\")"
   ]
  },
  {
   "cell_type": "markdown",
   "metadata": {
    "collapsed": false
   },
   "source": [
    "When trying to train a neural network, I was experimenting with many parameters and found ones that give a good enough result. I use binary cross-entropy loss for training and 2 large hidden layers with tanh activation. Here, I am validating using N-folds and then train a network on full input data"
   ]
  },
  {
   "cell_type": "code",
   "execution_count": 13,
   "metadata": {
    "collapsed": false
   },
   "outputs": [
    {
     "name": "stdout",
     "output_type": "stream",
     "text": [
      "Error on one validation split: error=3.6\n",
      "Error on one validation split: error=1.75\n",
      "Error on one validation split: error=2.7\n",
      "Error on one validation split: error=1.45\n",
      "Error on one validation split: error=1.7\n",
      "Error: 2.38%\n"
     ]
    },
    {
     "data": {
      "image/png": "[encoded data removed]",
      "text/plain": [
       "<Figure size 432x288 with 1 Axes>"
      ]
     },
     "metadata": {
      "needs_background": "light"
     },
     "output_type": "display_data"
    }
   ],
   "source": [
    "nn_params = [[2, 16, 15, 1], 'tanh']\n",
    "\n",
    "n_folds(5, ring_sep, lambda *args: run_pytorch_network(nn_params, 0.006, 30, *args), silent=False)\n",
    "pred = run_pytorch_network(nn_params, 0.006, 30, ring_sep.copy(), ring_test[:, :-1])\n",
    "plot_ring_pred(ring_test[:, :2], pred)\n",
    "print(f\"Error: {classification_error(pred, ring_test[:, -1])}%\")"
   ]
  },
  {
   "cell_type": "markdown",
   "metadata": {
    "collapsed": false
   },
   "source": [
    "On not linearly separable data the network pretty quickly converges to a point where both training and validation losses don't change much. Maybe with some parameters the performance would be better, but even now the error is 3-5%, which is not much"
   ]
  },
  {
   "cell_type": "code",
   "execution_count": 14,
   "metadata": {
    "collapsed": false
   },
   "outputs": [
    {
     "name": "stdout",
     "output_type": "stream",
     "text": [
      "Error on one validation split: error=20.9\n",
      "Error on one validation split: error=20.75\n",
      "Error on one validation split: error=23.1\n",
      "Error on one validation split: error=23.45\n",
      "Error on one validation split: error=23.9\n",
      "Epoch: 0. \n",
      "Loss on training: 0.6509861425310374 \n",
      "Loss on validation: 0.5735043883323669 \n",
      "##########\n",
      "Epoch: 1. \n",
      "Loss on training: 0.5387423607893288 \n",
      "Loss on validation: 0.5491913557052612 \n",
      "##########\n",
      "Epoch: 2. \n",
      "Loss on training: 0.5280576080456376 \n",
      "Loss on validation: 0.5526435971260071 \n",
      "##########\n",
      "Epoch: 3. \n",
      "Loss on training: 0.5206048706173897 \n",
      "Loss on validation: 0.5384148955345154 \n",
      "##########\n",
      "Epoch: 4. \n",
      "Loss on training: 0.5187956651858986 \n",
      "Loss on validation: 0.5301970839500427 \n",
      "##########\n",
      "Epoch: 5. \n",
      "Loss on training: 0.5178090823814273 \n",
      "Loss on validation: 0.5464925169944763 \n",
      "##########\n",
      "Epoch: 6. \n",
      "Loss on training: 0.5115897830575704 \n",
      "Loss on validation: 0.5497462749481201 \n",
      "##########\n",
      "Epoch: 7. \n",
      "Loss on training: 0.507951969280839 \n",
      "Loss on validation: 0.5226604342460632 \n",
      "##########\n",
      "Epoch: 8. \n",
      "Loss on training: 0.5007818529196083 \n",
      "Loss on validation: 0.5200778245925903 \n",
      "##########\n",
      "Epoch: 9. \n",
      "Loss on training: 0.49141790095716714 \n",
      "Loss on validation: 0.5367735624313354 \n",
      "##########\n",
      "Epoch: 10. \n",
      "Loss on training: 0.4909133955370635 \n",
      "Loss on validation: 0.5056266188621521 \n",
      "##########\n",
      "Epoch: 11. \n",
      "Loss on training: 0.48589557692408564 \n",
      "Loss on validation: 0.553824245929718 \n",
      "##########\n",
      "Epoch: 12. \n",
      "Loss on training: 0.4829562511108816 \n",
      "Loss on validation: 0.5211589336395264 \n",
      "##########\n",
      "Epoch: 13. \n",
      "Loss on training: 0.48164698148146273 \n",
      "Loss on validation: 0.5205637216567993 \n",
      "##########\n",
      "Epoch: 14. \n",
      "Loss on training: 0.4832462962530553 \n",
      "Loss on validation: 0.5195543766021729 \n",
      "##########\n",
      "Epoch: 15. \n",
      "Loss on training: 0.4831202051229775 \n",
      "Loss on validation: 0.5161798596382141 \n",
      "##########\n",
      "Epoch: 16. \n",
      "Loss on training: 0.48305860955268143 \n",
      "Loss on validation: 0.5195257663726807 \n",
      "##########\n",
      "Epoch: 17. \n",
      "Loss on training: 0.4810799943655729 \n",
      "Loss on validation: 0.5155444145202637 \n",
      "##########\n",
      "Epoch: 18. \n",
      "Loss on training: 0.4824629813618958 \n",
      "Loss on validation: 0.5217118859291077 \n",
      "##########\n",
      "Epoch: 19. \n",
      "Loss on training: 0.4837576788291335 \n",
      "Loss on validation: 0.5068475604057312 \n",
      "##########\n",
      "Error: 3.26%\n"
     ]
    },
    {
     "data": {
      "image/png": "[encoded data removed]",
      "text/plain": [
       "<Figure size 432x288 with 1 Axes>"
      ]
     },
     "metadata": {
      "needs_background": "light"
     },
     "output_type": "display_data"
    }
   ],
   "source": [
    "nn_params = [[2, 16, 15, 1], 'relu']\n",
    "\n",
    "n_folds(5, ring_merged, lambda *args: run_pytorch_network(nn_params, 0.01, 20, *args), silent=False)\n",
    "pred = run_pytorch_network(nn_params, 0.01, 20, ring_merged.copy(), ring_test[:, :-1], silent=False)\n",
    "plot_ring_pred(ring_test[:, :2], pred)\n",
    "print(f\"Error: {classification_error(pred, ring_test[:, -1])}%\")"
   ]
  },
  {
   "cell_type": "markdown",
   "metadata": {
    "collapsed": false
   },
   "source": [
    "### Trying with \"bank\" dataset"
   ]
  },
  {
   "cell_type": "code",
   "execution_count": 31,
   "metadata": {
    "collapsed": false
   },
   "outputs": [
    {
     "name": "stdout",
     "output_type": "stream",
     "text": [
      "(32950, 23) (8238, 23)\n"
     ]
    }
   ],
   "source": [
    "bank_full = np.genfromtxt(\"A2-bank/bank-full-preprocessed.csv\", dtype=np.float32, skip_header=1, delimiter=',')\n",
    "\n",
    "# Split into test and train only once so we compare each model in the same conditions\n",
    "np.random.seed(42)\n",
    "np.random.shuffle(bank_full)\n",
    "\n",
    "split_index = int(0.8 * bank_full.shape[0])\n",
    "bank_train = bank_full[:split_index, :]\n",
    "bank_test = bank_full[split_index:, :]\n",
    "\n",
    "print(bank_train.shape, bank_test.shape)"
   ]
  },
  {
   "cell_type": "markdown",
   "metadata": {
    "collapsed": false
   },
   "source": [
    "On this dataset, a simple linear regression works almost perfectly. In both cross validation and training on the whole training dataset, the error is below 0.36%. When training on test data, only 14 samples from the test dataset are misclassified"
   ]
  },
  {
   "cell_type": "code",
   "execution_count": 35,
   "metadata": {
    "collapsed": false
   },
   "outputs": [
    {
     "name": "stdout",
     "output_type": "stream",
     "text": [
      "Error on one validation split: error=0.2276176024279211\n",
      "Error on one validation split: error=0.15174506828528073\n",
      "Error on one validation split: error=0.09104704097116843\n",
      "Error on one validation split: error=0.36418816388467373\n",
      "Error on one validation split: error=0.1669195751138088\n",
      "Error: 0.16994416120417577%\n",
      "14.0\n"
     ]
    }
   ],
   "source": [
    "n_folds(5, bank_train, run_linear_regression, silent=False)\n",
    "pred = run_linear_regression(bank_train, bank_test[:, :-1])\n",
    "print(f\"Error: {classification_error(bank_test[:, -1], pred)}%\")\n",
    "print(np.sum(np.abs(pred - bank_test[:, -1])))\n"
   ]
  },
  {
   "cell_type": "markdown",
   "metadata": {
    "collapsed": false
   },
   "source": [
    "Let's now try to train an SVM on this data. As the linear regression works very well, a linear kernel should show a good performance too. As we can see, the performance is very similar. I was experimenting with different kernels here, but they just give the same result as the linear one"
   ]
  },
  {
   "cell_type": "code",
   "execution_count": 38,
   "metadata": {
    "collapsed": false
   },
   "outputs": [
    {
     "name": "stdout",
     "output_type": "stream",
     "text": [
      "Error on one validation split: error=0.2276176024279211\n",
      "Error on one validation split: error=0.18209408194233687\n",
      "Error on one validation split: error=0.18209408194233687\n",
      "Error on one validation split: error=0.15174506828528073\n",
      "Error on one validation split: error=0.25796661608497723\n",
      "Error: 0.16994416120417577%\n"
     ]
    }
   ],
   "source": [
    "n_folds(5, bank_train, lambda *params: run_svm({\"kernel\": \"linear\"}, *params), silent=False)\n",
    "pred = run_svm({\"kernel\": \"linear\"}, bank_train, bank_test[:, :-1])\n",
    "print(f\"Error: {classification_error(bank_test[:, -1], pred)}%\")"
   ]
  },
  {
   "cell_type": "code",
   "execution_count": 48,
   "metadata": {
    "collapsed": false
   },
   "outputs": [
    {
     "name": "stdout",
     "output_type": "stream",
     "text": [
      "Error on one validation split: error=0.24279210925644917\n",
      "Error on one validation split: error=0.18209408194233687\n",
      "Error on one validation split: error=0.13657056145675264\n",
      "Error on one validation split: error=0.25796661608497723\n",
      "Error on one validation split: error=0.18209408194233687\n",
      "Error: 0.16994416120417577%\n"
     ]
    }
   ],
   "source": [
    "n_folds(5, bank_train, lambda *params: run_svm({\"kernel\": \"rbf\"}, *params), silent=False)\n",
    "pred = run_svm({\"kernel\": \"rbf\"}, bank_train, bank_test[:, :-1])\n",
    "print(f\"Error: {classification_error(bank_test[:, -1], pred)}%\")"
   ]
  },
  {
   "cell_type": "markdown",
   "metadata": {
    "collapsed": false
   },
   "source": [
    "Now trying with a neural network. The network with only 1 hidden layer and tanh activation shows very good results here, and pretty quickly converges to a good error, close to the one obtained from linear regression"
   ]
  },
  {
   "cell_type": "code",
   "execution_count": 56,
   "metadata": {
    "collapsed": false
   },
   "outputs": [
    {
     "name": "stdout",
     "output_type": "stream",
     "text": [
      "Error on one validation split: error=0.12139605462822459\n",
      "Error on one validation split: error=0.24279210925644917\n",
      "Error on one validation split: error=0.212443095599393\n",
      "Error on one validation split: error=0.1669195751138088\n",
      "Error on one validation split: error=0.25796661608497723\n",
      "Epoch: 0. \n",
      "Loss on training: 0.2884639931619393 \n",
      "Loss on validation: 0.18023169040679932 \n",
      "##########\n",
      "Epoch: 1. \n",
      "Loss on training: 0.0826146119109557 \n",
      "Loss on validation: 0.0407930351793766 \n",
      "##########\n",
      "Epoch: 2. \n",
      "Loss on training: 0.025726683566605388 \n",
      "Loss on validation: 0.021734729409217834 \n",
      "##########\n",
      "Epoch: 3. \n",
      "Loss on training: 0.016019583719217943 \n",
      "Loss on validation: 0.01678452640771866 \n",
      "##########\n",
      "Epoch: 4. \n",
      "Loss on training: 0.012960492831842807 \n",
      "Loss on validation: 0.014926476404070854 \n",
      "##########\n",
      "Epoch: 5. \n",
      "Loss on training: 0.011585282677353878 \n",
      "Loss on validation: 0.014148217625916004 \n",
      "##########\n",
      "Epoch: 6. \n",
      "Loss on training: 0.010847993614964685 \n",
      "Loss on validation: 0.013522938825190067 \n",
      "##########\n",
      "Epoch: 7. \n",
      "Loss on training: 0.01039215965883323 \n",
      "Loss on validation: 0.013227012008428574 \n",
      "##########\n",
      "Epoch: 8. \n",
      "Loss on training: 0.010123656030402222 \n",
      "Loss on validation: 0.01305070985108614 \n",
      "##########\n",
      "Epoch: 9. \n",
      "Loss on training: 0.009894398972336878 \n",
      "Loss on validation: 0.012870772741734982 \n",
      "##########\n",
      "Epoch: 10. \n",
      "Loss on training: 0.00975950514542496 \n",
      "Loss on validation: 0.012779826298356056 \n",
      "##########\n",
      "Epoch: 11. \n",
      "Loss on training: 0.009592328957365564 \n",
      "Loss on validation: 0.012701457366347313 \n",
      "##########\n",
      "Epoch: 12. \n",
      "Loss on training: 0.009545650536362972 \n",
      "Loss on validation: 0.012637482024729252 \n",
      "##########\n",
      "Epoch: 13. \n",
      "Loss on training: 0.009438976609134042 \n",
      "Loss on validation: 0.01258753053843975 \n",
      "##########\n",
      "Epoch: 14. \n",
      "Loss on training: 0.00935399206207266 \n",
      "Loss on validation: 0.01278465986251831 \n",
      "##########\n",
      "Epoch: 15. \n",
      "Loss on training: 0.009350552583479076 \n",
      "Loss on validation: 0.012517071329057217 \n",
      "##########\n",
      "Epoch: 16. \n",
      "Loss on training: 0.00926015639677158 \n",
      "Loss on validation: 0.012509044259786606 \n",
      "##########\n",
      "Epoch: 17. \n",
      "Loss on training: 0.009254558293570594 \n",
      "Loss on validation: 0.01246642041951418 \n",
      "##########\n",
      "Epoch: 18. \n",
      "Loss on training: 0.009201467696547323 \n",
      "Loss on validation: 0.012441998347640038 \n",
      "##########\n",
      "Epoch: 19. \n",
      "Loss on training: 0.009203179353740208 \n",
      "Loss on validation: 0.012436103075742722 \n",
      "##########\n",
      "Error: 0.16994416120417577%\n"
     ]
    }
   ],
   "source": [
    "nn_params = [[22, 20, 1], 'tanh']\n",
    "\n",
    "n_folds(5, bank_train, lambda *args: run_pytorch_network(nn_params, 0.001, 20, *args), silent=False)\n",
    "pred = run_pytorch_network(nn_params, 0.001, 20, bank_train.copy(), bank_test[:, :-1], silent=False)\n",
    "print(f\"Error: {classification_error(pred, bank_test[:, -1])}%\")"
   ]
  },
  {
   "cell_type": "code",
   "execution_count": 52,
   "metadata": {
    "collapsed": false
   },
   "outputs": [
    {
     "name": "stdout",
     "output_type": "stream",
     "text": [
      "Error: 0.19422189851905802%\n"
     ]
    }
   ],
   "source": []
  },
  {
   "cell_type": "markdown",
   "metadata": {},
   "source": [
    "# Rice dataset"
   ]
  },
  {
   "cell_type": "code",
   "execution_count": 5,
   "metadata": {},
   "outputs": [
    {
     "name": "stdout",
     "output_type": "stream",
     "text": [
      "(3048, 8) (762, 8)\n"
     ]
    }
   ],
   "source": [
    "rice_data = np.genfromtxt(\"A2-Rice/Rice-preprocessed.csv\", dtype=np.float32, skip_header=1, delimiter=',')\n",
    "\n",
    "# Split into test and train only once so we compare each model in the same conditions\n",
    "np.random.seed(42)\n",
    "np.random.shuffle(rice_data)\n",
    "\n",
    "split_index = int(0.8 * rice_data.shape[0])\n",
    "rice_train = rice_data[:split_index, :]\n",
    "rice_test = rice_data[split_index:, :]\n",
    "\n",
    "print(rice_train.shape, rice_test.shape)"
   ]
  },
  {
   "cell_type": "code",
   "execution_count": 38,
   "metadata": {},
   "outputs": [
    {
     "name": "stdout",
     "output_type": "stream",
     "text": [
      "Error on one validation split: error=6.732348111658457\n",
      "Error on one validation split: error=5.573770491803279\n",
      "Error on one validation split: error=9.35960591133005\n",
      "Error on one validation split: error=7.377049180327869\n",
      "Error on one validation split: error=6.557377049180328\n",
      "Error: 6.036745406824147%\n",
      "46.0\n"
     ]
    }
   ],
   "source": [
    "n_folds(5, rice_train, run_linear_regression, silent=False)\n",
    "pred = run_linear_regression(rice_train, rice_test[:, :-1])\n",
    "print(f\"Error: {classification_error(rice_test[:, -1], pred)}%\")\n",
    "print(np.sum(np.abs(pred - rice_test[:, -1])))"
   ]
  },
  {
   "cell_type": "code",
   "execution_count": 46,
   "metadata": {},
   "outputs": [
    {
     "name": "stdout",
     "output_type": "stream",
     "text": [
      "Error on one validation split: error=20.85385878489327\n",
      "Error on one validation split: error=15.737704918032787\n",
      "Error on one validation split: error=24.137931034482758\n",
      "Error on one validation split: error=21.311475409836067\n",
      "Error on one validation split: error=18.19672131147541\n",
      "Error: 20.927188903328002%\n",
      "0.9804643044161285\n"
     ]
    },
    {
     "data": {
      "image/png": "[encoded data removed]",
      "text/plain": [
       "<Figure size 640x480 with 1 Axes>"
      ]
     },
     "metadata": {},
     "output_type": "display_data"
    }
   ],
   "source": [
    "n_folds(5, rice_train, run_linear_regression, silent=False)\n",
    "pred = run_linear_regression_get_real_scores(rice_train, rice_test[:, :-1])\n",
    "print(f\"Error: {classification_error(rice_test[:, -1], pred)}%\")\n",
    "plot_roc_curve(rice_test[:, -1], pred)\n",
    "\n",
    "#print(rice_test[:, -1])"
   ]
  },
  {
   "cell_type": "markdown",
   "metadata": {},
   "source": [
    "On this dataset, a simple linear regression works really good. In both cross validation and training on the whole training dataset, the error is below 8.22%. In the test data there are 46 samples of 762 missclassified"
   ]
  },
  {
   "cell_type": "markdown",
   "metadata": {},
   "source": [
    "Let's now try to train an SVM on this data. As the linear regression works well, a linear kernel should show a good performance too. As we can see, the performance is very similar. I was experimenting with different kernels here, but they just give the same result as the linear one"
   ]
  },
  {
   "cell_type": "code",
   "execution_count": 10,
   "metadata": {},
   "outputs": [
    {
     "name": "stdout",
     "output_type": "stream",
     "text": [
      "Error on one validation split: error=7.8817733990147785\n",
      "Error on one validation split: error=7.540983606557377\n",
      "Error on one validation split: error=5.911330049261084\n",
      "Error on one validation split: error=7.377049180327869\n",
      "Error on one validation split: error=8.032786885245901\n"
     ]
    }
   ],
   "source": [
    "n_folds(5, rice_train, lambda *params: run_svm({\"kernel\": \"rbf\"}, *params), silent=False)\n",
    "pred = run_svm({\"kernel\": \"linear\"}, rice_train, rice_test[:, :-1])\n",
    "print(f\"Error: {classification_error(rice_test[:, -1], pred)}%\")"
   ]
  },
  {
   "cell_type": "markdown",
   "metadata": {},
   "source": [
    "Now trying with a neural network. The network with only 1 hidden layer and tanh activation shows very good results here, and pretty quickly converges to a good error, close to the one obtained from linear regression"
   ]
  },
  {
   "cell_type": "code",
   "execution_count": 23,
   "metadata": {},
   "outputs": [
    {
     "name": "stdout",
     "output_type": "stream",
     "text": [
      "Error on one validation split: error=7.22495894909688\n",
      "Error on one validation split: error=7.540983606557377\n",
      "Error on one validation split: error=5.582922824302135\n",
      "Error on one validation split: error=6.885245901639344\n",
      "Error on one validation split: error=8.032786885245901\n",
      "Epoch: 0. \n",
      "Loss on training: 0.6009234413197992 \n",
      "Loss on validation: 0.46259015798568726 \n",
      "##########\n",
      "Epoch: 1. \n",
      "Loss on training: 0.349665422314479 \n",
      "Loss on validation: 0.2727361023426056 \n",
      "##########\n",
      "Epoch: 2. \n",
      "Loss on training: 0.2392400322566307 \n",
      "Loss on validation: 0.22444933652877808 \n",
      "##########\n",
      "Epoch: 3. \n",
      "Loss on training: 0.21135057906003155 \n",
      "Loss on validation: 0.21248170733451843 \n",
      "##########\n",
      "Epoch: 4. \n",
      "Loss on training: 0.20284394406303458 \n",
      "Loss on validation: 0.20818406343460083 \n",
      "##########\n",
      "Epoch: 5. \n",
      "Loss on training: 0.2011837550734051 \n",
      "Loss on validation: 0.2071133702993393 \n",
      "##########\n",
      "Epoch: 6. \n",
      "Loss on training: 0.19886154903735154 \n",
      "Loss on validation: 0.20599403977394104 \n",
      "##########\n",
      "Epoch: 7. \n",
      "Loss on training: 0.1971630392128548 \n",
      "Loss on validation: 0.20575778186321259 \n",
      "##########\n",
      "Epoch: 8. \n",
      "Loss on training: 0.19660431762904296 \n",
      "Loss on validation: 0.20388148725032806 \n",
      "##########\n",
      "Epoch: 9. \n",
      "Loss on training: 0.1956847639440141 \n",
      "Loss on validation: 0.20232726633548737 \n",
      "##########\n",
      "Epoch: 10. \n",
      "Loss on training: 0.19676421395667787 \n",
      "Loss on validation: 0.20203261077404022 \n",
      "##########\n",
      "Epoch: 11. \n",
      "Loss on training: 0.19568947937968093 \n",
      "Loss on validation: 0.20133629441261292 \n",
      "##########\n",
      "Epoch: 12. \n",
      "Loss on training: 0.19567947961972573 \n",
      "Loss on validation: 0.20111213624477386 \n",
      "##########\n",
      "Epoch: 13. \n",
      "Loss on training: 0.19373760399995027 \n",
      "Loss on validation: 0.19925273954868317 \n",
      "##########\n",
      "Epoch: 14. \n",
      "Loss on training: 0.1940999171186867 \n",
      "Loss on validation: 0.19961118698120117 \n",
      "##########\n",
      "Epoch: 15. \n",
      "Loss on training: 0.1940907117807203 \n",
      "Loss on validation: 0.19906552135944366 \n",
      "##########\n",
      "Epoch: 16. \n",
      "Loss on training: 0.19407295879482486 \n",
      "Loss on validation: 0.1976637989282608 \n",
      "##########\n",
      "Epoch: 17. \n",
      "Loss on training: 0.193264017211189 \n",
      "Loss on validation: 0.19810155034065247 \n",
      "##########\n",
      "Epoch: 18. \n",
      "Loss on training: 0.19325976763610486 \n",
      "Loss on validation: 0.19638065993785858 \n",
      "##########\n",
      "Epoch: 19. \n",
      "Loss on training: 0.19290177479631615 \n",
      "Loss on validation: 0.1964496672153473 \n",
      "##########\n",
      "Epoch: 20. \n",
      "Loss on training: 0.19250261338251362 \n",
      "Loss on validation: 0.19667823612689972 \n",
      "##########\n",
      "Epoch: 21. \n",
      "Loss on training: 0.1913810889217466 \n",
      "Loss on validation: 0.19801482558250427 \n",
      "##########\n",
      "Epoch: 22. \n",
      "Loss on training: 0.19169145315088362 \n",
      "Loss on validation: 0.19484210014343262 \n",
      "##########\n",
      "Epoch: 23. \n",
      "Loss on training: 0.19197371287018428 \n",
      "Loss on validation: 0.19462227821350098 \n",
      "##########\n",
      "Epoch: 24. \n",
      "Loss on training: 0.19208267862322154 \n",
      "Loss on validation: 0.19282925128936768 \n",
      "##########\n",
      "Epoch: 25. \n",
      "Loss on training: 0.19189774098618287 \n",
      "Loss on validation: 0.19266480207443237 \n",
      "##########\n",
      "Epoch: 26. \n",
      "Loss on training: 0.19083681648190864 \n",
      "Loss on validation: 0.19482097029685974 \n",
      "##########\n",
      "Epoch: 27. \n",
      "Loss on training: 0.19009491760636307 \n",
      "Loss on validation: 0.19378671050071716 \n",
      "##########\n",
      "Epoch: 28. \n",
      "Loss on training: 0.19144937786208505 \n",
      "Loss on validation: 0.19356919825077057 \n",
      "##########\n",
      "Epoch: 29. \n",
      "Loss on training: 0.18940976487449657 \n",
      "Loss on validation: 0.19164103269577026 \n",
      "##########\n",
      "Epoch: 30. \n",
      "Loss on training: 0.1908056726564228 \n",
      "Loss on validation: 0.1923934817314148 \n",
      "##########\n",
      "Epoch: 31. \n",
      "Loss on training: 0.1906701478524586 \n",
      "Loss on validation: 0.19247886538505554 \n",
      "##########\n",
      "Epoch: 32. \n",
      "Loss on training: 0.18881339080815698 \n",
      "Loss on validation: 0.19213567674160004 \n",
      "##########\n",
      "Epoch: 33. \n",
      "Loss on training: 0.18940339419116944 \n",
      "Loss on validation: 0.19247567653656006 \n",
      "##########\n",
      "Epoch: 34. \n",
      "Loss on training: 0.1904793464781816 \n",
      "Loss on validation: 0.1903475970029831 \n",
      "##########\n",
      "Epoch: 35. \n",
      "Loss on training: 0.18820760151517 \n",
      "Loss on validation: 0.19057579338550568 \n",
      "##########\n",
      "Epoch: 36. \n",
      "Loss on training: 0.19026335675284695 \n",
      "Loss on validation: 0.19239531457424164 \n",
      "##########\n",
      "Epoch: 37. \n",
      "Loss on training: 0.19021991241738628 \n",
      "Loss on validation: 0.19030803442001343 \n",
      "##########\n",
      "Epoch: 38. \n",
      "Loss on training: 0.1897598059441695 \n",
      "Loss on validation: 0.1896906942129135 \n",
      "##########\n",
      "Epoch: 39. \n",
      "Loss on training: 0.18874975096878938 \n",
      "Loss on validation: 0.19159753620624542 \n",
      "##########\n",
      "Epoch: 40. \n",
      "Loss on training: 0.18967996856557978 \n",
      "Loss on validation: 0.19107308983802795 \n",
      "##########\n",
      "Epoch: 41. \n",
      "Loss on training: 0.18853452009888588 \n",
      "Loss on validation: 0.19307784736156464 \n",
      "##########\n",
      "Epoch: 42. \n",
      "Loss on training: 0.19015933923929193 \n",
      "Loss on validation: 0.18916845321655273 \n",
      "##########\n",
      "Epoch: 43. \n",
      "Loss on training: 0.1895494148012542 \n",
      "Loss on validation: 0.18994884192943573 \n",
      "##########\n",
      "Epoch: 44. \n",
      "Loss on training: 0.18956099176557098 \n",
      "Loss on validation: 0.19038496911525726 \n",
      "##########\n",
      "Epoch: 45. \n",
      "Loss on training: 0.19064682856232787 \n",
      "Loss on validation: 0.18847738206386566 \n",
      "##########\n",
      "Epoch: 46. \n",
      "Loss on training: 0.18954433997855388 \n",
      "Loss on validation: 0.18872195482254028 \n",
      "##########\n",
      "Epoch: 47. \n",
      "Loss on training: 0.18921708039663457 \n",
      "Loss on validation: 0.18892042338848114 \n",
      "##########\n",
      "Epoch: 48. \n",
      "Loss on training: 0.18884955867435094 \n",
      "Loss on validation: 0.188094362616539 \n",
      "##########\n",
      "Epoch: 49. \n",
      "Loss on training: 0.18978467489374273 \n",
      "Loss on validation: 0.18791161477565765 \n",
      "##########\n",
      "Epoch: 50. \n",
      "Loss on training: 0.18864752317744274 \n",
      "Loss on validation: 0.18938349187374115 \n",
      "##########\n",
      "Epoch: 51. \n",
      "Loss on training: 0.18915209054195709 \n",
      "Loss on validation: 0.18977263569831848 \n",
      "##########\n",
      "Epoch: 52. \n",
      "Loss on training: 0.18724052429797106 \n",
      "Loss on validation: 0.1878730058670044 \n",
      "##########\n",
      "Epoch: 53. \n",
      "Loss on training: 0.1889537259507081 \n",
      "Loss on validation: 0.18885552883148193 \n",
      "##########\n",
      "Epoch: 54. \n",
      "Loss on training: 0.18723711673430946 \n",
      "Loss on validation: 0.18760241568088531 \n",
      "##########\n",
      "Epoch: 55. \n",
      "Loss on training: 0.18835528348208455 \n",
      "Loss on validation: 0.19032292068004608 \n",
      "##########\n",
      "Epoch: 56. \n",
      "Loss on training: 0.18884587786141246 \n",
      "Loss on validation: 0.187469482421875 \n",
      "##########\n",
      "Epoch: 57. \n",
      "Loss on training: 0.1887303097518506 \n",
      "Loss on validation: 0.18715259432792664 \n",
      "##########\n",
      "Epoch: 58. \n",
      "Loss on training: 0.18771062062003116 \n",
      "Loss on validation: 0.18855004012584686 \n",
      "##########\n",
      "Epoch: 59. \n",
      "Loss on training: 0.18881752873951024 \n",
      "Loss on validation: 0.18737657368183136 \n",
      "##########\n",
      "Epoch: 60. \n",
      "Loss on training: 0.18877641036876558 \n",
      "Loss on validation: 0.18703962862491608 \n",
      "##########\n",
      "Epoch: 61. \n",
      "Loss on training: 0.18765951791555915 \n",
      "Loss on validation: 0.1882946789264679 \n",
      "##########\n",
      "Epoch: 62. \n",
      "Loss on training: 0.18781310646055044 \n",
      "Loss on validation: 0.18775135278701782 \n",
      "##########\n",
      "Epoch: 63. \n",
      "Loss on training: 0.18808022706382313 \n",
      "Loss on validation: 0.18881180882453918 \n",
      "##########\n",
      "Epoch: 64. \n",
      "Loss on training: 0.18790056607820124 \n",
      "Loss on validation: 0.18720795214176178 \n",
      "##########\n",
      "Epoch: 65. \n",
      "Loss on training: 0.18756361959555756 \n",
      "Loss on validation: 0.188180610537529 \n",
      "##########\n",
      "Epoch: 66. \n",
      "Loss on training: 0.18697929424866114 \n",
      "Loss on validation: 0.1872711330652237 \n",
      "##########\n",
      "Epoch: 67. \n",
      "Loss on training: 0.18721979516539186 \n",
      "Loss on validation: 0.18574455380439758 \n",
      "##########\n",
      "Epoch: 68. \n",
      "Loss on training: 0.1882630961031151 \n",
      "Loss on validation: 0.18748739361763 \n",
      "##########\n",
      "Epoch: 69. \n",
      "Loss on training: 0.1873572482631653 \n",
      "Loss on validation: 0.1866491436958313 \n",
      "##########\n",
      "Epoch: 70. \n",
      "Loss on training: 0.186299140906199 \n",
      "Loss on validation: 0.1879892349243164 \n",
      "##########\n",
      "Epoch: 71. \n",
      "Loss on training: 0.1877978849972104 \n",
      "Loss on validation: 0.18644407391548157 \n",
      "##########\n",
      "Epoch: 72. \n",
      "Loss on training: 0.18741036873740055 \n",
      "Loss on validation: 0.18638676404953003 \n",
      "##########\n",
      "Epoch: 73. \n",
      "Loss on training: 0.1870441043465839 \n",
      "Loss on validation: 0.18612806499004364 \n",
      "##########\n",
      "Epoch: 74. \n",
      "Loss on training: 0.1881467361279108 \n",
      "Loss on validation: 0.18781772255897522 \n",
      "##########\n",
      "Epoch: 75. \n",
      "Loss on training: 0.18764056693455933 \n",
      "Loss on validation: 0.1865091472864151 \n",
      "##########\n",
      "Epoch: 76. \n",
      "Loss on training: 0.18842540477084402 \n",
      "Loss on validation: 0.1872052699327469 \n",
      "##########\n",
      "Epoch: 77. \n",
      "Loss on training: 0.18740324708230702 \n",
      "Loss on validation: 0.18723028898239136 \n",
      "##########\n",
      "Epoch: 78. \n",
      "Loss on training: 0.1863019108703291 \n",
      "Loss on validation: 0.1866498589515686 \n",
      "##########\n",
      "Epoch: 79. \n",
      "Loss on training: 0.18726937444075759 \n",
      "Loss on validation: 0.1861981600522995 \n",
      "##########\n",
      "Epoch: 80. \n",
      "Loss on training: 0.18589857396566206 \n",
      "Loss on validation: 0.18794144690036774 \n",
      "##########\n",
      "Epoch: 81. \n",
      "Loss on training: 0.18775475906292474 \n",
      "Loss on validation: 0.19018340110778809 \n",
      "##########\n",
      "Epoch: 82. \n",
      "Loss on training: 0.18660988122102165 \n",
      "Loss on validation: 0.1871362179517746 \n",
      "##########\n",
      "Epoch: 83. \n",
      "Loss on training: 0.18635423530138445 \n",
      "Loss on validation: 0.1871975213289261 \n",
      "##########\n",
      "Epoch: 84. \n",
      "Loss on training: 0.18595453085370148 \n",
      "Loss on validation: 0.18541036546230316 \n",
      "##########\n",
      "Epoch: 85. \n",
      "Loss on training: 0.1873602756862471 \n",
      "Loss on validation: 0.18635280430316925 \n",
      "##########\n",
      "Epoch: 86. \n",
      "Loss on training: 0.18728325008548827 \n",
      "Loss on validation: 0.18628953397274017 \n",
      "##########\n",
      "Epoch: 87. \n",
      "Loss on training: 0.1857727663744808 \n",
      "Loss on validation: 0.18558308482170105 \n",
      "##########\n",
      "Epoch: 88. \n",
      "Loss on training: 0.18613711471282282 \n",
      "Loss on validation: 0.18580608069896698 \n",
      "##########\n",
      "Epoch: 89. \n",
      "Loss on training: 0.18741978876629975 \n",
      "Loss on validation: 0.1863267868757248 \n",
      "##########\n",
      "Epoch: 90. \n",
      "Loss on training: 0.18680443837012284 \n",
      "Loss on validation: 0.1919003427028656 \n",
      "##########\n",
      "Epoch: 91. \n",
      "Loss on training: 0.18588014112195236 \n",
      "Loss on validation: 0.18628369271755219 \n",
      "##########\n",
      "Epoch: 92. \n",
      "Loss on training: 0.18637866092224917 \n",
      "Loss on validation: 0.18707574903964996 \n",
      "##########\n",
      "Epoch: 93. \n",
      "Loss on training: 0.18797078109710427 \n",
      "Loss on validation: 0.18577046692371368 \n",
      "##########\n",
      "Epoch: 94. \n",
      "Loss on training: 0.18560892653195457 \n",
      "Loss on validation: 0.18724381923675537 \n",
      "##########\n",
      "Epoch: 95. \n",
      "Loss on training: 0.18639078747419785 \n",
      "Loss on validation: 0.18842869997024536 \n",
      "##########\n",
      "Epoch: 96. \n",
      "Loss on training: 0.18735781466442739 \n",
      "Loss on validation: 0.18697945773601532 \n",
      "##########\n",
      "Epoch: 97. \n",
      "Loss on training: 0.18773900265632956 \n",
      "Loss on validation: 0.18855243921279907 \n",
      "##########\n",
      "Epoch: 98. \n",
      "Loss on training: 0.1876045444619999 \n",
      "Loss on validation: 0.1859217882156372 \n",
      "##########\n",
      "Epoch: 99. \n",
      "Loss on training: 0.1875637747201716 \n",
      "Loss on validation: 0.18689388036727905 \n",
      "##########\n",
      "Error: 6.561679790026247%\n"
     ]
    }
   ],
   "source": [
    "nn_params = [[7, 7,4,10, 1], 'tanh']\n",
    "\n",
    "n_folds(5, rice_train, lambda *args: run_pytorch_network(nn_params, 0.001, 100, *args), silent=False)\n",
    "pred = run_pytorch_network(nn_params, 0.001, 100, rice_train.copy(), rice_test[:, :-1], silent=False)\n",
    "print(f\"Error: {classification_error(pred, rice_test[:, -1])}%\")"
   ]
  }
 ],
 "metadata": {
  "kernelspec": {
   "display_name": "Python 3",
   "language": "python",
   "name": "python3"
  },
  "language_info": {
   "codemirror_mode": {
    "name": "ipython",
    "version": 3
   },
   "file_extension": ".py",
   "mimetype": "text/x-python",
   "name": "python",
   "nbconvert_exporter": "python",
   "pygments_lexer": "ipython3",
   "version": "3.11.6"
  }
 },
 "nbformat": 4,
 "nbformat_minor": 0
}
