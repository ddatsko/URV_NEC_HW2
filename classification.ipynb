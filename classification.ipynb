{
 "cells": [
  {
   "cell_type": "code",
   "execution_count": 1,
   "metadata": {
    "collapsed": true
   },
   "outputs": [],
   "source": [
    "import numpy as np\n",
    "import matplotlib.pyplot as plt\n",
    "import pandas as pd\n",
    "import torch\n",
    "import torch.nn as nn\n",
    "import random\n",
    "from sklearn.linear_model import LinearRegression\n",
    "from sklearn.svm import SVC\n",
    "import torch.nn.functional as F\n",
    "import copy"
   ]
  },
  {
   "cell_type": "markdown",
   "source": [
    "#### Firstly, define some common functions to make things easier in the future"
   ],
   "metadata": {
    "collapsed": false
   }
  },
  {
   "cell_type": "code",
   "execution_count": 2,
   "outputs": [],
   "source": [
    "# pyTorch neural network class\n",
    "\n",
    "class MyPytorchNetwork(nn.Module):\n",
    "    def __init__(self, layers, activation):\n",
    "        super(MyPytorchNetwork, self).__init__()\n",
    "        self.activation = activation\n",
    "        self.fc_layers = nn.ModuleList([nn.Linear(layers[i], layers[i + 1]) for i in range(len(layers) - 1)])\n",
    "\n",
    "    def forward(self, x):\n",
    "        x = torch.flatten(x, 1)\n",
    "\n",
    "        # TODO: I'm using relus everywhere for now, we need to change it to be adjustable\n",
    "        for layer in self.fc_layers[:-1]:\n",
    "            if self.activation == 'linear':\n",
    "                x = layer(x)\n",
    "            elif self.activation == 'relu':\n",
    "                x = F.relu(layer(x))\n",
    "            elif self.activation == 'sigmoid':\n",
    "                x = torch.sigmoid(layer(x))\n",
    "            elif self.activation == 'tanh':\n",
    "                x = torch.tanh(layer(x))\n",
    "            else:\n",
    "                raise ValueError(f\"Activation funtion {self.activation} is invalid\")\n",
    "\n",
    "        # Always sigmoid on the last lauer\n",
    "        return torch.sigmoid(self.fc_layers[-1](x))\n",
    "\n",
    "\n",
    "def train_torch_network(network: MyPytorchNetwork, dataset, max_epochs, batch_size, train_ratio=0.8,\n",
    "                        learning_rate=0.001, momentum=0.9, silent=False):\n",
    "    loss_fn = torch.nn.BCELoss()\n",
    "    # TODO: think of making the learning rate adaptive here, e.g. by using pytorch LR scheduler\n",
    "    optimizer = torch.optim.SGD(network.parameters(), lr=learning_rate, momentum=momentum)\n",
    "    split_index = int(dataset.shape[0] * train_ratio)\n",
    "    train, validation = dataset[:split_index, :], torch.from_numpy(dataset[split_index:, :])\n",
    "\n",
    "    best_validation_loss = float(\"inf\")\n",
    "    best_network = copy.deepcopy(network)\n",
    "\n",
    "    for epoch in range(max_epochs):\n",
    "        np.random.shuffle(train)\n",
    "        torch_train = torch.from_numpy(train)\n",
    "        batch_start_idx = 0\n",
    "\n",
    "        batches_loss = []\n",
    "        # This way we skip last samples if there are less than batch_size of them\n",
    "        while batch_start_idx + batch_size <= torch_train.shape[0]:\n",
    "            optimizer.zero_grad()\n",
    "            outputs = network(torch_train[batch_start_idx:batch_start_idx + batch_size, :-1])\n",
    "            loss = loss_fn(torch.flatten(outputs), torch_train[batch_start_idx:batch_start_idx + batch_size, -1])\n",
    "            batches_loss.append(loss.item())\n",
    "\n",
    "            loss.backward()\n",
    "\n",
    "            optimizer.step()\n",
    "            batch_start_idx += batch_size\n",
    "\n",
    "        # Now, check the loss on validation dataset\n",
    "        validation_output = torch.flatten(network(validation[:, :-1]))\n",
    "        validation_loss = loss_fn(validation_output, validation[:, -1])\n",
    "        # print(f\"{validation_loss=}\")\n",
    "\n",
    "        if validation_loss < best_validation_loss:\n",
    "            best_validation_loss = validation_loss\n",
    "            best_network = copy.deepcopy(network)\n",
    "\n",
    "\n",
    "        if not silent:\n",
    "            print(\n",
    "                f\"Epoch: {epoch}. \\nLoss on training: {np.mean(batches_loss)} \\nLoss on validation: {validation_loss} \\n##########\")\n",
    "\n",
    "    return best_network\n"
   ],
   "metadata": {
    "collapsed": false
   }
  },
  {
   "cell_type": "code",
   "execution_count": 3,
   "outputs": [],
   "source": [
    "def run_svm(svm_parameters, train_dataset, test_inputs) -> np.array:\n",
    "    svc = SVC(**svm_parameters)\n",
    "    svc.fit(train_dataset[:, :-1], train_dataset[:, -1])\n",
    "    return svc.predict(test_inputs)\n",
    "\n",
    "\n",
    "def run_linear_regression(train_dataset, test_inputs) -> np.array:\n",
    "    \"\"\"\n",
    "    Train a linear regression on train_inputs, and predict data for test_inputs\n",
    "    \"\"\"\n",
    "    reg = LinearRegression().fit(train_dataset[:, :-1], train_dataset[:, -1])\n",
    "    prediction = reg.predict(test_inputs)\n",
    "    prediction[prediction > 0.5] = 1\n",
    "    prediction[prediction != 1] = 0\n",
    "    return prediction\n",
    "\n",
    "\n",
    "def run_pytorch_network(network_parameters, lr, epochs, train_dataset, test_inputs, silent=True) -> np.array:\n",
    "    \"\"\"\n",
    "    Train a pytorch network and predict outputs for test_inputs\n",
    "    \"\"\"\n",
    "    torch.manual_seed(0)\n",
    "    random.seed(42)\n",
    "    np.random.seed(42)\n",
    "    network = MyPytorchNetwork(*network_parameters)\n",
    "    network = train_torch_network(network, train_dataset, epochs, 10, learning_rate=lr, silent=silent, momentum=0.9,\n",
    "                        train_ratio=0.8)\n",
    "    prediction = network(torch.from_numpy(test_inputs)).detach().numpy().flatten()\n",
    "    prediction[prediction > 0.5] = 1\n",
    "    prediction[prediction != 1] = 0\n",
    "    return prediction"
   ],
   "metadata": {
    "collapsed": false
   }
  },
  {
   "cell_type": "code",
   "execution_count": 4,
   "outputs": [],
   "source": [
    "def classification_error(real_values, predictions):\n",
    "    return 100 * np.sum(np.abs(real_values - predictions)) / real_values.shape[0]\n",
    "\n",
    "\n",
    "def n_folds(n, train_data, model, silent=True):\n",
    "    # Maybe this is not the best place to set the seed, but this case each run of the function is predictable\n",
    "    np.random.seed(42)\n",
    "    np.random.shuffle(train_data)\n",
    "    split_indices = [int(i * train_data.shape[0] / n) for i in range(n + 1)]\n",
    "    errors = []\n",
    "\n",
    "    for i in range(n):\n",
    "        split_validation = train_data[split_indices[i]:split_indices[i + 1], :]\n",
    "        split_training = np.vstack((train_data[:split_indices[i], :], train_data[split_indices[i + 1]:, :]))\n",
    "        split_pred = model(split_training, split_validation[:, :-1])\n",
    "        error = classification_error(split_pred, split_validation[:, -1])\n",
    "        if not silent:\n",
    "            print(f\"Error on one validation split: {error=}\")\n",
    "        errors.append(error)\n",
    "    return np.mean(error)\n"
   ],
   "metadata": {
    "collapsed": false
   }
  },
  {
   "cell_type": "markdown",
   "source": [
    "### Trying with \"ring\" dataset"
   ],
   "metadata": {
    "collapsed": false
   }
  },
  {
   "cell_type": "code",
   "execution_count": 5,
   "outputs": [],
   "source": [
    "def plot_ring_pred(data, pred):\n",
    "    plt.scatter(data[pred == 0, 0], data[pred == 0, 1], color='blue')\n",
    "    plt.scatter(data[pred == 1, 0], data[pred == 1, 1], color='red')\n",
    "    plt.axis('equal')"
   ],
   "metadata": {
    "collapsed": false
   }
  },
  {
   "cell_type": "code",
   "execution_count": 6,
   "outputs": [
    {
     "data": {
      "text/plain": "<Figure size 432x288 with 1 Axes>",
      "image/png": "[encoded data removed]"
     },
     "metadata": {
      "needs_background": "light"
     },
     "output_type": "display_data"
    }
   ],
   "source": [
    "# Firstly, try with the separable one\n",
    "ring_sep = np.genfromtxt(\"A2-ring/A2-ring-separable.txt\", dtype=np.float32, delimiter=\"\\t\")\n",
    "ring_merged = np.genfromtxt(\"A2-ring/A2-ring-merged.txt\", dtype=np.float32, delimiter=\"\\t\")\n",
    "ring_test = np.genfromtxt(\"A2-ring/A2-ring-test.txt\", dtype=np.float32, delimiter=\"\\t\")\n",
    "plot_ring_pred(ring_sep[:, :2], ring_sep[:, 2])"
   ],
   "metadata": {
    "collapsed": false
   }
  },
  {
   "cell_type": "code",
   "execution_count": 7,
   "outputs": [
    {
     "name": "stdout",
     "output_type": "stream",
     "text": [
      "Error on one validation split: error=47.45\n",
      "Error on one validation split: error=49.7\n",
      "Error on one validation split: error=46.4\n",
      "Error on one validation split: error=47.3\n",
      "Error on one validation split: error=49.0\n"
     ]
    },
    {
     "data": {
      "text/plain": "49.0"
     },
     "execution_count": 7,
     "metadata": {},
     "output_type": "execute_result"
    }
   ],
   "source": [
    "n_folds(5, ring_sep, lambda *params: run_svm({\"kernel\": \"linear\"}, *params), silent=False)"
   ],
   "metadata": {
    "collapsed": false
   }
  },
  {
   "cell_type": "code",
   "execution_count": 8,
   "outputs": [],
   "source": [
    "# Plotting the data\n",
    "pred = run_svm({\"kernel\": \"linear\"}, ring_sep, ring_test[:, :-1])"
   ],
   "metadata": {
    "collapsed": false
   }
  },
  {
   "cell_type": "code",
   "execution_count": 9,
   "outputs": [
    {
     "data": {
      "text/plain": "<Figure size 432x288 with 2 Axes>",
      "image/png": "[encoded data removed]"
     },
     "metadata": {
      "needs_background": "light"
     },
     "output_type": "display_data"
    }
   ],
   "source": [
    "plt.subplot(1, 2, 1)\n",
    "plot_ring_pred(ring_test[:, :2], ring_test[:, 2])\n",
    "plt.subplot(1, 2, 2)\n",
    "plot_ring_pred(ring_test[:, :2], pred)"
   ],
   "metadata": {
    "collapsed": false
   }
  },
  {
   "cell_type": "markdown",
   "source": [
    "As predicted, an SVM with linear kernel cannot properly separate such data"
   ],
   "metadata": {
    "collapsed": false
   }
  },
  {
   "cell_type": "code",
   "execution_count": 10,
   "outputs": [
    {
     "name": "stdout",
     "output_type": "stream",
     "text": [
      "Error on one validation split: error=0.35\n",
      "Error on one validation split: error=0.85\n",
      "Error on one validation split: error=0.35\n",
      "Error on one validation split: error=0.35\n",
      "Error on one validation split: error=0.7\n",
      "Error: 0.31%\n"
     ]
    },
    {
     "data": {
      "text/plain": "<Figure size 432x288 with 2 Axes>",
      "image/png": "[encoded data removed]"
     },
     "metadata": {
      "needs_background": "light"
     },
     "output_type": "display_data"
    }
   ],
   "source": [
    "n_folds(5, ring_sep, lambda *params: run_svm({\"kernel\": \"rbf\", \"C\": 100, \"gamma\": 4}, *params), silent=False)\n",
    "pred = run_svm({\"kernel\": \"rbf\", \"C\": 100, \"gamma\": 4}, ring_sep, ring_test[:, :-1])\n",
    "plt.subplot(1, 2, 1)\n",
    "plot_ring_pred(ring_test[:, :2], ring_test[:, 2])\n",
    "plt.subplot(1, 2, 2)\n",
    "plot_ring_pred(ring_test[:, :2], pred)\n",
    "print(f\"Error: {classification_error(pred, ring_test[:, -1])}%\")"
   ],
   "metadata": {
    "collapsed": false
   }
  },
  {
   "cell_type": "markdown",
   "source": [
    "On the other hand, when data is linearly separable, a radial kernel works perfectly with pretty large gamma and large C. However, these parameters need to be tuned better when dealing with merged data. As we can see in the following section, during cross validation the error is pretty large, as the data is tightly \"merged\" into each other. However, the test set is a subset of linearly separable one, and on it only 2.08% of samples are misclassified"
   ],
   "metadata": {
    "collapsed": false
   }
  },
  {
   "cell_type": "code",
   "execution_count": 11,
   "outputs": [
    {
     "name": "stdout",
     "output_type": "stream",
     "text": [
      "Error on one validation split: error=22.75\n",
      "Error on one validation split: error=21.2\n",
      "Error on one validation split: error=23.1\n",
      "Error on one validation split: error=22.3\n",
      "Error on one validation split: error=21.25\n",
      "Error: 2.08%\n"
     ]
    },
    {
     "data": {
      "text/plain": "<Figure size 432x288 with 2 Axes>",
      "image/png": "[encoded data removed]"
     },
     "metadata": {
      "needs_background": "light"
     },
     "output_type": "display_data"
    }
   ],
   "source": [
    "svm_params = {\"kernel\": \"rbf\", \"C\": 1, \"gamma\": 2}\n",
    "n_folds(5, ring_merged, lambda *args: run_svm(svm_params, *args), silent=False)\n",
    "pred = run_svm(svm_params, ring_merged, ring_test[:, :-1])\n",
    "plt.subplot(1, 2, 1)\n",
    "plot_ring_pred(ring_test[:, :2], ring_test[:, 2])\n",
    "plt.subplot(1, 2, 2)\n",
    "plot_ring_pred(ring_test[:, :2], pred)\n",
    "print(f\"Error: {classification_error(pred, ring_test[:, -1])}%\")"
   ],
   "metadata": {
    "collapsed": false
   }
  },
  {
   "cell_type": "markdown",
   "source": [
    "#### As expected, linear regression cannot classify the data, so the best it can do is to classify all the elements into more represented class"
   ],
   "metadata": {
    "collapsed": false
   }
  },
  {
   "cell_type": "code",
   "execution_count": 12,
   "outputs": [
    {
     "name": "stdout",
     "output_type": "stream",
     "text": [
      "Error on one validation split: error=45.1\n",
      "Error on one validation split: error=44.95\n",
      "Error on one validation split: error=43.95\n",
      "Error on one validation split: error=45.5\n",
      "Error on one validation split: error=44.75\n",
      "Error on one validation split: error=50.9\n",
      "Error on one validation split: error=59.3\n",
      "Error on one validation split: error=48.8\n",
      "Error on one validation split: error=47.6\n",
      "Error on one validation split: error=48.45\n",
      "Error: 46.67%\n"
     ]
    },
    {
     "data": {
      "text/plain": "<Figure size 432x288 with 1 Axes>",
      "image/png": "[encoded data removed]"
     },
     "metadata": {
      "needs_background": "light"
     },
     "output_type": "display_data"
    }
   ],
   "source": [
    "n_folds(5, ring_merged, run_linear_regression, silent=False)\n",
    "n_folds(5, ring_sep, run_linear_regression, silent=False)\n",
    "pred = run_linear_regression(ring_merged, ring_test[:, :-1])\n",
    "plot_ring_pred(ring_test[:, :2], pred)\n",
    "print(f\"Error: {classification_error(pred, ring_test[:, -1])}%\")"
   ],
   "metadata": {
    "collapsed": false
   }
  },
  {
   "cell_type": "markdown",
   "source": [
    "When trying to train a neural network, I was experimenting with many parameters and found ones that give a good enough result. I use binary cross-entropy loss for training and 2 large hidden layers with tanh activation. Here, I am validating using N-folds and then train a network on full input data"
   ],
   "metadata": {
    "collapsed": false
   }
  },
  {
   "cell_type": "code",
   "execution_count": 13,
   "outputs": [
    {
     "name": "stdout",
     "output_type": "stream",
     "text": [
      "Error on one validation split: error=3.6\n",
      "Error on one validation split: error=1.75\n",
      "Error on one validation split: error=2.7\n",
      "Error on one validation split: error=1.45\n",
      "Error on one validation split: error=1.7\n",
      "Error: 2.38%\n"
     ]
    },
    {
     "data": {
      "text/plain": "<Figure size 432x288 with 1 Axes>",
      "image/png": "[encoded data removed]"
     },
     "metadata": {
      "needs_background": "light"
     },
     "output_type": "display_data"
    }
   ],
   "source": [
    "nn_params = [[2, 16, 15, 1], 'tanh']\n",
    "\n",
    "n_folds(5, ring_sep, lambda *args: run_pytorch_network(nn_params, 0.006, 30, *args), silent=False)\n",
    "pred = run_pytorch_network(nn_params, 0.006, 30, ring_sep.copy(), ring_test[:, :-1])\n",
    "plot_ring_pred(ring_test[:, :2], pred)\n",
    "print(f\"Error: {classification_error(pred, ring_test[:, -1])}%\")"
   ],
   "metadata": {
    "collapsed": false
   }
  },
  {
   "cell_type": "markdown",
   "source": [
    "On not linearly separable data the network pretty quickly converges to a point where both training and validation losses don't change much. Maybe with some parameters the performance would be better, but even now the error is 3-5%, which is not much"
   ],
   "metadata": {
    "collapsed": false
   }
  },
  {
   "cell_type": "code",
   "execution_count": 14,
   "outputs": [
    {
     "name": "stdout",
     "output_type": "stream",
     "text": [
      "Error on one validation split: error=20.9\n",
      "Error on one validation split: error=20.75\n",
      "Error on one validation split: error=23.1\n",
      "Error on one validation split: error=23.45\n",
      "Error on one validation split: error=23.9\n",
      "Epoch: 0. \n",
      "Loss on training: 0.6509861425310374 \n",
      "Loss on validation: 0.5735043883323669 \n",
      "##########\n",
      "Epoch: 1. \n",
      "Loss on training: 0.5387423607893288 \n",
      "Loss on validation: 0.5491913557052612 \n",
      "##########\n",
      "Epoch: 2. \n",
      "Loss on training: 0.5280576080456376 \n",
      "Loss on validation: 0.5526435971260071 \n",
      "##########\n",
      "Epoch: 3. \n",
      "Loss on training: 0.5206048706173897 \n",
      "Loss on validation: 0.5384148955345154 \n",
      "##########\n",
      "Epoch: 4. \n",
      "Loss on training: 0.5187956651858986 \n",
      "Loss on validation: 0.5301970839500427 \n",
      "##########\n",
      "Epoch: 5. \n",
      "Loss on training: 0.5178090823814273 \n",
      "Loss on validation: 0.5464925169944763 \n",
      "##########\n",
      "Epoch: 6. \n",
      "Loss on training: 0.5115897830575704 \n",
      "Loss on validation: 0.5497462749481201 \n",
      "##########\n",
      "Epoch: 7. \n",
      "Loss on training: 0.507951969280839 \n",
      "Loss on validation: 0.5226604342460632 \n",
      "##########\n",
      "Epoch: 8. \n",
      "Loss on training: 0.5007818529196083 \n",
      "Loss on validation: 0.5200778245925903 \n",
      "##########\n",
      "Epoch: 9. \n",
      "Loss on training: 0.49141790095716714 \n",
      "Loss on validation: 0.5367735624313354 \n",
      "##########\n",
      "Epoch: 10. \n",
      "Loss on training: 0.4909133955370635 \n",
      "Loss on validation: 0.5056266188621521 \n",
      "##########\n",
      "Epoch: 11. \n",
      "Loss on training: 0.48589557692408564 \n",
      "Loss on validation: 0.553824245929718 \n",
      "##########\n",
      "Epoch: 12. \n",
      "Loss on training: 0.4829562511108816 \n",
      "Loss on validation: 0.5211589336395264 \n",
      "##########\n",
      "Epoch: 13. \n",
      "Loss on training: 0.48164698148146273 \n",
      "Loss on validation: 0.5205637216567993 \n",
      "##########\n",
      "Epoch: 14. \n",
      "Loss on training: 0.4832462962530553 \n",
      "Loss on validation: 0.5195543766021729 \n",
      "##########\n",
      "Epoch: 15. \n",
      "Loss on training: 0.4831202051229775 \n",
      "Loss on validation: 0.5161798596382141 \n",
      "##########\n",
      "Epoch: 16. \n",
      "Loss on training: 0.48305860955268143 \n",
      "Loss on validation: 0.5195257663726807 \n",
      "##########\n",
      "Epoch: 17. \n",
      "Loss on training: 0.4810799943655729 \n",
      "Loss on validation: 0.5155444145202637 \n",
      "##########\n",
      "Epoch: 18. \n",
      "Loss on training: 0.4824629813618958 \n",
      "Loss on validation: 0.5217118859291077 \n",
      "##########\n",
      "Epoch: 19. \n",
      "Loss on training: 0.4837576788291335 \n",
      "Loss on validation: 0.5068475604057312 \n",
      "##########\n",
      "Error: 3.26%\n"
     ]
    },
    {
     "data": {
      "text/plain": "<Figure size 432x288 with 1 Axes>",
      "image/png": "[encoded data removed]"
     },
     "metadata": {
      "needs_background": "light"
     },
     "output_type": "display_data"
    }
   ],
   "source": [
    "nn_params = [[2, 16, 15, 1], 'relu']\n",
    "\n",
    "n_folds(5, ring_merged, lambda *args: run_pytorch_network(nn_params, 0.01, 20, *args), silent=False)\n",
    "pred = run_pytorch_network(nn_params, 0.01, 20, ring_merged.copy(), ring_test[:, :-1], silent=False)\n",
    "plot_ring_pred(ring_test[:, :2], pred)\n",
    "print(f\"Error: {classification_error(pred, ring_test[:, -1])}%\")"
   ],
   "metadata": {
    "collapsed": false
   }
  },
  {
   "cell_type": "markdown",
   "source": [
    "### Trying with \"bank\" dataset"
   ],
   "metadata": {
    "collapsed": false
   }
  },
  {
   "cell_type": "code",
   "execution_count": 31,
   "outputs": [
    {
     "name": "stdout",
     "output_type": "stream",
     "text": [
      "(32950, 23) (8238, 23)\n"
     ]
    }
   ],
   "source": [
    "bank_full = np.genfromtxt(\"A2-bank/bank-full-preprocessed.csv\", dtype=np.float32, skip_header=1, delimiter=',')\n",
    "\n",
    "# Split into test and train only once so we compare each model in the same conditions\n",
    "np.random.seed(42)\n",
    "np.random.shuffle(bank_full)\n",
    "\n",
    "split_index = int(0.8 * bank_full.shape[0])\n",
    "bank_train = bank_full[:split_index, :]\n",
    "bank_test = bank_full[split_index:, :]\n",
    "\n",
    "print(bank_train.shape, bank_test.shape)"
   ],
   "metadata": {
    "collapsed": false
   }
  },
  {
   "cell_type": "markdown",
   "source": [
    "On this dataset, a simple linear regression works almost perfectly. In both cross validation and training on the whole training dataset, the error is below 0.36%. When training on test data, only 14 samples from the test dataset are misclassified"
   ],
   "metadata": {
    "collapsed": false
   }
  },
  {
   "cell_type": "code",
   "execution_count": 35,
   "outputs": [
    {
     "name": "stdout",
     "output_type": "stream",
     "text": [
      "Error on one validation split: error=0.2276176024279211\n",
      "Error on one validation split: error=0.15174506828528073\n",
      "Error on one validation split: error=0.09104704097116843\n",
      "Error on one validation split: error=0.36418816388467373\n",
      "Error on one validation split: error=0.1669195751138088\n",
      "Error: 0.16994416120417577%\n",
      "14.0\n"
     ]
    }
   ],
   "source": [
    "n_folds(5, bank_train, run_linear_regression, silent=False)\n",
    "pred = run_linear_regression(bank_train, bank_test[:, :-1])\n",
    "print(f\"Error: {classification_error(bank_test[:, -1], pred)}%\")\n",
    "print(np.sum(np.abs(pred - bank_test[:, -1])))\n"
   ],
   "metadata": {
    "collapsed": false
   }
  },
  {
   "cell_type": "markdown",
   "source": [
    "Let's now try to train an SVM on this data. As the linear regression works very well, a linear kernel should show a good performance too. As we can see, the performance is very similar. I was experimenting with different kernels here, but they just give the same result as the linear one"
   ],
   "metadata": {
    "collapsed": false
   }
  },
  {
   "cell_type": "code",
   "execution_count": 38,
   "outputs": [
    {
     "name": "stdout",
     "output_type": "stream",
     "text": [
      "Error on one validation split: error=0.2276176024279211\n",
      "Error on one validation split: error=0.18209408194233687\n",
      "Error on one validation split: error=0.18209408194233687\n",
      "Error on one validation split: error=0.15174506828528073\n",
      "Error on one validation split: error=0.25796661608497723\n",
      "Error: 0.16994416120417577%\n"
     ]
    }
   ],
   "source": [
    "n_folds(5, bank_train, lambda *params: run_svm({\"kernel\": \"linear\"}, *params), silent=False)\n",
    "pred = run_svm({\"kernel\": \"linear\"}, bank_train, bank_test[:, :-1])\n",
    "print(f\"Error: {classification_error(bank_test[:, -1], pred)}%\")"
   ],
   "metadata": {
    "collapsed": false
   }
  },
  {
   "cell_type": "code",
   "execution_count": 48,
   "outputs": [
    {
     "name": "stdout",
     "output_type": "stream",
     "text": [
      "Error on one validation split: error=0.24279210925644917\n",
      "Error on one validation split: error=0.18209408194233687\n",
      "Error on one validation split: error=0.13657056145675264\n",
      "Error on one validation split: error=0.25796661608497723\n",
      "Error on one validation split: error=0.18209408194233687\n",
      "Error: 0.16994416120417577%\n"
     ]
    }
   ],
   "source": [
    "n_folds(5, bank_train, lambda *params: run_svm({\"kernel\": \"rbf\"}, *params), silent=False)\n",
    "pred = run_svm({\"kernel\": \"rbf\"}, bank_train, bank_test[:, :-1])\n",
    "print(f\"Error: {classification_error(bank_test[:, -1], pred)}%\")"
   ],
   "metadata": {
    "collapsed": false
   }
  },
  {
   "cell_type": "markdown",
   "source": [
    "Now trying with a neural network. The network with only 1 hidden layer and tanh activation shows very good results here, and pretty quickly converges to a good error, close to the one obtained from linear regression"
   ],
   "metadata": {
    "collapsed": false
   }
  },
  {
   "cell_type": "code",
   "execution_count": 56,
   "outputs": [
    {
     "name": "stdout",
     "output_type": "stream",
     "text": [
      "Error on one validation split: error=0.12139605462822459\n",
      "Error on one validation split: error=0.24279210925644917\n",
      "Error on one validation split: error=0.212443095599393\n",
      "Error on one validation split: error=0.1669195751138088\n",
      "Error on one validation split: error=0.25796661608497723\n",
      "Epoch: 0. \n",
      "Loss on training: 0.2884639931619393 \n",
      "Loss on validation: 0.18023169040679932 \n",
      "##########\n",
      "Epoch: 1. \n",
      "Loss on training: 0.0826146119109557 \n",
      "Loss on validation: 0.0407930351793766 \n",
      "##########\n",
      "Epoch: 2. \n",
      "Loss on training: 0.025726683566605388 \n",
      "Loss on validation: 0.021734729409217834 \n",
      "##########\n",
      "Epoch: 3. \n",
      "Loss on training: 0.016019583719217943 \n",
      "Loss on validation: 0.01678452640771866 \n",
      "##########\n",
      "Epoch: 4. \n",
      "Loss on training: 0.012960492831842807 \n",
      "Loss on validation: 0.014926476404070854 \n",
      "##########\n",
      "Epoch: 5. \n",
      "Loss on training: 0.011585282677353878 \n",
      "Loss on validation: 0.014148217625916004 \n",
      "##########\n",
      "Epoch: 6. \n",
      "Loss on training: 0.010847993614964685 \n",
      "Loss on validation: 0.013522938825190067 \n",
      "##########\n",
      "Epoch: 7. \n",
      "Loss on training: 0.01039215965883323 \n",
      "Loss on validation: 0.013227012008428574 \n",
      "##########\n",
      "Epoch: 8. \n",
      "Loss on training: 0.010123656030402222 \n",
      "Loss on validation: 0.01305070985108614 \n",
      "##########\n",
      "Epoch: 9. \n",
      "Loss on training: 0.009894398972336878 \n",
      "Loss on validation: 0.012870772741734982 \n",
      "##########\n",
      "Epoch: 10. \n",
      "Loss on training: 0.00975950514542496 \n",
      "Loss on validation: 0.012779826298356056 \n",
      "##########\n",
      "Epoch: 11. \n",
      "Loss on training: 0.009592328957365564 \n",
      "Loss on validation: 0.012701457366347313 \n",
      "##########\n",
      "Epoch: 12. \n",
      "Loss on training: 0.009545650536362972 \n",
      "Loss on validation: 0.012637482024729252 \n",
      "##########\n",
      "Epoch: 13. \n",
      "Loss on training: 0.009438976609134042 \n",
      "Loss on validation: 0.01258753053843975 \n",
      "##########\n",
      "Epoch: 14. \n",
      "Loss on training: 0.00935399206207266 \n",
      "Loss on validation: 0.01278465986251831 \n",
      "##########\n",
      "Epoch: 15. \n",
      "Loss on training: 0.009350552583479076 \n",
      "Loss on validation: 0.012517071329057217 \n",
      "##########\n",
      "Epoch: 16. \n",
      "Loss on training: 0.00926015639677158 \n",
      "Loss on validation: 0.012509044259786606 \n",
      "##########\n",
      "Epoch: 17. \n",
      "Loss on training: 0.009254558293570594 \n",
      "Loss on validation: 0.01246642041951418 \n",
      "##########\n",
      "Epoch: 18. \n",
      "Loss on training: 0.009201467696547323 \n",
      "Loss on validation: 0.012441998347640038 \n",
      "##########\n",
      "Epoch: 19. \n",
      "Loss on training: 0.009203179353740208 \n",
      "Loss on validation: 0.012436103075742722 \n",
      "##########\n",
      "Error: 0.16994416120417577%\n"
     ]
    }
   ],
   "source": [
    "nn_params = [[22, 20, 1], 'tanh']\n",
    "\n",
    "n_folds(5, bank_train, lambda *args: run_pytorch_network(nn_params, 0.001, 20, *args), silent=False)\n",
    "pred = run_pytorch_network(nn_params, 0.001, 20, bank_train.copy(), bank_test[:, :-1], silent=False)\n",
    "print(f\"Error: {classification_error(pred, bank_test[:, -1])}%\")"
   ],
   "metadata": {
    "collapsed": false
   }
  },
  {
   "cell_type": "code",
   "execution_count": 52,
   "outputs": [
    {
     "name": "stdout",
     "output_type": "stream",
     "text": [
      "Error: 0.19422189851905802%\n"
     ]
    }
   ],
   "source": [],
   "metadata": {
    "collapsed": false
   }
  }
 ],
 "metadata": {
  "kernelspec": {
   "display_name": "Python 3",
   "language": "python",
   "name": "python3"
  },
  "language_info": {
   "codemirror_mode": {
    "name": "ipython",
    "version": 2
   },
   "file_extension": ".py",
   "mimetype": "text/x-python",
   "name": "python",
   "nbconvert_exporter": "python",
   "pygments_lexer": "ipython2",
   "version": "2.7.6"
  }
 },
 "nbformat": 4,
 "nbformat_minor": 0
}
