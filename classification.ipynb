{
 "cells": [
  {
   "cell_type": "code",
   "execution_count": 225,
   "metadata": {
    "collapsed": true
   },
   "outputs": [],
   "source": [
    "import numpy as np\n",
    "import matplotlib.pyplot as plt\n",
    "import pandas as pd\n",
    "import torch\n",
    "import torch.nn as nn\n",
    "import random\n",
    "from sklearn.linear_model import LinearRegression\n",
    "from sklearn.svm import SVC\n",
    "import torch.nn.functional as F\n",
    "import copy"
   ]
  },
  {
   "cell_type": "markdown",
   "source": [
    "#### Firstly, define some common functions to make things easier in the future"
   ],
   "metadata": {
    "collapsed": false
   }
  },
  {
   "cell_type": "code",
   "execution_count": 242,
   "outputs": [],
   "source": [
    "# pyTorch neural network class\n",
    "\n",
    "class MyPytorchNetwork(nn.Module):\n",
    "    def __init__(self, layers, activation):\n",
    "        super(MyPytorchNetwork, self).__init__()\n",
    "        self.activation = activation\n",
    "        self.fc_layers = nn.ModuleList([nn.Linear(layers[i], layers[i + 1]) for i in range(len(layers) - 1)])\n",
    "\n",
    "    def forward(self, x):\n",
    "        x = torch.flatten(x, 1)\n",
    "\n",
    "        # TODO: I'm using relus everywhere for now, we need to change it to be adjustable\n",
    "        for layer in self.fc_layers[:-1]:\n",
    "            if self.activation == 'linear':\n",
    "                x = layer(x)\n",
    "            elif self.activation == 'relu':\n",
    "                x = F.relu(layer(x))\n",
    "            elif self.activation == 'sigmoid':\n",
    "                x = torch.sigmoid(layer(x))\n",
    "            elif self.activation == 'tanh':\n",
    "                x = torch.tanh(layer(x))\n",
    "            else:\n",
    "                raise ValueError(f\"Activation funtion {self.activation} is invalid\")\n",
    "\n",
    "        # Always sigmoid on the last lauer\n",
    "        return torch.sigmoid(self.fc_layers[-1](x))\n",
    "\n",
    "\n",
    "def train_torch_network(network: MyPytorchNetwork, dataset, max_epochs, batch_size, train_ratio=0.8,\n",
    "                        learning_rate=0.001, momentum=0.9, silent=False):\n",
    "    loss_fn = torch.nn.BCELoss()\n",
    "    # TODO: think of making the learning rate adaptive here, e.g. by using pytorch LR scheduler\n",
    "    optimizer = torch.optim.SGD(network.parameters(), lr=learning_rate, momentum=momentum)\n",
    "    split_index = int(dataset.shape[0] * train_ratio)\n",
    "    train, validation = dataset[:split_index, :], torch.from_numpy(dataset[split_index:, :])\n",
    "\n",
    "    best_validation_loss = float(\"inf\")\n",
    "    best_network = copy.deepcopy(network)\n",
    "\n",
    "    for epoch in range(max_epochs):\n",
    "        np.random.shuffle(train)\n",
    "        torch_train = torch.from_numpy(train)\n",
    "        batch_start_idx = 0\n",
    "\n",
    "        batches_loss = []\n",
    "        # This way we skip last samples if there are less than batch_size of them\n",
    "        while batch_start_idx + batch_size <= torch_train.shape[0]:\n",
    "            optimizer.zero_grad()\n",
    "            outputs = network(torch_train[batch_start_idx:batch_start_idx + batch_size, :-1])\n",
    "            loss = loss_fn(torch.flatten(outputs), torch_train[batch_start_idx:batch_start_idx + batch_size, -1])\n",
    "            batches_loss.append(loss.item())\n",
    "\n",
    "            loss.backward()\n",
    "\n",
    "            optimizer.step()\n",
    "            batch_start_idx += batch_size\n",
    "\n",
    "        # Now, check the loss on validation dataset\n",
    "        validation_output = torch.flatten(network(validation[:, :-1]))\n",
    "        validation_loss = loss_fn(validation_output, validation[:, -1])\n",
    "        # print(f\"{validation_loss=}\")\n",
    "\n",
    "        if validation_loss < best_validation_loss:\n",
    "            best_validation_loss = validation_loss\n",
    "            best_network = copy.deepcopy(network)\n",
    "\n",
    "\n",
    "        if not silent:\n",
    "            print(\n",
    "                f\"Epoch: {epoch}. \\nLoss on training: {np.mean(batches_loss)} \\nLoss on validation: {validation_loss} \\n##########\")\n",
    "\n",
    "    return best_network\n"
   ],
   "metadata": {
    "collapsed": false
   }
  },
  {
   "cell_type": "code",
   "execution_count": 248,
   "outputs": [],
   "source": [
    "def run_svm(svm_parameters, train_dataset, test_inputs) -> np.array:\n",
    "    svc = SVC(**svm_parameters)\n",
    "    svc.fit(train_dataset[:, :-1], train_dataset[:, -1])\n",
    "    return svc.predict(test_inputs)\n",
    "\n",
    "\n",
    "def run_linear_regression(train_dataset, test_inputs) -> np.array:\n",
    "    \"\"\"\n",
    "    Train a linear regression on train_inputs, and predict data for test_inputs\n",
    "    \"\"\"\n",
    "    reg = LinearRegression().fit(train_dataset[:, :-1], train_dataset[:, -1])\n",
    "    prediction = reg.predict(test_inputs)\n",
    "    prediction[prediction > 0.5] = 1\n",
    "    prediction[prediction != 1] = 0\n",
    "    return prediction\n",
    "\n",
    "\n",
    "def run_pytorch_network(network_parameters, lr, epochs, train_dataset, test_inputs, silent=True) -> np.array:\n",
    "    \"\"\"\n",
    "    Train a pytorch network and predict outputs for test_inputs\n",
    "    \"\"\"\n",
    "    torch.manual_seed(0)\n",
    "    random.seed(42)\n",
    "    np.random.seed(42)\n",
    "    network = MyPytorchNetwork(*network_parameters)\n",
    "    network = train_torch_network(network, train_dataset, epochs, 10, learning_rate=lr, silent=silent, momentum=0.9,\n",
    "                        train_ratio=0.8)\n",
    "    prediction = network(torch.from_numpy(test_inputs)).detach().numpy().flatten()\n",
    "    prediction[prediction > 0.5] = 1\n",
    "    prediction[prediction != 1] = 0\n",
    "    return prediction"
   ],
   "metadata": {
    "collapsed": false
   }
  },
  {
   "cell_type": "code",
   "execution_count": 87,
   "outputs": [],
   "source": [
    "def classification_error(real_values, predictions):\n",
    "    return 100 * np.sum(np.abs(real_values - predictions)) / real_values.shape[0]\n",
    "\n",
    "\n",
    "def n_folds(n, train_data, model, silent=True):\n",
    "    # Maybe this is not the best place to set the seed, but this case each run of the function is predictable\n",
    "    np.random.seed(42)\n",
    "    np.random.shuffle(train_data)\n",
    "    split_indices = [int(i * train_data.shape[0] / n) for i in range(n + 1)]\n",
    "    errors = []\n",
    "\n",
    "    for i in range(n):\n",
    "        split_validation = train_data[split_indices[i]:split_indices[i + 1], :]\n",
    "        split_training = np.vstack((train_data[:split_indices[i], :], train_data[split_indices[i + 1]:, :]))\n",
    "        split_pred = model(split_training, split_validation[:, :-1])\n",
    "        error = classification_error(split_pred, split_validation[:, -1])\n",
    "        if not silent:\n",
    "            print(f\"Error on one validation split: {error=}\")\n",
    "        errors.append(error)\n",
    "    return np.mean(error)\n"
   ],
   "metadata": {
    "collapsed": false
   }
  },
  {
   "cell_type": "markdown",
   "source": [
    "### Trying with \"ring\" dataset"
   ],
   "metadata": {
    "collapsed": false
   }
  },
  {
   "cell_type": "code",
   "execution_count": 90,
   "outputs": [],
   "source": [
    "def plot_ring_pred(data, pred):\n",
    "    plt.scatter(data[pred == 0, 0], data[pred == 0, 1], color='blue')\n",
    "    plt.scatter(data[pred == 1, 0], data[pred == 1, 1], color='red')\n",
    "    plt.axis('equal')"
   ],
   "metadata": {
    "collapsed": false
   }
  },
  {
   "cell_type": "code",
   "execution_count": 91,
   "outputs": [
    {
     "data": {
      "text/plain": "<Figure size 432x288 with 1 Axes>",
      "image/png": "[encoded data removed]"
     },
     "metadata": {
      "needs_background": "light"
     },
     "output_type": "display_data"
    }
   ],
   "source": [
    "# Firstly, try with the separable one\n",
    "ring_sep = np.genfromtxt(\"A2-ring/A2-ring-separable.txt\", dtype=np.float32, delimiter=\"\\t\")\n",
    "ring_merged = np.genfromtxt(\"A2-ring/A2-ring-merged.txt\", dtype=np.float32, delimiter=\"\\t\")\n",
    "ring_test = np.genfromtxt(\"A2-ring/A2-ring-test.txt\", dtype=np.float32, delimiter=\"\\t\")\n",
    "plot_ring_pred(ring_sep[:, :2], ring_sep[:, 2])"
   ],
   "metadata": {
    "collapsed": false
   }
  },
  {
   "cell_type": "code",
   "execution_count": 96,
   "outputs": [
    {
     "name": "stdout",
     "output_type": "stream",
     "text": [
      "Error on one validation split: error=48.9\n",
      "Error on one validation split: error=48.35\n",
      "Error on one validation split: error=48.3\n",
      "Error on one validation split: error=47.95\n",
      "Error on one validation split: error=46.35\n"
     ]
    },
    {
     "data": {
      "text/plain": "46.35"
     },
     "execution_count": 96,
     "metadata": {},
     "output_type": "execute_result"
    }
   ],
   "source": [
    "n_folds(5, ring_sep, lambda *params: run_svm({\"kernel\": \"linear\"}, *params), silent=False)"
   ],
   "metadata": {
    "collapsed": false
   }
  },
  {
   "cell_type": "code",
   "execution_count": 99,
   "outputs": [],
   "source": [
    "# Plotting the data\n",
    "pred = run_svm({\"kernel\": \"linear\"}, ring_sep, ring_test[:, :-1])"
   ],
   "metadata": {
    "collapsed": false
   }
  },
  {
   "cell_type": "code",
   "execution_count": 100,
   "outputs": [
    {
     "data": {
      "text/plain": "<Figure size 432x288 with 2 Axes>",
      "image/png": "[encoded data removed]"
     },
     "metadata": {
      "needs_background": "light"
     },
     "output_type": "display_data"
    }
   ],
   "source": [
    "plt.subplot(1, 2, 1)\n",
    "plot_ring_pred(ring_test[:, :2], ring_test[:, 2])\n",
    "plt.subplot(1, 2, 2)\n",
    "plot_ring_pred(ring_test[:, :2], pred)"
   ],
   "metadata": {
    "collapsed": false
   }
  },
  {
   "cell_type": "markdown",
   "source": [
    "As predicted, an SVM with linear kernel cannot properly separate such data"
   ],
   "metadata": {
    "collapsed": false
   }
  },
  {
   "cell_type": "code",
   "execution_count": 104,
   "outputs": [
    {
     "name": "stdout",
     "output_type": "stream",
     "text": [
      "Error on one validation split: error=0.5\n",
      "Error on one validation split: error=0.55\n",
      "Error on one validation split: error=0.25\n",
      "Error on one validation split: error=0.5\n",
      "Error on one validation split: error=0.55\n",
      "Error: 0.31%\n"
     ]
    },
    {
     "data": {
      "text/plain": "<Figure size 432x288 with 2 Axes>",
      "image/png": "[encoded data removed]"
     },
     "metadata": {
      "needs_background": "light"
     },
     "output_type": "display_data"
    }
   ],
   "source": [
    "n_folds(5, ring_sep, lambda *params: run_svm({\"kernel\": \"rbf\", \"C\": 100, \"gamma\": 4}, *params), silent=False)\n",
    "pred = run_svm({\"kernel\": \"rbf\", \"C\": 100, \"gamma\": 4}, ring_sep, ring_test[:, :-1])\n",
    "plt.subplot(1, 2, 1)\n",
    "plot_ring_pred(ring_test[:, :2], ring_test[:, 2])\n",
    "plt.subplot(1, 2, 2)\n",
    "plot_ring_pred(ring_test[:, :2], pred)\n",
    "print(f\"Error: {classification_error(pred, ring_test[:, -1])}%\")"
   ],
   "metadata": {
    "collapsed": false
   }
  },
  {
   "cell_type": "markdown",
   "source": [
    "On the other hand, when data is linearly separable, a radial kernel works perfectly with pretty large gamma and large C. However, these parameters need to be tuned better when dealing with merged data. As we can see in the following section, during cross validation the error is pretty large, as the data is tightly \"merged\" into each other. However, the test set is a subset of linearly separable one, and on it only 2.08% of samples are misclassified"
   ],
   "metadata": {
    "collapsed": false
   }
  },
  {
   "cell_type": "code",
   "execution_count": 146,
   "outputs": [
    {
     "name": "stdout",
     "output_type": "stream",
     "text": [
      "Error on one validation split: error=21.75\n",
      "Error on one validation split: error=22.05\n",
      "Error on one validation split: error=21.05\n",
      "Error on one validation split: error=21.4\n",
      "Error on one validation split: error=23.3\n",
      "Error: 2.08%\n"
     ]
    },
    {
     "data": {
      "text/plain": "<Figure size 432x288 with 2 Axes>",
      "image/png": "[encoded data removed]"
     },
     "metadata": {
      "needs_background": "light"
     },
     "output_type": "display_data"
    }
   ],
   "source": [
    "svm_params = {\"kernel\": \"rbf\", \"C\": 1, \"gamma\": 2}\n",
    "n_folds(5, ring_merged, lambda *args: run_svm(svm_params, *args), silent=False)\n",
    "pred = run_svm(svm_params, ring_merged, ring_test[:, :-1])\n",
    "plt.subplot(1, 2, 1)\n",
    "plot_ring_pred(ring_test[:, :2], ring_test[:, 2])\n",
    "plt.subplot(1, 2, 2)\n",
    "plot_ring_pred(ring_test[:, :2], pred)\n",
    "print(f\"Error: {classification_error(pred, ring_test[:, -1])}%\")"
   ],
   "metadata": {
    "collapsed": false
   }
  },
  {
   "cell_type": "markdown",
   "source": [
    "#### As expected, linear regression cannot classify the data, so the best it can do is to classify all the elements into more represented class"
   ],
   "metadata": {
    "collapsed": false
   }
  },
  {
   "cell_type": "code",
   "execution_count": 245,
   "outputs": [
    {
     "name": "stdout",
     "output_type": "stream",
     "text": [
      "Error on one validation split: error=45.35\n",
      "Error on one validation split: error=45.55\n",
      "Error on one validation split: error=45.2\n",
      "Error on one validation split: error=43.15\n",
      "Error on one validation split: error=45.0\n",
      "Error on one validation split: error=50.3\n",
      "Error on one validation split: error=56.35\n",
      "Error on one validation split: error=48.2\n",
      "Error on one validation split: error=49.25\n",
      "Error on one validation split: error=48.8\n",
      "Error: 46.67%\n"
     ]
    },
    {
     "data": {
      "text/plain": "<Figure size 432x288 with 1 Axes>",
      "image/png": "[encoded data removed]"
     },
     "metadata": {
      "needs_background": "light"
     },
     "output_type": "display_data"
    }
   ],
   "source": [
    "n_folds(5, ring_merged, run_linear_regression, silent=False)\n",
    "n_folds(5, ring_sep, run_linear_regression, silent=False)\n",
    "pred = run_linear_regression(ring_merged, ring_test[:, :-1])\n",
    "plot_ring_pred(ring_test[:, :2], pred)\n",
    "print(f\"Error: {classification_error(pred, ring_test[:, -1])}%\")"
   ],
   "metadata": {
    "collapsed": false
   }
  },
  {
   "cell_type": "markdown",
   "source": [
    "When trying to train a neural network, I was experimenting with many parameters and found ones that give a good enough result. I use binary cross-entropy loss for training and 2 large hidden layers with tanh activation. Here, I am validating using N-folds and then train a network on full input data"
   ],
   "metadata": {
    "collapsed": false
   }
  },
  {
   "cell_type": "code",
   "execution_count": 246,
   "outputs": [
    {
     "name": "stdout",
     "output_type": "stream",
     "text": [
      "Error on one validation split: error=2.55\n",
      "Error on one validation split: error=3.2\n",
      "Error on one validation split: error=2.5\n",
      "Error on one validation split: error=2.25\n",
      "Error on one validation split: error=2.9\n",
      "Error: 1.47%\n"
     ]
    },
    {
     "data": {
      "text/plain": "<Figure size 432x288 with 1 Axes>",
      "image/png": "[encoded data removed]"
     },
     "metadata": {
      "needs_background": "light"
     },
     "output_type": "display_data"
    }
   ],
   "source": [
    "nn_params = [[2, 16, 15, 1], 'tanh']\n",
    "\n",
    "n_folds(5, ring_sep, lambda *args: run_pytorch_network(nn_params, 0.006, 30, *args), silent=False)\n",
    "pred = run_pytorch_network(nn_params, 0.006, 30, ring_sep.copy(), ring_test[:, :-1])\n",
    "plot_ring_pred(ring_test[:, :2], pred)\n",
    "print(f\"Error: {classification_error(pred, ring_test[:, -1])}%\")"
   ],
   "metadata": {
    "collapsed": false
   }
  },
  {
   "cell_type": "markdown",
   "source": [
    "On not linearly separable data the network pretty quickly converges to a point where both training and validation losses don't change much. Maybe with some parameters the performance would be better, but even now the error is 5%, which is not much"
   ],
   "metadata": {
    "collapsed": false
   }
  },
  {
   "cell_type": "code",
   "execution_count": 249,
   "outputs": [
    {
     "name": "stdout",
     "output_type": "stream",
     "text": [
      "Error on one validation split: error=19.9\n",
      "Error on one validation split: error=23.4\n",
      "Error on one validation split: error=23.85\n",
      "Error on one validation split: error=20.5\n",
      "Error on one validation split: error=22.2\n",
      "Epoch: 0. \n",
      "Loss on training: 0.6488407787680626 \n",
      "Loss on validation: 0.5688090324401855 \n",
      "##########\n",
      "Epoch: 1. \n",
      "Loss on training: 0.5367344590649009 \n",
      "Loss on validation: 0.5721774101257324 \n",
      "##########\n",
      "Epoch: 2. \n",
      "Loss on training: 0.5250835539773107 \n",
      "Loss on validation: 0.5578290820121765 \n",
      "##########\n",
      "Epoch: 3. \n",
      "Loss on training: 0.5259814995341003 \n",
      "Loss on validation: 0.5486482977867126 \n",
      "##########\n",
      "Epoch: 4. \n",
      "Loss on training: 0.5183635067753494 \n",
      "Loss on validation: 0.5375968813896179 \n",
      "##########\n",
      "Epoch: 5. \n",
      "Loss on training: 0.5145256756804883 \n",
      "Loss on validation: 0.550197184085846 \n",
      "##########\n",
      "Epoch: 6. \n",
      "Loss on training: 0.5135133853182197 \n",
      "Loss on validation: 0.544791042804718 \n",
      "##########\n",
      "Epoch: 7. \n",
      "Loss on training: 0.5072705997154117 \n",
      "Loss on validation: 0.5361325740814209 \n",
      "##########\n",
      "Epoch: 8. \n",
      "Loss on training: 0.4979463410191238 \n",
      "Loss on validation: 0.5602922439575195 \n",
      "##########\n",
      "Epoch: 9. \n",
      "Loss on training: 0.49317560901865365 \n",
      "Loss on validation: 0.5117596387863159 \n",
      "##########\n",
      "Epoch: 10. \n",
      "Loss on training: 0.4886818695254624 \n",
      "Loss on validation: 0.5165153741836548 \n",
      "##########\n",
      "Epoch: 11. \n",
      "Loss on training: 0.4888796553947031 \n",
      "Loss on validation: 0.5230708122253418 \n",
      "##########\n",
      "Epoch: 12. \n",
      "Loss on training: 0.489236041046679 \n",
      "Loss on validation: 0.5176262259483337 \n",
      "##########\n",
      "Epoch: 13. \n",
      "Loss on training: 0.48579389523714783 \n",
      "Loss on validation: 0.5218093991279602 \n",
      "##########\n",
      "Epoch: 14. \n",
      "Loss on training: 0.48512872939929363 \n",
      "Loss on validation: 0.5452768206596375 \n",
      "##########\n",
      "Epoch: 15. \n",
      "Loss on training: 0.48739065874367954 \n",
      "Loss on validation: 0.5112802386283875 \n",
      "##########\n",
      "Epoch: 16. \n",
      "Loss on training: 0.48188883165828883 \n",
      "Loss on validation: 0.5095909833908081 \n",
      "##########\n",
      "Epoch: 17. \n",
      "Loss on training: 0.4856084718834609 \n",
      "Loss on validation: 0.5150824785232544 \n",
      "##########\n",
      "Epoch: 18. \n",
      "Loss on training: 0.48062739180400965 \n",
      "Loss on validation: 0.5135449171066284 \n",
      "##########\n",
      "Epoch: 19. \n",
      "Loss on training: 0.48412029375322163 \n",
      "Loss on validation: 0.511148989200592 \n",
      "##########\n",
      "Error: 5.5%\n"
     ]
    },
    {
     "data": {
      "text/plain": "<Figure size 432x288 with 1 Axes>",
      "image/png": "[encoded data removed]"
     },
     "metadata": {
      "needs_background": "light"
     },
     "output_type": "display_data"
    }
   ],
   "source": [
    "nn_params = [[2, 16, 15, 1], 'relu']\n",
    "\n",
    "n_folds(5, ring_merged, lambda *args: run_pytorch_network(nn_params, 0.01, 20, *args), silent=False)\n",
    "pred = run_pytorch_network(nn_params, 0.01, 20, ring_merged.copy(), ring_test[:, :-1], silent=False)\n",
    "plot_ring_pred(ring_test[:, :2], pred)\n",
    "print(f\"Error: {classification_error(pred, ring_test[:, -1])}%\")"
   ],
   "metadata": {
    "collapsed": false
   }
  },
  {
   "cell_type": "code",
   "execution_count": null,
   "outputs": [],
   "source": [],
   "metadata": {
    "collapsed": false
   }
  }
 ],
 "metadata": {
  "kernelspec": {
   "display_name": "Python 3",
   "language": "python",
   "name": "python3"
  },
  "language_info": {
   "codemirror_mode": {
    "name": "ipython",
    "version": 2
   },
   "file_extension": ".py",
   "mimetype": "text/x-python",
   "name": "python",
   "nbconvert_exporter": "python",
   "pygments_lexer": "ipython2",
   "version": "2.7.6"
  }
 },
 "nbformat": 4,
 "nbformat_minor": 0
}
