{
 "cells": [
  {
   "cell_type": "code",
   "execution_count": 15,
   "metadata": {},
   "outputs": [
    {
     "name": "stdout",
     "output_type": "stream",
     "text": [
      "(3810, 8)\n"
     ]
    }
   ],
   "source": [
    "import numpy as np\n",
    "import pandas as pd\n",
    "from scipy.io.arff import loadarff \n",
    "\n",
    "# Firstly load data\n",
    "raw_data = loadarff('A2-Rice/Rice_Cammeo_Osmancik.arff')\n",
    "df = pd.DataFrame(raw_data[0])\n",
    "df_preprocessed = df.copy()\n",
    "print(df.shape)\n"
   ]
  },
  {
   "cell_type": "markdown",
   "metadata": {},
   "source": [
    "This data set and it's describtion can be found in http://archive.ics.uci.edu/dataset/545/rice+cammeo+and+osmancik . It has 3810 samples and 8 Features, 7 numerical features and one binary. The first 7 features describe charactieristics of images of the two rice types Cammeo and Osmancik. So we have two classes. "
   ]
  },
  {
   "cell_type": "code",
   "execution_count": 16,
   "metadata": {},
   "outputs": [
    {
     "data": {
      "text/html": [
       "<div>\n",
       "<style scoped>\n",
       "    .dataframe tbody tr th:only-of-type {\n",
       "        vertical-align: middle;\n",
       "    }\n",
       "\n",
       "    .dataframe tbody tr th {\n",
       "        vertical-align: top;\n",
       "    }\n",
       "\n",
       "    .dataframe thead th {\n",
       "        text-align: right;\n",
       "    }\n",
       "</style>\n",
       "<table border=\"1\" class=\"dataframe\">\n",
       "  <thead>\n",
       "    <tr style=\"text-align: right;\">\n",
       "      <th></th>\n",
       "      <th>Area</th>\n",
       "      <th>Perimeter</th>\n",
       "      <th>Major_Axis_Length</th>\n",
       "      <th>Minor_Axis_Length</th>\n",
       "      <th>Eccentricity</th>\n",
       "      <th>Convex_Area</th>\n",
       "      <th>Extent</th>\n",
       "      <th>Class</th>\n",
       "    </tr>\n",
       "  </thead>\n",
       "  <tbody>\n",
       "    <tr>\n",
       "      <th>0</th>\n",
       "      <td>15231.0</td>\n",
       "      <td>525.578979</td>\n",
       "      <td>229.749878</td>\n",
       "      <td>85.093788</td>\n",
       "      <td>0.928882</td>\n",
       "      <td>15617.0</td>\n",
       "      <td>0.572896</td>\n",
       "      <td>b'Cammeo'</td>\n",
       "    </tr>\n",
       "    <tr>\n",
       "      <th>1</th>\n",
       "      <td>14656.0</td>\n",
       "      <td>494.311005</td>\n",
       "      <td>206.020065</td>\n",
       "      <td>91.730972</td>\n",
       "      <td>0.895405</td>\n",
       "      <td>15072.0</td>\n",
       "      <td>0.615436</td>\n",
       "      <td>b'Cammeo'</td>\n",
       "    </tr>\n",
       "    <tr>\n",
       "      <th>2</th>\n",
       "      <td>14634.0</td>\n",
       "      <td>501.122009</td>\n",
       "      <td>214.106781</td>\n",
       "      <td>87.768288</td>\n",
       "      <td>0.912118</td>\n",
       "      <td>14954.0</td>\n",
       "      <td>0.693259</td>\n",
       "      <td>b'Cammeo'</td>\n",
       "    </tr>\n",
       "    <tr>\n",
       "      <th>3</th>\n",
       "      <td>13176.0</td>\n",
       "      <td>458.342987</td>\n",
       "      <td>193.337387</td>\n",
       "      <td>87.448395</td>\n",
       "      <td>0.891861</td>\n",
       "      <td>13368.0</td>\n",
       "      <td>0.640669</td>\n",
       "      <td>b'Cammeo'</td>\n",
       "    </tr>\n",
       "    <tr>\n",
       "      <th>4</th>\n",
       "      <td>14688.0</td>\n",
       "      <td>507.166992</td>\n",
       "      <td>211.743378</td>\n",
       "      <td>89.312454</td>\n",
       "      <td>0.906691</td>\n",
       "      <td>15262.0</td>\n",
       "      <td>0.646024</td>\n",
       "      <td>b'Cammeo'</td>\n",
       "    </tr>\n",
       "    <tr>\n",
       "      <th>...</th>\n",
       "      <td>...</td>\n",
       "      <td>...</td>\n",
       "      <td>...</td>\n",
       "      <td>...</td>\n",
       "      <td>...</td>\n",
       "      <td>...</td>\n",
       "      <td>...</td>\n",
       "      <td>...</td>\n",
       "    </tr>\n",
       "    <tr>\n",
       "      <th>3805</th>\n",
       "      <td>11441.0</td>\n",
       "      <td>415.858002</td>\n",
       "      <td>170.486771</td>\n",
       "      <td>85.756592</td>\n",
       "      <td>0.864280</td>\n",
       "      <td>11628.0</td>\n",
       "      <td>0.681012</td>\n",
       "      <td>b'Osmancik'</td>\n",
       "    </tr>\n",
       "    <tr>\n",
       "      <th>3806</th>\n",
       "      <td>11625.0</td>\n",
       "      <td>421.390015</td>\n",
       "      <td>167.714798</td>\n",
       "      <td>89.462570</td>\n",
       "      <td>0.845850</td>\n",
       "      <td>11904.0</td>\n",
       "      <td>0.694279</td>\n",
       "      <td>b'Osmancik'</td>\n",
       "    </tr>\n",
       "    <tr>\n",
       "      <th>3807</th>\n",
       "      <td>12437.0</td>\n",
       "      <td>442.498993</td>\n",
       "      <td>183.572922</td>\n",
       "      <td>86.801979</td>\n",
       "      <td>0.881144</td>\n",
       "      <td>12645.0</td>\n",
       "      <td>0.626739</td>\n",
       "      <td>b'Osmancik'</td>\n",
       "    </tr>\n",
       "    <tr>\n",
       "      <th>3808</th>\n",
       "      <td>9882.0</td>\n",
       "      <td>392.296997</td>\n",
       "      <td>161.193985</td>\n",
       "      <td>78.210480</td>\n",
       "      <td>0.874406</td>\n",
       "      <td>10097.0</td>\n",
       "      <td>0.659064</td>\n",
       "      <td>b'Osmancik'</td>\n",
       "    </tr>\n",
       "    <tr>\n",
       "      <th>3809</th>\n",
       "      <td>11434.0</td>\n",
       "      <td>404.709991</td>\n",
       "      <td>161.079269</td>\n",
       "      <td>90.868195</td>\n",
       "      <td>0.825692</td>\n",
       "      <td>11591.0</td>\n",
       "      <td>0.802949</td>\n",
       "      <td>b'Osmancik'</td>\n",
       "    </tr>\n",
       "  </tbody>\n",
       "</table>\n",
       "<p>3810 rows × 8 columns</p>\n",
       "</div>"
      ],
      "text/plain": [
       "         Area   Perimeter  Major_Axis_Length  Minor_Axis_Length  Eccentricity  \\\n",
       "0     15231.0  525.578979         229.749878          85.093788      0.928882   \n",
       "1     14656.0  494.311005         206.020065          91.730972      0.895405   \n",
       "2     14634.0  501.122009         214.106781          87.768288      0.912118   \n",
       "3     13176.0  458.342987         193.337387          87.448395      0.891861   \n",
       "4     14688.0  507.166992         211.743378          89.312454      0.906691   \n",
       "...       ...         ...                ...                ...           ...   \n",
       "3805  11441.0  415.858002         170.486771          85.756592      0.864280   \n",
       "3806  11625.0  421.390015         167.714798          89.462570      0.845850   \n",
       "3807  12437.0  442.498993         183.572922          86.801979      0.881144   \n",
       "3808   9882.0  392.296997         161.193985          78.210480      0.874406   \n",
       "3809  11434.0  404.709991         161.079269          90.868195      0.825692   \n",
       "\n",
       "      Convex_Area    Extent        Class  \n",
       "0         15617.0  0.572896    b'Cammeo'  \n",
       "1         15072.0  0.615436    b'Cammeo'  \n",
       "2         14954.0  0.693259    b'Cammeo'  \n",
       "3         13368.0  0.640669    b'Cammeo'  \n",
       "4         15262.0  0.646024    b'Cammeo'  \n",
       "...           ...       ...          ...  \n",
       "3805      11628.0  0.681012  b'Osmancik'  \n",
       "3806      11904.0  0.694279  b'Osmancik'  \n",
       "3807      12645.0  0.626739  b'Osmancik'  \n",
       "3808      10097.0  0.659064  b'Osmancik'  \n",
       "3809      11591.0  0.802949  b'Osmancik'  \n",
       "\n",
       "[3810 rows x 8 columns]"
      ]
     },
     "execution_count": 16,
     "metadata": {},
     "output_type": "execute_result"
    }
   ],
   "source": [
    "# look at the datad\n",
    "df"
   ]
  },
  {
   "cell_type": "code",
   "execution_count": 17,
   "metadata": {},
   "outputs": [
    {
     "data": {
      "text/html": [
       "<div>\n",
       "<style scoped>\n",
       "    .dataframe tbody tr th:only-of-type {\n",
       "        vertical-align: middle;\n",
       "    }\n",
       "\n",
       "    .dataframe tbody tr th {\n",
       "        vertical-align: top;\n",
       "    }\n",
       "\n",
       "    .dataframe thead th {\n",
       "        text-align: right;\n",
       "    }\n",
       "</style>\n",
       "<table border=\"1\" class=\"dataframe\">\n",
       "  <thead>\n",
       "    <tr style=\"text-align: right;\">\n",
       "      <th></th>\n",
       "      <th>Area</th>\n",
       "      <th>Perimeter</th>\n",
       "      <th>Major_Axis_Length</th>\n",
       "      <th>Minor_Axis_Length</th>\n",
       "      <th>Eccentricity</th>\n",
       "      <th>Convex_Area</th>\n",
       "      <th>Extent</th>\n",
       "    </tr>\n",
       "  </thead>\n",
       "  <tbody>\n",
       "    <tr>\n",
       "      <th>count</th>\n",
       "      <td>3810.000000</td>\n",
       "      <td>3810.000000</td>\n",
       "      <td>3810.000000</td>\n",
       "      <td>3810.000000</td>\n",
       "      <td>3810.000000</td>\n",
       "      <td>3810.000000</td>\n",
       "      <td>3810.000000</td>\n",
       "    </tr>\n",
       "    <tr>\n",
       "      <th>mean</th>\n",
       "      <td>12667.727559</td>\n",
       "      <td>454.239180</td>\n",
       "      <td>188.776222</td>\n",
       "      <td>86.313750</td>\n",
       "      <td>0.886871</td>\n",
       "      <td>12952.496850</td>\n",
       "      <td>0.661934</td>\n",
       "    </tr>\n",
       "    <tr>\n",
       "      <th>std</th>\n",
       "      <td>1732.367706</td>\n",
       "      <td>35.597081</td>\n",
       "      <td>17.448679</td>\n",
       "      <td>5.729817</td>\n",
       "      <td>0.020818</td>\n",
       "      <td>1776.972042</td>\n",
       "      <td>0.077239</td>\n",
       "    </tr>\n",
       "    <tr>\n",
       "      <th>min</th>\n",
       "      <td>7551.000000</td>\n",
       "      <td>359.100006</td>\n",
       "      <td>145.264465</td>\n",
       "      <td>59.532406</td>\n",
       "      <td>0.777233</td>\n",
       "      <td>7723.000000</td>\n",
       "      <td>0.497413</td>\n",
       "    </tr>\n",
       "    <tr>\n",
       "      <th>25%</th>\n",
       "      <td>11370.500000</td>\n",
       "      <td>426.144753</td>\n",
       "      <td>174.353855</td>\n",
       "      <td>82.731695</td>\n",
       "      <td>0.872402</td>\n",
       "      <td>11626.250000</td>\n",
       "      <td>0.598862</td>\n",
       "    </tr>\n",
       "    <tr>\n",
       "      <th>50%</th>\n",
       "      <td>12421.500000</td>\n",
       "      <td>448.852493</td>\n",
       "      <td>185.810059</td>\n",
       "      <td>86.434647</td>\n",
       "      <td>0.889050</td>\n",
       "      <td>12706.500000</td>\n",
       "      <td>0.645361</td>\n",
       "    </tr>\n",
       "    <tr>\n",
       "      <th>75%</th>\n",
       "      <td>13950.000000</td>\n",
       "      <td>483.683746</td>\n",
       "      <td>203.550438</td>\n",
       "      <td>90.143677</td>\n",
       "      <td>0.902588</td>\n",
       "      <td>14284.000000</td>\n",
       "      <td>0.726562</td>\n",
       "    </tr>\n",
       "    <tr>\n",
       "      <th>max</th>\n",
       "      <td>18913.000000</td>\n",
       "      <td>548.445984</td>\n",
       "      <td>239.010498</td>\n",
       "      <td>107.542450</td>\n",
       "      <td>0.948007</td>\n",
       "      <td>19099.000000</td>\n",
       "      <td>0.861050</td>\n",
       "    </tr>\n",
       "  </tbody>\n",
       "</table>\n",
       "</div>"
      ],
      "text/plain": [
       "               Area    Perimeter  Major_Axis_Length  Minor_Axis_Length  \\\n",
       "count   3810.000000  3810.000000        3810.000000        3810.000000   \n",
       "mean   12667.727559   454.239180         188.776222          86.313750   \n",
       "std     1732.367706    35.597081          17.448679           5.729817   \n",
       "min     7551.000000   359.100006         145.264465          59.532406   \n",
       "25%    11370.500000   426.144753         174.353855          82.731695   \n",
       "50%    12421.500000   448.852493         185.810059          86.434647   \n",
       "75%    13950.000000   483.683746         203.550438          90.143677   \n",
       "max    18913.000000   548.445984         239.010498         107.542450   \n",
       "\n",
       "       Eccentricity   Convex_Area       Extent  \n",
       "count   3810.000000   3810.000000  3810.000000  \n",
       "mean       0.886871  12952.496850     0.661934  \n",
       "std        0.020818   1776.972042     0.077239  \n",
       "min        0.777233   7723.000000     0.497413  \n",
       "25%        0.872402  11626.250000     0.598862  \n",
       "50%        0.889050  12706.500000     0.645361  \n",
       "75%        0.902588  14284.000000     0.726562  \n",
       "max        0.948007  19099.000000     0.861050  "
      ]
     },
     "execution_count": 17,
     "metadata": {},
     "output_type": "execute_result"
    }
   ],
   "source": [
    "df.describe()"
   ]
  },
  {
   "cell_type": "markdown",
   "metadata": {},
   "source": [
    "In the description of the data set say that there are no missing values, we will check if values are set to \"unknown\", \"null\" or none. We are seeing that the mimus of the values are not 0. So this is can not be an encoding for null values"
   ]
  },
  {
   "cell_type": "code",
   "execution_count": 20,
   "metadata": {},
   "outputs": [
    {
     "data": {
      "text/plain": [
       "Area                 0\n",
       "Perimeter            0\n",
       "Major_Axis_Length    0\n",
       "Minor_Axis_Length    0\n",
       "Eccentricity         0\n",
       "Convex_Area          0\n",
       "Extent               0\n",
       "Class                0\n",
       "dtype: int64"
      ]
     },
     "execution_count": 20,
     "metadata": {},
     "output_type": "execute_result"
    }
   ],
   "source": [
    "np.sum(df == \"unknown\", axis=0)"
   ]
  },
  {
   "cell_type": "code",
   "execution_count": 22,
   "metadata": {},
   "outputs": [
    {
     "data": {
      "text/plain": [
       "Area                 0\n",
       "Perimeter            0\n",
       "Major_Axis_Length    0\n",
       "Minor_Axis_Length    0\n",
       "Eccentricity         0\n",
       "Convex_Area          0\n",
       "Extent               0\n",
       "Class                0\n",
       "dtype: int64"
      ]
     },
     "execution_count": 22,
     "metadata": {},
     "output_type": "execute_result"
    }
   ],
   "source": [
    "np.sum(df == \"NULL\", axis=0)"
   ]
  },
  {
   "cell_type": "code",
   "execution_count": 23,
   "metadata": {},
   "outputs": [
    {
     "data": {
      "text/plain": [
       "Area                 0\n",
       "Perimeter            0\n",
       "Major_Axis_Length    0\n",
       "Minor_Axis_Length    0\n",
       "Eccentricity         0\n",
       "Convex_Area          0\n",
       "Extent               0\n",
       "Class                0\n",
       "dtype: int64"
      ]
     },
     "execution_count": 23,
     "metadata": {},
     "output_type": "execute_result"
    }
   ],
   "source": [
    "np.sum(df == \"None\", axis=0)"
   ]
  },
  {
   "cell_type": "markdown",
   "metadata": {},
   "source": [
    "Like the dataset desribition said, we can not find any missing values."
   ]
  },
  {
   "cell_type": "code",
   "execution_count": 27,
   "metadata": {},
   "outputs": [
    {
     "data": {
      "text/plain": [
       "Area                 float64\n",
       "Perimeter            float64\n",
       "Major_Axis_Length    float64\n",
       "Minor_Axis_Length    float64\n",
       "Eccentricity         float64\n",
       "Convex_Area          float64\n",
       "Extent               float64\n",
       "Class                 object\n",
       "dtype: object"
      ]
     },
     "execution_count": 27,
     "metadata": {},
     "output_type": "execute_result"
    }
   ],
   "source": [
    "df.dtypes"
   ]
  },
  {
   "cell_type": "code",
   "execution_count": 35,
   "metadata": {},
   "outputs": [
    {
     "data": {
      "text/plain": [
       "array([b'Cammeo', b'Osmancik'], dtype=object)"
      ]
     },
     "execution_count": 35,
     "metadata": {},
     "output_type": "execute_result"
    }
   ],
   "source": [
    "# we have to only to replace the class values with numbers. The other other 7 features are numerical.\n",
    "df[\"Class\"].unique()"
   ]
  },
  {
   "cell_type": "code",
   "execution_count": 42,
   "metadata": {},
   "outputs": [],
   "source": [
    "rice_mapping = {\n",
    "    b'Cammeo': 0,\n",
    "    b'Osmancik': 1,\n",
    "}\n",
    "df_preprocessed[\"Class\"] = df[\"Class\"].apply(lambda x: rice_mapping[x])"
   ]
  },
  {
   "cell_type": "code",
   "execution_count": 44,
   "metadata": {},
   "outputs": [
    {
     "data": {
      "text/html": [
       "<div>\n",
       "<style scoped>\n",
       "    .dataframe tbody tr th:only-of-type {\n",
       "        vertical-align: middle;\n",
       "    }\n",
       "\n",
       "    .dataframe tbody tr th {\n",
       "        vertical-align: top;\n",
       "    }\n",
       "\n",
       "    .dataframe thead th {\n",
       "        text-align: right;\n",
       "    }\n",
       "</style>\n",
       "<table border=\"1\" class=\"dataframe\">\n",
       "  <thead>\n",
       "    <tr style=\"text-align: right;\">\n",
       "      <th></th>\n",
       "      <th>Area</th>\n",
       "      <th>Perimeter</th>\n",
       "      <th>Major_Axis_Length</th>\n",
       "      <th>Minor_Axis_Length</th>\n",
       "      <th>Eccentricity</th>\n",
       "      <th>Convex_Area</th>\n",
       "      <th>Extent</th>\n",
       "      <th>Class</th>\n",
       "    </tr>\n",
       "  </thead>\n",
       "  <tbody>\n",
       "    <tr>\n",
       "      <th>0</th>\n",
       "      <td>15231.0</td>\n",
       "      <td>525.578979</td>\n",
       "      <td>229.749878</td>\n",
       "      <td>85.093788</td>\n",
       "      <td>0.928882</td>\n",
       "      <td>15617.0</td>\n",
       "      <td>0.572896</td>\n",
       "      <td>0</td>\n",
       "    </tr>\n",
       "    <tr>\n",
       "      <th>1</th>\n",
       "      <td>14656.0</td>\n",
       "      <td>494.311005</td>\n",
       "      <td>206.020065</td>\n",
       "      <td>91.730972</td>\n",
       "      <td>0.895405</td>\n",
       "      <td>15072.0</td>\n",
       "      <td>0.615436</td>\n",
       "      <td>0</td>\n",
       "    </tr>\n",
       "    <tr>\n",
       "      <th>2</th>\n",
       "      <td>14634.0</td>\n",
       "      <td>501.122009</td>\n",
       "      <td>214.106781</td>\n",
       "      <td>87.768288</td>\n",
       "      <td>0.912118</td>\n",
       "      <td>14954.0</td>\n",
       "      <td>0.693259</td>\n",
       "      <td>0</td>\n",
       "    </tr>\n",
       "    <tr>\n",
       "      <th>3</th>\n",
       "      <td>13176.0</td>\n",
       "      <td>458.342987</td>\n",
       "      <td>193.337387</td>\n",
       "      <td>87.448395</td>\n",
       "      <td>0.891861</td>\n",
       "      <td>13368.0</td>\n",
       "      <td>0.640669</td>\n",
       "      <td>0</td>\n",
       "    </tr>\n",
       "    <tr>\n",
       "      <th>4</th>\n",
       "      <td>14688.0</td>\n",
       "      <td>507.166992</td>\n",
       "      <td>211.743378</td>\n",
       "      <td>89.312454</td>\n",
       "      <td>0.906691</td>\n",
       "      <td>15262.0</td>\n",
       "      <td>0.646024</td>\n",
       "      <td>0</td>\n",
       "    </tr>\n",
       "  </tbody>\n",
       "</table>\n",
       "</div>"
      ],
      "text/plain": [
       "      Area   Perimeter  Major_Axis_Length  Minor_Axis_Length  Eccentricity  \\\n",
       "0  15231.0  525.578979         229.749878          85.093788      0.928882   \n",
       "1  14656.0  494.311005         206.020065          91.730972      0.895405   \n",
       "2  14634.0  501.122009         214.106781          87.768288      0.912118   \n",
       "3  13176.0  458.342987         193.337387          87.448395      0.891861   \n",
       "4  14688.0  507.166992         211.743378          89.312454      0.906691   \n",
       "\n",
       "   Convex_Area    Extent  Class  \n",
       "0      15617.0  0.572896      0  \n",
       "1      15072.0  0.615436      0  \n",
       "2      14954.0  0.693259      0  \n",
       "3      13368.0  0.640669      0  \n",
       "4      15262.0  0.646024      0  "
      ]
     },
     "execution_count": 44,
     "metadata": {},
     "output_type": "execute_result"
    }
   ],
   "source": [
    "df_preprocessed.head()"
   ]
  },
  {
   "cell_type": "code",
   "execution_count": 46,
   "metadata": {},
   "outputs": [
    {
     "data": {
      "text/plain": [
       "array([0, 1], dtype=int64)"
      ]
     },
     "execution_count": 46,
     "metadata": {},
     "output_type": "execute_result"
    }
   ],
   "source": [
    "df_preprocessed.Class.unique()"
   ]
  },
  {
   "cell_type": "code",
   "execution_count": 49,
   "metadata": {},
   "outputs": [
    {
     "data": {
      "text/html": [
       "<div>\n",
       "<style scoped>\n",
       "    .dataframe tbody tr th:only-of-type {\n",
       "        vertical-align: middle;\n",
       "    }\n",
       "\n",
       "    .dataframe tbody tr th {\n",
       "        vertical-align: top;\n",
       "    }\n",
       "\n",
       "    .dataframe thead tr th {\n",
       "        text-align: left;\n",
       "    }\n",
       "\n",
       "    .dataframe thead tr:last-of-type th {\n",
       "        text-align: right;\n",
       "    }\n",
       "</style>\n",
       "<table border=\"1\" class=\"dataframe\">\n",
       "  <thead>\n",
       "    <tr>\n",
       "      <th></th>\n",
       "      <th colspan=\"8\" halign=\"left\">Area</th>\n",
       "      <th colspan=\"2\" halign=\"left\">Perimeter</th>\n",
       "      <th>...</th>\n",
       "      <th colspan=\"2\" halign=\"left\">Convex_Area</th>\n",
       "      <th colspan=\"8\" halign=\"left\">Extent</th>\n",
       "    </tr>\n",
       "    <tr>\n",
       "      <th></th>\n",
       "      <th>count</th>\n",
       "      <th>mean</th>\n",
       "      <th>std</th>\n",
       "      <th>min</th>\n",
       "      <th>25%</th>\n",
       "      <th>50%</th>\n",
       "      <th>75%</th>\n",
       "      <th>max</th>\n",
       "      <th>count</th>\n",
       "      <th>mean</th>\n",
       "      <th>...</th>\n",
       "      <th>75%</th>\n",
       "      <th>max</th>\n",
       "      <th>count</th>\n",
       "      <th>mean</th>\n",
       "      <th>std</th>\n",
       "      <th>min</th>\n",
       "      <th>25%</th>\n",
       "      <th>50%</th>\n",
       "      <th>75%</th>\n",
       "      <th>max</th>\n",
       "    </tr>\n",
       "    <tr>\n",
       "      <th>Class</th>\n",
       "      <th></th>\n",
       "      <th></th>\n",
       "      <th></th>\n",
       "      <th></th>\n",
       "      <th></th>\n",
       "      <th></th>\n",
       "      <th></th>\n",
       "      <th></th>\n",
       "      <th></th>\n",
       "      <th></th>\n",
       "      <th></th>\n",
       "      <th></th>\n",
       "      <th></th>\n",
       "      <th></th>\n",
       "      <th></th>\n",
       "      <th></th>\n",
       "      <th></th>\n",
       "      <th></th>\n",
       "      <th></th>\n",
       "      <th></th>\n",
       "      <th></th>\n",
       "    </tr>\n",
       "  </thead>\n",
       "  <tbody>\n",
       "    <tr>\n",
       "      <th>0</th>\n",
       "      <td>1630.0</td>\n",
       "      <td>14162.892025</td>\n",
       "      <td>1286.770521</td>\n",
       "      <td>9908.0</td>\n",
       "      <td>13289.25</td>\n",
       "      <td>14212.0</td>\n",
       "      <td>14997.0</td>\n",
       "      <td>18913.0</td>\n",
       "      <td>1630.0</td>\n",
       "      <td>487.438942</td>\n",
       "      <td>...</td>\n",
       "      <td>15361.0</td>\n",
       "      <td>19099.0</td>\n",
       "      <td>1630.0</td>\n",
       "      <td>0.651420</td>\n",
       "      <td>0.082197</td>\n",
       "      <td>0.497413</td>\n",
       "      <td>0.580921</td>\n",
       "      <td>0.634436</td>\n",
       "      <td>0.717667</td>\n",
       "      <td>0.861050</td>\n",
       "    </tr>\n",
       "    <tr>\n",
       "      <th>1</th>\n",
       "      <td>2180.0</td>\n",
       "      <td>11549.783486</td>\n",
       "      <td>1041.908607</td>\n",
       "      <td>7551.0</td>\n",
       "      <td>10850.50</td>\n",
       "      <td>11552.5</td>\n",
       "      <td>12269.0</td>\n",
       "      <td>15420.0</td>\n",
       "      <td>2180.0</td>\n",
       "      <td>429.415505</td>\n",
       "      <td>...</td>\n",
       "      <td>12524.0</td>\n",
       "      <td>15800.0</td>\n",
       "      <td>2180.0</td>\n",
       "      <td>0.669796</td>\n",
       "      <td>0.072340</td>\n",
       "      <td>0.501078</td>\n",
       "      <td>0.610567</td>\n",
       "      <td>0.652695</td>\n",
       "      <td>0.732591</td>\n",
       "      <td>0.832747</td>\n",
       "    </tr>\n",
       "  </tbody>\n",
       "</table>\n",
       "<p>2 rows × 56 columns</p>\n",
       "</div>"
      ],
      "text/plain": [
       "         Area                                                                 \\\n",
       "        count          mean          std     min       25%      50%      75%   \n",
       "Class                                                                          \n",
       "0      1630.0  14162.892025  1286.770521  9908.0  13289.25  14212.0  14997.0   \n",
       "1      2180.0  11549.783486  1041.908607  7551.0  10850.50  11552.5  12269.0   \n",
       "\n",
       "               Perimeter              ... Convex_Area           Extent  \\\n",
       "           max     count        mean  ...         75%      max   count   \n",
       "Class                                 ...                                \n",
       "0      18913.0    1630.0  487.438942  ...     15361.0  19099.0  1630.0   \n",
       "1      15420.0    2180.0  429.415505  ...     12524.0  15800.0  2180.0   \n",
       "\n",
       "                                                                             \n",
       "           mean       std       min       25%       50%       75%       max  \n",
       "Class                                                                        \n",
       "0      0.651420  0.082197  0.497413  0.580921  0.634436  0.717667  0.861050  \n",
       "1      0.669796  0.072340  0.501078  0.610567  0.652695  0.732591  0.832747  \n",
       "\n",
       "[2 rows x 56 columns]"
      ]
     },
     "execution_count": 49,
     "metadata": {},
     "output_type": "execute_result"
    }
   ],
   "source": [
    "df_preprocessed.groupby(\"Class\").describe()"
   ]
  },
  {
   "cell_type": "markdown",
   "metadata": {},
   "source": [
    "### Now we need to normalize all the data"
   ]
  },
  {
   "cell_type": "code",
   "execution_count": 53,
   "metadata": {},
   "outputs": [
    {
     "data": {
      "text/plain": [
       "array([[<Axes: title={'center': 'Area'}>,\n",
       "        <Axes: title={'center': 'Perimeter'}>,\n",
       "        <Axes: title={'center': 'Major_Axis_Length'}>],\n",
       "       [<Axes: title={'center': 'Minor_Axis_Length'}>,\n",
       "        <Axes: title={'center': 'Eccentricity'}>,\n",
       "        <Axes: title={'center': 'Convex_Area'}>],\n",
       "       [<Axes: title={'center': 'Extent'}>,\n",
       "        <Axes: title={'center': 'Class'}>, <Axes: >]], dtype=object)"
      ]
     },
     "execution_count": 53,
     "metadata": {},
     "output_type": "execute_result"
    },
    {
     "data": {
      "image/png": "[encoded data removed]",
      "text/plain": [
       "<Figure size 640x480 with 9 Axes>"
      ]
     },
     "metadata": {},
     "output_type": "display_data"
    }
   ],
   "source": [
    "df_preprocessed.hist()\n"
   ]
  },
  {
   "cell_type": "markdown",
   "metadata": {},
   "source": [
    "For the first 7 feature columns we have a gaussian distribution, so we will use for a standarization. Also see not points in the data that are too far from the others, so outliers. For the class column we not need noralisation. "
   ]
  },
  {
   "cell_type": "code",
   "execution_count": null,
   "metadata": {},
   "outputs": [],
   "source": [
    "from sklearn.preprocessing import MinMaxScaler, StandardScaler\n",
    "\n",
    "std_scaler = StandardScaler()\n",
    "df_scaled = df_preprocessed.copy()\n",
    "df_scaled[\"age\"] = std_scaler.fit_transform(df_preprocessed[[\"age\"]])\n",
    "df_scaled[\"age\"] = std_scaler.fit_transform(df_preprocessed[[\"age\"]])"
   ]
  },
  {
   "cell_type": "code",
   "execution_count": 57,
   "metadata": {},
   "outputs": [],
   "source": [
    "from sklearn.preprocessing import MinMaxScaler, StandardScaler\n",
    "df_scaled = df_preprocessed.copy()\n",
    "\n",
    "std_scaler = StandardScaler()\n",
    "columns_to_scale = list(df_scaled.columns)\n",
    "columns_to_scale.remove(\"Class\")\n",
    "df_scaled[columns_to_scale] = std_scaler.fit_transform(df_preprocessed[columns_to_scale])"
   ]
  },
  {
   "cell_type": "code",
   "execution_count": 58,
   "metadata": {},
   "outputs": [
    {
     "data": {
      "text/plain": [
       "array([[<Axes: title={'center': 'Area'}>,\n",
       "        <Axes: title={'center': 'Perimeter'}>,\n",
       "        <Axes: title={'center': 'Major_Axis_Length'}>],\n",
       "       [<Axes: title={'center': 'Minor_Axis_Length'}>,\n",
       "        <Axes: title={'center': 'Eccentricity'}>,\n",
       "        <Axes: title={'center': 'Convex_Area'}>],\n",
       "       [<Axes: title={'center': 'Extent'}>,\n",
       "        <Axes: title={'center': 'Class'}>, <Axes: >]], dtype=object)"
      ]
     },
     "execution_count": 58,
     "metadata": {},
     "output_type": "execute_result"
    },
    {
     "data": {
      "image/png": "[encoded data removed]",
      "text/plain": [
       "<Figure size 640x480 with 9 Axes>"
      ]
     },
     "metadata": {},
     "output_type": "display_data"
    }
   ],
   "source": [
    "df_scaled.hist()"
   ]
  },
  {
   "cell_type": "code",
   "execution_count": 59,
   "metadata": {},
   "outputs": [
    {
     "data": {
      "text/html": [
       "<div>\n",
       "<style scoped>\n",
       "    .dataframe tbody tr th:only-of-type {\n",
       "        vertical-align: middle;\n",
       "    }\n",
       "\n",
       "    .dataframe tbody tr th {\n",
       "        vertical-align: top;\n",
       "    }\n",
       "\n",
       "    .dataframe thead th {\n",
       "        text-align: right;\n",
       "    }\n",
       "</style>\n",
       "<table border=\"1\" class=\"dataframe\">\n",
       "  <thead>\n",
       "    <tr style=\"text-align: right;\">\n",
       "      <th></th>\n",
       "      <th>Area</th>\n",
       "      <th>Perimeter</th>\n",
       "      <th>Major_Axis_Length</th>\n",
       "      <th>Minor_Axis_Length</th>\n",
       "      <th>Eccentricity</th>\n",
       "      <th>Convex_Area</th>\n",
       "      <th>Extent</th>\n",
       "      <th>Class</th>\n",
       "    </tr>\n",
       "  </thead>\n",
       "  <tbody>\n",
       "    <tr>\n",
       "      <th>0</th>\n",
       "      <td>0.004776</td>\n",
       "      <td>-0.457490</td>\n",
       "      <td>-0.604086</td>\n",
       "      <td>0.939770</td>\n",
       "      <td>-1.410648</td>\n",
       "      <td>-0.036864</td>\n",
       "      <td>0.379499</td>\n",
       "      <td>1</td>\n",
       "    </tr>\n",
       "    <tr>\n",
       "      <th>1</th>\n",
       "      <td>0.586138</td>\n",
       "      <td>0.205909</td>\n",
       "      <td>0.026889</td>\n",
       "      <td>1.186828</td>\n",
       "      <td>-0.782547</td>\n",
       "      <td>0.558047</td>\n",
       "      <td>-0.458678</td>\n",
       "      <td>1</td>\n",
       "    </tr>\n",
       "    <tr>\n",
       "      <th>2</th>\n",
       "      <td>0.862097</td>\n",
       "      <td>0.967842</td>\n",
       "      <td>1.016327</td>\n",
       "      <td>0.288689</td>\n",
       "      <td>0.858182</td>\n",
       "      <td>0.830456</td>\n",
       "      <td>-0.880272</td>\n",
       "      <td>0</td>\n",
       "    </tr>\n",
       "    <tr>\n",
       "      <th>3</th>\n",
       "      <td>-0.167266</td>\n",
       "      <td>-0.004978</td>\n",
       "      <td>0.383800</td>\n",
       "      <td>-0.876895</td>\n",
       "      <td>1.083647</td>\n",
       "      <td>-0.215280</td>\n",
       "      <td>-1.364381</td>\n",
       "      <td>1</td>\n",
       "    </tr>\n",
       "    <tr>\n",
       "      <th>4</th>\n",
       "      <td>-0.449575</td>\n",
       "      <td>-0.717630</td>\n",
       "      <td>-0.868081</td>\n",
       "      <td>0.371062</td>\n",
       "      <td>-1.264126</td>\n",
       "      <td>-0.472493</td>\n",
       "      <td>-0.660228</td>\n",
       "      <td>1</td>\n",
       "    </tr>\n",
       "  </tbody>\n",
       "</table>\n",
       "</div>"
      ],
      "text/plain": [
       "       Area  Perimeter  Major_Axis_Length  Minor_Axis_Length  Eccentricity  \\\n",
       "0  0.004776  -0.457490          -0.604086           0.939770     -1.410648   \n",
       "1  0.586138   0.205909           0.026889           1.186828     -0.782547   \n",
       "2  0.862097   0.967842           1.016327           0.288689      0.858182   \n",
       "3 -0.167266  -0.004978           0.383800          -0.876895      1.083647   \n",
       "4 -0.449575  -0.717630          -0.868081           0.371062     -1.264126   \n",
       "\n",
       "   Convex_Area    Extent  Class  \n",
       "0    -0.036864  0.379499      1  \n",
       "1     0.558047 -0.458678      1  \n",
       "2     0.830456 -0.880272      0  \n",
       "3    -0.215280 -1.364381      1  \n",
       "4    -0.472493 -0.660228      1  "
      ]
     },
     "execution_count": 59,
     "metadata": {},
     "output_type": "execute_result"
    }
   ],
   "source": [
    "# we shuffle the original data, to destroy any kind of sorting it could have\n",
    "shuffle_df = df_scaled.sample(frac=1).reset_index(drop=True)\n",
    "shuffle_df.head()"
   ]
  },
  {
   "cell_type": "code",
   "execution_count": 63,
   "metadata": {},
   "outputs": [
    {
     "data": {
      "text/html": [
       "<div>\n",
       "<style scoped>\n",
       "    .dataframe tbody tr th:only-of-type {\n",
       "        vertical-align: middle;\n",
       "    }\n",
       "\n",
       "    .dataframe tbody tr th {\n",
       "        vertical-align: top;\n",
       "    }\n",
       "\n",
       "    .dataframe thead th {\n",
       "        text-align: right;\n",
       "    }\n",
       "</style>\n",
       "<table border=\"1\" class=\"dataframe\">\n",
       "  <thead>\n",
       "    <tr style=\"text-align: right;\">\n",
       "      <th></th>\n",
       "      <th>Area</th>\n",
       "      <th>Perimeter</th>\n",
       "      <th>Major_Axis_Length</th>\n",
       "      <th>Minor_Axis_Length</th>\n",
       "      <th>Eccentricity</th>\n",
       "      <th>Convex_Area</th>\n",
       "      <th>Extent</th>\n",
       "      <th>Class</th>\n",
       "    </tr>\n",
       "  </thead>\n",
       "  <tbody>\n",
       "    <tr>\n",
       "      <th>count</th>\n",
       "      <td>3.810000e+03</td>\n",
       "      <td>3.810000e+03</td>\n",
       "      <td>3.810000e+03</td>\n",
       "      <td>3.810000e+03</td>\n",
       "      <td>3.810000e+03</td>\n",
       "      <td>3.810000e+03</td>\n",
       "      <td>3.810000e+03</td>\n",
       "      <td>3810.000000</td>\n",
       "    </tr>\n",
       "    <tr>\n",
       "      <th>mean</th>\n",
       "      <td>4.102871e-17</td>\n",
       "      <td>-1.454654e-16</td>\n",
       "      <td>-5.408331e-17</td>\n",
       "      <td>-5.501578e-16</td>\n",
       "      <td>5.949164e-16</td>\n",
       "      <td>-4.625055e-16</td>\n",
       "      <td>-4.904796e-16</td>\n",
       "      <td>0.572178</td>\n",
       "    </tr>\n",
       "    <tr>\n",
       "      <th>std</th>\n",
       "      <td>1.000131e+00</td>\n",
       "      <td>1.000131e+00</td>\n",
       "      <td>1.000131e+00</td>\n",
       "      <td>1.000131e+00</td>\n",
       "      <td>1.000131e+00</td>\n",
       "      <td>1.000131e+00</td>\n",
       "      <td>1.000131e+00</td>\n",
       "      <td>0.494828</td>\n",
       "    </tr>\n",
       "    <tr>\n",
       "      <th>min</th>\n",
       "      <td>-2.953991e+00</td>\n",
       "      <td>-2.673019e+00</td>\n",
       "      <td>-2.494027e+00</td>\n",
       "      <td>-4.674645e+00</td>\n",
       "      <td>-5.267280e+00</td>\n",
       "      <td>-2.943312e+00</td>\n",
       "      <td>-2.130313e+00</td>\n",
       "      <td>0.000000</td>\n",
       "    </tr>\n",
       "    <tr>\n",
       "      <th>25%</th>\n",
       "      <td>-7.489160e-01</td>\n",
       "      <td>-7.893376e-01</td>\n",
       "      <td>-8.266678e-01</td>\n",
       "      <td>-6.252425e-01</td>\n",
       "      <td>-6.951263e-01</td>\n",
       "      <td>-7.464501e-01</td>\n",
       "      <td>-8.166890e-01</td>\n",
       "      <td>0.000000</td>\n",
       "    </tr>\n",
       "    <tr>\n",
       "      <th>50%</th>\n",
       "      <td>-1.421522e-01</td>\n",
       "      <td>-1.513437e-01</td>\n",
       "      <td>-1.700159e-01</td>\n",
       "      <td>2.110226e-02</td>\n",
       "      <td>1.047129e-01</td>\n",
       "      <td>-1.384541e-01</td>\n",
       "      <td>-2.145916e-01</td>\n",
       "      <td>1.000000</td>\n",
       "    </tr>\n",
       "    <tr>\n",
       "      <th>75%</th>\n",
       "      <td>7.402821e-01</td>\n",
       "      <td>8.272709e-01</td>\n",
       "      <td>8.468352e-01</td>\n",
       "      <td>6.685081e-01</td>\n",
       "      <td>7.551068e-01</td>\n",
       "      <td>7.494085e-01</td>\n",
       "      <td>8.368337e-01</td>\n",
       "      <td>1.000000</td>\n",
       "    </tr>\n",
       "    <tr>\n",
       "      <th>max</th>\n",
       "      <td>3.605523e+00</td>\n",
       "      <td>2.646823e+00</td>\n",
       "      <td>2.879351e+00</td>\n",
       "      <td>3.705439e+00</td>\n",
       "      <td>2.937147e+00</td>\n",
       "      <td>3.459430e+00</td>\n",
       "      <td>2.578260e+00</td>\n",
       "      <td>1.000000</td>\n",
       "    </tr>\n",
       "  </tbody>\n",
       "</table>\n",
       "</div>"
      ],
      "text/plain": [
       "               Area     Perimeter  Major_Axis_Length  Minor_Axis_Length  \\\n",
       "count  3.810000e+03  3.810000e+03       3.810000e+03       3.810000e+03   \n",
       "mean   4.102871e-17 -1.454654e-16      -5.408331e-17      -5.501578e-16   \n",
       "std    1.000131e+00  1.000131e+00       1.000131e+00       1.000131e+00   \n",
       "min   -2.953991e+00 -2.673019e+00      -2.494027e+00      -4.674645e+00   \n",
       "25%   -7.489160e-01 -7.893376e-01      -8.266678e-01      -6.252425e-01   \n",
       "50%   -1.421522e-01 -1.513437e-01      -1.700159e-01       2.110226e-02   \n",
       "75%    7.402821e-01  8.272709e-01       8.468352e-01       6.685081e-01   \n",
       "max    3.605523e+00  2.646823e+00       2.879351e+00       3.705439e+00   \n",
       "\n",
       "       Eccentricity   Convex_Area        Extent        Class  \n",
       "count  3.810000e+03  3.810000e+03  3.810000e+03  3810.000000  \n",
       "mean   5.949164e-16 -4.625055e-16 -4.904796e-16     0.572178  \n",
       "std    1.000131e+00  1.000131e+00  1.000131e+00     0.494828  \n",
       "min   -5.267280e+00 -2.943312e+00 -2.130313e+00     0.000000  \n",
       "25%   -6.951263e-01 -7.464501e-01 -8.166890e-01     0.000000  \n",
       "50%    1.047129e-01 -1.384541e-01 -2.145916e-01     1.000000  \n",
       "75%    7.551068e-01  7.494085e-01  8.368337e-01     1.000000  \n",
       "max    2.937147e+00  3.459430e+00  2.578260e+00     1.000000  "
      ]
     },
     "execution_count": 63,
     "metadata": {},
     "output_type": "execute_result"
    }
   ],
   "source": [
    "shuffle_df.describe()"
   ]
  },
  {
   "cell_type": "code",
   "execution_count": 60,
   "metadata": {},
   "outputs": [
    {
     "data": {
      "text/plain": [
       "(3810, 8)"
      ]
     },
     "execution_count": 60,
     "metadata": {},
     "output_type": "execute_result"
    }
   ],
   "source": [
    "shuffle_df.shape"
   ]
  },
  {
   "cell_type": "code",
   "execution_count": 62,
   "metadata": {},
   "outputs": [],
   "source": [
    "# write preprocessed, normalized and shuffeld data to csv file\n",
    "shuffle_df.to_csv(\"A2-Rice/rice-preprocessed.csv\", index=False)\n"
   ]
  },
  {
   "cell_type": "code",
   "execution_count": null,
   "metadata": {},
   "outputs": [],
   "source": []
  }
 ],
 "metadata": {
  "kernelspec": {
   "display_name": "Python 3",
   "language": "python",
   "name": "python3"
  },
  "language_info": {
   "codemirror_mode": {
    "name": "ipython",
    "version": 3
   },
   "file_extension": ".py",
   "mimetype": "text/x-python",
   "name": "python",
   "nbconvert_exporter": "python",
   "pygments_lexer": "ipython3",
   "version": "3.11.6"
  }
 },
 "nbformat": 4,
 "nbformat_minor": 2
}
